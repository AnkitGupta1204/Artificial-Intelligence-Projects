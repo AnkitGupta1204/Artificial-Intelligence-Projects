{
  "cells": [
    {
      "cell_type": "markdown",
      "metadata": {
        "id": "view-in-github",
        "colab_type": "text"
      },
      "source": [
        "<a href=\"https://colab.research.google.com/github/AnkitGupta1204/Artificial-Intelligence-Projects/blob/main/Ankit_A3C_for_Kung_Fu.ipynb\" target=\"_parent\"><img src=\"https://colab.research.google.com/assets/colab-badge.svg\" alt=\"Open In Colab\"/></a>"
      ]
    },
    {
      "cell_type": "markdown",
      "source": [
        "# A3C for Kung Fu"
      ],
      "metadata": {
        "id": "dIo6Zkp7U1Hq"
      }
    },
    {
      "cell_type": "markdown",
      "source": [
        "## Part 0 - Installing the required packages and importing the libraries"
      ],
      "metadata": {
        "id": "pz8ogVxGVB6b"
      }
    },
    {
      "cell_type": "markdown",
      "source": [
        "### Installing Gymnasium"
      ],
      "metadata": {
        "id": "CqN2IEX1VKzi"
      }
    },
    {
      "cell_type": "code",
      "execution_count": null,
      "metadata": {
        "id": "dbnq3XpoKa_7",
        "colab": {
          "base_uri": "https://localhost:8080/"
        },
        "outputId": "f748bace-6900-403d-a339-46ca7ebe6976"
      },
      "outputs": [
        {
          "output_type": "stream",
          "name": "stdout",
          "text": [
            "Requirement already satisfied: gymnasium in /usr/local/lib/python3.11/dist-packages (1.1.0)\n",
            "Requirement already satisfied: numpy>=1.21.0 in /usr/local/lib/python3.11/dist-packages (from gymnasium) (1.26.4)\n",
            "Requirement already satisfied: cloudpickle>=1.2.0 in /usr/local/lib/python3.11/dist-packages (from gymnasium) (3.1.1)\n",
            "Requirement already satisfied: typing-extensions>=4.3.0 in /usr/local/lib/python3.11/dist-packages (from gymnasium) (4.12.2)\n",
            "Requirement already satisfied: farama-notifications>=0.0.1 in /usr/local/lib/python3.11/dist-packages (from gymnasium) (0.0.4)\n",
            "Requirement already satisfied: gymnasium[accept-rom-license,atari] in /usr/local/lib/python3.11/dist-packages (1.1.0)\n",
            "\u001b[33mWARNING: gymnasium 1.1.0 does not provide the extra 'accept-rom-license'\u001b[0m\u001b[33m\n",
            "\u001b[0mRequirement already satisfied: numpy>=1.21.0 in /usr/local/lib/python3.11/dist-packages (from gymnasium[accept-rom-license,atari]) (1.26.4)\n",
            "Requirement already satisfied: cloudpickle>=1.2.0 in /usr/local/lib/python3.11/dist-packages (from gymnasium[accept-rom-license,atari]) (3.1.1)\n",
            "Requirement already satisfied: typing-extensions>=4.3.0 in /usr/local/lib/python3.11/dist-packages (from gymnasium[accept-rom-license,atari]) (4.12.2)\n",
            "Requirement already satisfied: farama-notifications>=0.0.1 in /usr/local/lib/python3.11/dist-packages (from gymnasium[accept-rom-license,atari]) (0.0.4)\n",
            "Requirement already satisfied: ale_py>=0.9 in /usr/local/lib/python3.11/dist-packages (from gymnasium[accept-rom-license,atari]) (0.10.2)\n",
            "Requirement already satisfied: ale-py in /usr/local/lib/python3.11/dist-packages (0.10.2)\n",
            "Requirement already satisfied: numpy>1.20 in /usr/local/lib/python3.11/dist-packages (from ale-py) (1.26.4)\n",
            "Reading package lists... Done\n",
            "Building dependency tree... Done\n",
            "Reading state information... Done\n",
            "The following additional packages will be installed:\n",
            "  swig4.0\n",
            "Suggested packages:\n",
            "  swig-doc swig-examples swig4.0-examples swig4.0-doc\n",
            "The following NEW packages will be installed:\n",
            "  swig swig4.0\n",
            "0 upgraded, 2 newly installed, 0 to remove and 29 not upgraded.\n",
            "Need to get 1,116 kB of archives.\n",
            "After this operation, 5,542 kB of additional disk space will be used.\n",
            "Get:1 http://archive.ubuntu.com/ubuntu jammy/universe amd64 swig4.0 amd64 4.0.2-1ubuntu1 [1,110 kB]\n",
            "Get:2 http://archive.ubuntu.com/ubuntu jammy/universe amd64 swig all 4.0.2-1ubuntu1 [5,632 B]\n",
            "Fetched 1,116 kB in 2s (521 kB/s)\n",
            "Selecting previously unselected package swig4.0.\n",
            "(Reading database ... 124947 files and directories currently installed.)\n",
            "Preparing to unpack .../swig4.0_4.0.2-1ubuntu1_amd64.deb ...\n",
            "Unpacking swig4.0 (4.0.2-1ubuntu1) ...\n",
            "Selecting previously unselected package swig.\n",
            "Preparing to unpack .../swig_4.0.2-1ubuntu1_all.deb ...\n",
            "Unpacking swig (4.0.2-1ubuntu1) ...\n",
            "Setting up swig4.0 (4.0.2-1ubuntu1) ...\n",
            "Setting up swig (4.0.2-1ubuntu1) ...\n",
            "Processing triggers for man-db (2.10.2-1) ...\n",
            "Requirement already satisfied: gymnasium[box2d] in /usr/local/lib/python3.11/dist-packages (1.1.0)\n",
            "Requirement already satisfied: numpy>=1.21.0 in /usr/local/lib/python3.11/dist-packages (from gymnasium[box2d]) (1.26.4)\n",
            "Requirement already satisfied: cloudpickle>=1.2.0 in /usr/local/lib/python3.11/dist-packages (from gymnasium[box2d]) (3.1.1)\n",
            "Requirement already satisfied: typing-extensions>=4.3.0 in /usr/local/lib/python3.11/dist-packages (from gymnasium[box2d]) (4.12.2)\n",
            "Requirement already satisfied: farama-notifications>=0.0.1 in /usr/local/lib/python3.11/dist-packages (from gymnasium[box2d]) (0.0.4)\n",
            "Collecting box2d-py==2.3.5 (from gymnasium[box2d])\n",
            "  Downloading box2d-py-2.3.5.tar.gz (374 kB)\n",
            "\u001b[2K     \u001b[90m━━━━━━━━━━━━━━━━━━━━━━━━━━━━━━━━━━━━━━━━\u001b[0m \u001b[32m374.4/374.4 kB\u001b[0m \u001b[31m24.5 MB/s\u001b[0m eta \u001b[36m0:00:00\u001b[0m\n",
            "\u001b[?25h  Preparing metadata (setup.py) ... \u001b[?25l\u001b[?25hdone\n",
            "Requirement already satisfied: pygame>=2.1.3 in /usr/local/lib/python3.11/dist-packages (from gymnasium[box2d]) (2.6.1)\n",
            "Collecting swig==4.* (from gymnasium[box2d])\n",
            "  Downloading swig-4.3.0-py2.py3-none-manylinux_2_5_x86_64.manylinux1_x86_64.whl.metadata (3.5 kB)\n",
            "Downloading swig-4.3.0-py2.py3-none-manylinux_2_5_x86_64.manylinux1_x86_64.whl (1.9 MB)\n",
            "\u001b[2K   \u001b[90m━━━━━━━━━━━━━━━━━━━━━━━━━━━━━━━━━━━━━━━━\u001b[0m \u001b[32m1.9/1.9 MB\u001b[0m \u001b[31m81.7 MB/s\u001b[0m eta \u001b[36m0:00:00\u001b[0m\n",
            "\u001b[?25hBuilding wheels for collected packages: box2d-py\n",
            "  Building wheel for box2d-py (setup.py) ... \u001b[?25l\u001b[?25hdone\n",
            "  Created wheel for box2d-py: filename=box2d_py-2.3.5-cp311-cp311-linux_x86_64.whl size=2351227 sha256=577b9a8c8ee125e4371bd60fee14419239f656075095ffcf9a59755581f83786\n",
            "  Stored in directory: /root/.cache/pip/wheels/ab/f1/0c/d56f4a2bdd12bae0a0693ec33f2f0daadb5eb9753c78fa5308\n",
            "Successfully built box2d-py\n",
            "Installing collected packages: swig, box2d-py\n",
            "Successfully installed box2d-py-2.3.5 swig-4.3.0\n"
          ]
        }
      ],
      "source": [
        "!pip install gymnasium\n",
        "!pip install \"gymnasium[atari, accept-rom-license]\"\n",
        "!pip install ale-py\n",
        "!apt-get install -y swig\n",
        "!pip install gymnasium[box2d]"
      ]
    },
    {
      "cell_type": "markdown",
      "source": [
        "### Importing the libraries"
      ],
      "metadata": {
        "id": "BrsNHNQqVZLK"
      }
    },
    {
      "cell_type": "code",
      "execution_count": null,
      "metadata": {
        "id": "Ho_25-9_9qnu"
      },
      "outputs": [],
      "source": [
        "import cv2\n",
        "import math\n",
        "import random\n",
        "import numpy as np\n",
        "import torch\n",
        "import torch.nn as nn\n",
        "import torch.optim as optim\n",
        "import torch.nn.functional as F\n",
        "import torch.multiprocessing as mp\n",
        "import torch.distributions as distributions\n",
        "from torch.distributions import Categorical\n",
        "import ale_py\n",
        "import gymnasium as gym\n",
        "from gymnasium.spaces import Box\n",
        "from gymnasium import ObservationWrapper"
      ]
    },
    {
      "cell_type": "markdown",
      "source": [
        "## Part 1 - Building the AI"
      ],
      "metadata": {
        "id": "VF6EFSGUVlk2"
      }
    },
    {
      "cell_type": "markdown",
      "source": [
        "### Creating the architecture of the Neural Network"
      ],
      "metadata": {
        "id": "qyNc8cxbZCYP"
      }
    },
    {
      "cell_type": "code",
      "source": [
        "class Network(nn.Module):\n",
        "\n",
        "  def __init__(self, action_size):\n",
        "    super(Network, self).__init__()\n",
        "    self.conv1 = torch.nn.Conv2d(in_channels = 4,  out_channels = 32, kernel_size = (3,3), stride = 2)\n",
        "    self.conv2 = torch.nn.Conv2d(in_channels = 32, out_channels = 32, kernel_size = (3,3), stride = 2)\n",
        "    self.conv3 = torch.nn.Conv2d(in_channels = 32, out_channels = 32, kernel_size = (3,3), stride = 2)\n",
        "    self.flatten = torch.nn.Flatten()\n",
        "    self.fc1  = torch.nn.Linear(512, 128)\n",
        "    self.fc2a = torch.nn.Linear(128, action_size)\n",
        "    self.fc2s = torch.nn.Linear(128, 1)\n",
        "\n",
        "  def forward(self, state):\n",
        "    x = self.conv1(state)\n",
        "    x = F.relu(x)\n",
        "    x = self.conv2(x)\n",
        "    x = F.relu(x)\n",
        "    x = self.conv3(x)\n",
        "    x = F.relu(x)\n",
        "    x = self.flatten(x)\n",
        "    x = self.fc1(x)\n",
        "    x = F.relu(x)\n",
        "    action_values = self.fc2a(x)\n",
        "    state_value = self.fc2s(x)[0]\n",
        "    return action_values, state_value"
      ],
      "metadata": {
        "id": "Li-81yx6Q1yT"
      },
      "execution_count": null,
      "outputs": []
    },
    {
      "cell_type": "markdown",
      "source": [
        "## Part 2 - Training the AI"
      ],
      "metadata": {
        "id": "eF5bETqbZbCG"
      }
    },
    {
      "cell_type": "markdown",
      "source": [
        "### Setting up the environment"
      ],
      "metadata": {
        "id": "3C2ydyKLZgaK"
      }
    },
    {
      "cell_type": "code",
      "source": [
        "class PreprocessAtari(ObservationWrapper):\n",
        "\n",
        "  def __init__(self, env, height = 42, width = 42, crop = lambda img: img, dim_order = 'pytorch', color = False, n_frames = 4):\n",
        "    super(PreprocessAtari, self).__init__(env)\n",
        "    self.img_size = (height, width)\n",
        "    self.crop = crop\n",
        "    self.dim_order = dim_order\n",
        "    self.color = color\n",
        "    self.frame_stack = n_frames\n",
        "    n_channels = 3 * n_frames if color else n_frames\n",
        "    obs_shape = {'tensorflow': (height, width, n_channels), 'pytorch': (n_channels, height, width)}[dim_order]\n",
        "    self.observation_space = Box(0.0, 1.0, obs_shape)\n",
        "    self.frames = np.zeros(obs_shape, dtype = np.float32)\n",
        "\n",
        "  def reset(self):\n",
        "    self.frames = np.zeros_like(self.frames)\n",
        "    obs, info = self.env.reset()\n",
        "    self.update_buffer(obs)\n",
        "    return self.frames, info\n",
        "\n",
        "  def observation(self, img):\n",
        "    img = self.crop(img)\n",
        "    img = cv2.resize(img, self.img_size)\n",
        "    if not self.color:\n",
        "      if len(img.shape) == 3 and img.shape[2] == 3:\n",
        "        img = cv2.cvtColor(img, cv2.COLOR_BGR2GRAY)\n",
        "    img = img.astype('float32') / 255.\n",
        "    if self.color:\n",
        "      self.frames = np.roll(self.frames, shift = -3, axis = 0)\n",
        "    else:\n",
        "      self.frames = np.roll(self.frames, shift = -1, axis = 0)\n",
        "    if self.color:\n",
        "      self.frames[-3:] = img\n",
        "    else:\n",
        "      self.frames[-1] = img\n",
        "    return self.frames\n",
        "\n",
        "  def update_buffer(self, obs):\n",
        "    self.frames = self.observation(obs)\n",
        "\n",
        "def make_env():\n",
        "  env = gym.make(\"KungFuMasterDeterministic-v0\", render_mode = 'rgb_array')\n",
        "  env = PreprocessAtari(env, height = 42, width = 42, crop = lambda img: img, dim_order = 'pytorch', color = False, n_frames = 4)\n",
        "  return env\n",
        "\n",
        "env = make_env()\n",
        "\n",
        "state_shape = env.observation_space.shape\n",
        "number_actions = env.action_space.n\n",
        "print(\"State shape:\", state_shape)\n",
        "print(\"Number actions:\", number_actions)\n",
        "print(\"Action names:\", env.env.env.env.get_action_meanings())"
      ],
      "metadata": {
        "colab": {
          "base_uri": "https://localhost:8080/"
        },
        "id": "gF756uIhRVcK",
        "outputId": "9938766c-8f25-47e7-fd9b-cf3fca819760"
      },
      "execution_count": null,
      "outputs": [
        {
          "output_type": "stream",
          "name": "stderr",
          "text": [
            "/usr/local/lib/python3.11/dist-packages/gymnasium/envs/registration.py:519: DeprecationWarning: \u001b[33mWARN: The environment KungFuMasterDeterministic-v0 is out of date. You should consider upgrading to version `v4`.\u001b[0m\n",
            "  logger.deprecation(\n"
          ]
        },
        {
          "output_type": "stream",
          "name": "stdout",
          "text": [
            "State shape: (4, 42, 42)\n",
            "Number actions: 14\n",
            "Action names: ['NOOP', 'UP', 'RIGHT', 'LEFT', 'DOWN', 'DOWNRIGHT', 'DOWNLEFT', 'RIGHTFIRE', 'LEFTFIRE', 'DOWNFIRE', 'UPRIGHTFIRE', 'UPLEFTFIRE', 'DOWNRIGHTFIRE', 'DOWNLEFTFIRE']\n"
          ]
        }
      ]
    },
    {
      "cell_type": "markdown",
      "source": [
        "### Initializing the hyperparameters"
      ],
      "metadata": {
        "id": "YgRlooBmC1hr"
      }
    },
    {
      "cell_type": "code",
      "source": [
        "learning_rate = 1e-4\n",
        "discount_factor = 0.99\n",
        "number_environments = 10"
      ],
      "metadata": {
        "id": "aEbLX_19WIgq"
      },
      "execution_count": null,
      "outputs": []
    },
    {
      "cell_type": "markdown",
      "source": [
        "### Implementing the A3C class"
      ],
      "metadata": {
        "id": "Gg_LmSs9IoTX"
      }
    },
    {
      "cell_type": "code",
      "source": [
        "class Agent():\n",
        "\n",
        "  def __init__(self, action_size):\n",
        "    self.device = torch.device(\"cuda:0\" if torch.cuda.is_available() else \"cpu\")\n",
        "    self.action_size = action_size\n",
        "    self.network = Network(action_size).to(self.device)\n",
        "    self.optimizer = torch.optim.Adam(self.network.parameters(), lr = learning_rate)\n",
        "\n",
        "  def act(self, state):\n",
        "    if state.ndim == 3:\n",
        "      state = [state]\n",
        "    state = torch.tensor(state, dtype = torch.float32, device = self.device)\n",
        "    action_values, _ = self.network(state)\n",
        "    policy = F.softmax(action_values, dim = -1)\n",
        "    return np.array([np.random.choice(len(p), p = p) for p in policy.detach().cpu().numpy()])\n",
        "\n",
        "  def step(self, state, action, reward, next_state, done):\n",
        "    batch_size = state.shape[0]\n",
        "    state = torch.tensor(state, dtype = torch.float32, device = self.device)\n",
        "    next_state = torch.tensor(next_state, dtype = torch.float32, device = self.device)\n",
        "    reward = torch.tensor(reward, dtype = torch.float32, device = self.device)\n",
        "    done = torch.tensor(done, dtype = torch.bool, device = self.device).to(dtype = torch.float32)\n",
        "    action_values, state_value = self.network(state)\n",
        "    _, next_state_value = self.network(next_state)\n",
        "    target_state_value = reward + discount_factor * next_state_value * (1 - done)\n",
        "    advantage = target_state_value - state_value\n",
        "    probs = F.softmax(action_values, dim = -1)\n",
        "    logprobs = F.log_softmax(action_values, dim = -1)\n",
        "    entropy = -torch.sum(probs * logprobs, axis = -1)\n",
        "    batch_idx = np.arange(batch_size)\n",
        "    logp_actions = logprobs[batch_idx, action]\n",
        "    actor_loss = -(logp_actions * advantage.detach()).mean() - 0.001 * entropy.mean()\n",
        "    critic_loss = F.mse_loss(target_state_value.detach(), state_value)\n",
        "    total_loss = actor_loss + critic_loss\n",
        "    self.optimizer.zero_grad()\n",
        "    total_loss.backward()\n",
        "    self.optimizer.step()"
      ],
      "metadata": {
        "id": "3hXkKUTDyHn8"
      },
      "execution_count": null,
      "outputs": []
    },
    {
      "cell_type": "markdown",
      "source": [
        "### Initializing the A3C agent"
      ],
      "metadata": {
        "id": "7RnRukHDKFJ0"
      }
    },
    {
      "cell_type": "code",
      "source": [
        "agent = Agent(number_actions)"
      ],
      "metadata": {
        "id": "bpEb3MUwz3bL"
      },
      "execution_count": null,
      "outputs": []
    },
    {
      "cell_type": "markdown",
      "source": [
        "### Evaluating our A3C agent on a single episode"
      ],
      "metadata": {
        "id": "oB5SpmoKP0aK"
      }
    },
    {
      "cell_type": "code",
      "source": [
        "def evaluate(agent, env, n_episodes = 1):\n",
        "  episodes_rewards = []\n",
        "  for _ in range(n_episodes):\n",
        "    state, _ = env.reset()\n",
        "    total_reward = 0\n",
        "    while True:\n",
        "      action = agent.act(state)\n",
        "      state, reward, done, info, _ = env.step(action[0])\n",
        "      total_reward += reward\n",
        "      if done:\n",
        "        break\n",
        "    episodes_rewards.append(total_reward)\n",
        "  return episodes_rewards"
      ],
      "metadata": {
        "id": "kdFNmU6r0-cE"
      },
      "execution_count": null,
      "outputs": []
    },
    {
      "cell_type": "markdown",
      "source": [
        "### Testing multiple agents on multiple environments at the same time"
      ],
      "metadata": {
        "id": "jVSqiyjiQeMd"
      }
    },
    {
      "cell_type": "code",
      "source": [
        "class EnvBatch:\n",
        "\n",
        "  def __init__(self, n_envs = 10):\n",
        "    self.envs = [make_env() for _ in range(n_envs)]\n",
        "\n",
        "  def reset(self):\n",
        "    _states = []\n",
        "    for env in self.envs:\n",
        "      _states.append(env.reset()[0])\n",
        "    return np.array(_states)\n",
        "\n",
        "  def step(self, actions):\n",
        "    next_states, rewards, dones, infos, _ = map(np.array, zip(*[env.step(a) for env, a in zip(self.envs, actions)]))\n",
        "    for i in range(len(self.envs)):\n",
        "      if dones[i]:\n",
        "        next_states[i] = self.envs[i].reset()[0]\n",
        "    return next_states, rewards, dones, infos"
      ],
      "metadata": {
        "id": "k9p5DqcY1vOl"
      },
      "execution_count": null,
      "outputs": []
    },
    {
      "cell_type": "markdown",
      "source": [
        "### Training the A3C agent"
      ],
      "metadata": {
        "id": "69WZWB4oRx1P"
      }
    },
    {
      "cell_type": "code",
      "source": [
        "import tqdm\n",
        "\n",
        "env_batch = EnvBatch(number_environments)\n",
        "batch_states = env_batch.reset()\n",
        "\n",
        "with tqdm.trange(0, 3001) as progress_bar:\n",
        "  for i in progress_bar:\n",
        "    batch_actions = agent.act(batch_states)\n",
        "    batch_next_states, batch_rewards, batch_dones, _ = env_batch.step(batch_actions)\n",
        "    batch_rewards *= 0.01\n",
        "    agent.step(batch_states, batch_actions, batch_rewards, batch_next_states, batch_dones)\n",
        "    batch_states = batch_next_states\n",
        "    if i % 1000 == 0:\n",
        "      print(\"Average agent reward: \", np.mean(evaluate(agent, env, n_episodes = 10)))"
      ],
      "metadata": {
        "colab": {
          "base_uri": "https://localhost:8080/"
        },
        "id": "YgR4yp7X1szi",
        "outputId": "c61d7a00-95bb-42cf-d6d8-5a0ec049c278"
      },
      "execution_count": null,
      "outputs": [
        {
          "output_type": "stream",
          "name": "stderr",
          "text": [
            "/usr/local/lib/python3.11/dist-packages/gymnasium/envs/registration.py:519: DeprecationWarning: \u001b[33mWARN: The environment KungFuMasterDeterministic-v0 is out of date. You should consider upgrading to version `v4`.\u001b[0m\n",
            "  logger.deprecation(\n",
            "  0%|          | 0/3001 [00:00<?, ?it/s]<ipython-input-7-0725e4aa1061>:33: UserWarning: Using a target size (torch.Size([1])) that is different to the input size (torch.Size([10])). This will likely lead to incorrect results due to broadcasting. Please ensure they have the same size.\n",
            "  critic_loss = F.mse_loss(target_state_value.detach(), state_value)\n",
            "<ipython-input-7-0725e4aa1061>:12: UserWarning: Creating a tensor from a list of numpy.ndarrays is extremely slow. Please consider converting the list to a single numpy.ndarray with numpy.array() before converting to a tensor. (Triggered internally at ../torch/csrc/utils/tensor_new.cpp:278.)\n",
            "  state = torch.tensor(state, dtype = torch.float32, device = self.device)\n",
            "  0%|          | 9/3001 [00:32<2:12:27,  2.66s/it] "
          ]
        },
        {
          "output_type": "stream",
          "name": "stdout",
          "text": [
            "Average agent reward:  410.0\n"
          ]
        },
        {
          "output_type": "stream",
          "name": "stderr",
          "text": [
            " 34%|███▎      | 1009/3001 [01:18<32:54,  1.01it/s]"
          ]
        },
        {
          "output_type": "stream",
          "name": "stdout",
          "text": [
            "Average agent reward:  670.0\n"
          ]
        },
        {
          "output_type": "stream",
          "name": "stderr",
          "text": [
            " 67%|██████▋   | 2009/3001 [02:03<16:53,  1.02s/it]"
          ]
        },
        {
          "output_type": "stream",
          "name": "stdout",
          "text": [
            "Average agent reward:  760.0\n"
          ]
        },
        {
          "output_type": "stream",
          "name": "stderr",
          "text": [
            "100%|██████████| 3001/3001 [02:45<00:00, 18.18it/s]"
          ]
        },
        {
          "output_type": "stream",
          "name": "stdout",
          "text": [
            "Average agent reward:  680.0\n"
          ]
        },
        {
          "output_type": "stream",
          "name": "stderr",
          "text": [
            "\n"
          ]
        }
      ]
    },
    {
      "cell_type": "markdown",
      "source": [
        "## Part 3 - Visualizing the results"
      ],
      "metadata": {
        "id": "7kG_YR9YdmUM"
      }
    },
    {
      "cell_type": "code",
      "source": [
        "import glob\n",
        "import io\n",
        "import base64\n",
        "import imageio\n",
        "from IPython.display import HTML, display\n",
        "\n",
        "def show_video_of_model(agent, env):\n",
        "  state, _ = env.reset()\n",
        "  done = False\n",
        "  frames = []\n",
        "  while not done:\n",
        "    frame = env.render()\n",
        "    frames.append(frame)\n",
        "    action = agent.act(state)\n",
        "    state, reward, done, _, _ = env.step(action[0])\n",
        "  env.close()\n",
        "  imageio.mimsave('video.mp4', frames, fps=30)\n",
        "\n",
        "show_video_of_model(agent, env)\n",
        "\n",
        "def show_video():\n",
        "    mp4list = glob.glob('*.mp4')\n",
        "    if len(mp4list) > 0:\n",
        "        mp4 = mp4list[0]\n",
        "        video = io.open(mp4, 'r+b').read()\n",
        "        encoded = base64.b64encode(video)\n",
        "        display(HTML(data='''<video alt=\"test\" autoplay\n",
        "                loop controls style=\"height: 400px;\">\n",
        "                <source src=\"data:video/mp4;base64,{0}\" type=\"video/mp4\" />\n",
        "             </video>'''.format(encoded.decode('ascii'))))\n",
        "    else:\n",
        "        print(\"Could not find video\")\n",
        "\n",
        "show_video()"
      ],
      "metadata": {
        "id": "UGkTuO6DxZ6B",
        "colab": {
          "base_uri": "https://localhost:8080/",
          "height": 459
        },
        "outputId": "dde8bcc0-ea05-47cb-e939-4f20aaf78077"
      },
      "execution_count": null,
      "outputs": [
        {
          "output_type": "stream",
          "name": "stderr",
          "text": [
            "WARNING:imageio_ffmpeg:IMAGEIO FFMPEG_WRITER WARNING: input image is not divisible by macro_block_size=16, resizing from (160, 210) to (160, 224) to ensure video compatibility with most codecs and players. To prevent resizing, make your input image divisible by the macro_block_size or set the macro_block_size to 1 (risking incompatibility).\n"
          ]
        },
        {
          "output_type": "display_data",
          "data": {
            "text/plain": [
              "<IPython.core.display.HTML object>"
            ],
            "text/html": [
              "<video alt=\"test\" autoplay\n",
              "                loop controls style=\"height: 400px;\">\n",
              "                <source src=\"data:video/mp4;base64,AAAAIGZ0eXBpc29tAAACAGlzb21pc28yYXZjMW1wNDEAAAAIZnJlZQABEsNtZGF0AAACrgYF//+q3EXpvebZSLeWLNgg2SPu73gyNjQgLSBjb3JlIDE2NCByMzE5MSA0NjEzYWMzIC0gSC4yNjQvTVBFRy00IEFWQyBjb2RlYyAtIENvcHlsZWZ0IDIwMDMtMjAyNCAtIGh0dHA6Ly93d3cudmlkZW9sYW4ub3JnL3gyNjQuaHRtbCAtIG9wdGlvbnM6IGNhYmFjPTEgcmVmPTMgZGVibG9jaz0xOjA6MCBhbmFseXNlPTB4MzoweDExMyBtZT1oZXggc3VibWU9NyBwc3k9MSBwc3lfcmQ9MS4wMDowLjAwIG1peGVkX3JlZj0xIG1lX3JhbmdlPTE2IGNocm9tYV9tZT0xIHRyZWxsaXM9MSA4eDhkY3Q9MSBjcW09MCBkZWFkem9uZT0yMSwxMSBmYXN0X3Bza2lwPTEgY2hyb21hX3FwX29mZnNldD0tMiB0aHJlYWRzPTMgbG9va2FoZWFkX3RocmVhZHM9MSBzbGljZWRfdGhyZWFkcz0wIG5yPTAgZGVjaW1hdGU9MSBpbnRlcmxhY2VkPTAgYmx1cmF5X2NvbXBhdD0wIGNvbnN0cmFpbmVkX2ludHJhPTAgYmZyYW1lcz0zIGJfcHlyYW1pZD0yIGJfYWRhcHQ9MSBiX2JpYXM9MCBkaXJlY3Q9MSB3ZWlnaHRiPTEgb3Blbl9nb3A9MCB3ZWlnaHRwPTIga2V5aW50PTI1MCBrZXlpbnRfbWluPTI1IHNjZW5lY3V0PTQwIGludHJhX3JlZnJlc2g9MCByY19sb29rYWhlYWQ9NDAgcmM9Y3JmIG1idHJlZT0xIGNyZj0yMy4wIHFjb21wPTAuNjAgcXBtaW49MCBxcG1heD02OSBxcHN0ZXA9NCBpcF9yYXRpbz0xLjQwIGFxPTE6MS4wMACAAAAKuGWIhAP/8SONL/f7+B5Zh3NQeDHX7vyxJ3b8H9t3KH038RPSba6PEsp8b2FHvFDPSX33r/CvRKZgjYllZx+ZCa5mW7eGjd/4OlFC7eRvZpQUrWAZVstvka6GaixZIgEHxElA1m6B+egUMtUtAeXbi7+uRyDZ41RdJZ1meOehYDiNhOryLFbcUpS6+JLtcXjay9BmiIJOEKj0FyVgOmVmnv54ZwlPVYZq5fD5Q9cc418TJ0SZRx/mVXpDTqJWui8ZIOWjoeAnyYt1EtfaOo0kr5rLViAaaKlZH0lSYBExXqbtldl+Z5J3fRvGC1Gm6hrODSdspLH7eVcQnOSJLLUw74JBoHOqknZYwULErnhOBYHUoVfcRctC8oqXv9UNSorXfdaVh01HPZIDMKjG40kYBtxpDy2fx6RN94Poc6wmd/MadJsr0IPYy9rVT0TJ3pv8FVIGyGS8OwTA2o+RvFKvaUE0MGc6VVrffZ2O17d4q6cgMd48e5pdLv96q0cQqkPPG7Ummj/egHY0ydj4I7fHcqBDO++kXxrx45FKUeMrxvLV4DRzUN8m4tdN0fXuwcRvny9d181y+1+sh3UDextXKekTMGI52SmRrPJxSWUX11VKpG/gDcXnZBL3ssfBf8Z9bYOdIz/tP9WyNGTnCPt4JuhEiqXSo8BW2o/GlpjzPVdlrqhfPf3sFcm91o9Hat0EoyhJgJnTTx/hI0I7anef9c8kSJILu66EL2agXJVkllIl8aeM3pHyo/0JyLoGNnTiYvH+tKFMeiZO+Yt+Do0ckFnIUgPEvMvyOoTY2zzncDCMm8Kg+ucuX01WnDm0IZbfUZPHSk35MP11KkbwyiNM3i0YIXscS1ZgQuDvbQ0UuU0TAweg4rHDMpsbPRFKLpWo1J+wffbsiJfItD10AMp/7nCf5tAM0kbqH7SIY+6mHMlxzcYnswh+JEAa+/+Cv9+X9yfPROHyy8M2i6W9Hq2DvRG219F07CYxMdFrtOvnAVd3zBKxlfS61FDMC4hvsS0PBl/fPB33zs8bQNl0mXJtk2h28Mwr6kTaCeyR4RXmEPDyqqk7L9E2lX/i23Mxc6IdbImngX9Wn3qk3Zbc3DmcPopcC3iPXhgi7gDHpIfayPqaYmT74TlHQ4p9JnuO7dBsXY+JmgDX5LMACWAQ5aYGOyu58qLNdf+b6NHWGN2wB3/2hY7qvXxojU9GVtrbaqLqrYZg+0YkdhEuhwDyNXfQSmwNrzfyFgdg1tF85oiBBcv3CaOm7DhxH05UqAuRf52Jf7RasIYlrUTobdNgWA5yKjFyfzmrBDS3ywEu/f5Ysb289FjALRpIdSKfJlc1/IY+kEgOqnBLpAXmASTbmoXpZL3YBGpwvG8BESOIe25Z+cUY1MeiO+lTTiJGHu0WcDT+PP2RNSo79ydyMdgrGBPJ9py5TtseqWrB099HucAUbosFL09H3AlxASBFcEt2CIP9TrH8sfgQtkQmLqC95MjHf0zhqSLUQPeq9tGAiXacNaxvok2EhISoRLPOdF2VmIwGuKIi65F5X0hP0eP2X8tAMY0GbvUPEPxXWX3sBbaxedSGI53rIVddJfBSXfkCRyCcAT2mINemmrVAFsZyiblf04AErTUTMxS4VcP9UtkgrIEEK7oH6dilbyJy5eMZfaTIfcRCLEJhqJVCtKs5wB2kUQq3/K74uXeOa/mWIpymiW4rjgQF7sOyBLdk8yhSrV2WmXiqILj2ak7ugTrqIuwpDO+wf3kewW7KmvVRT4uH7Fq2shB5kgRZauk/Pdfk6tlXCpEk2FTxWklaQEKBv1v7JrYShVyy+3DHFK+DhivsjufMWWW6eRl3lfMa+JOXVvezkwOnVUV3MAFmgIgAtbLRE0R15wdKtKNlP+02ZLn1FzjMG6vBicz35LkkJi6w+e9GP/E82HBtNyHBfwM7eXKs54Oy/nyiGnXRgLqLIHVgJwmEjqzxazDvZbnfiTYGibQIYDD40CiUYCfXYXx2quA3L/8RFoAACGf1bZRa8S4XPgZS1wNOYpXe3SuzUy1a1wJK7I1lDtyRXPqgtDEiOK+lj71nGhWL5G0t14jVh6krhkZpP2VAc4yd6BCM+0Mb+7gH1PK42CQLWFmC0S5oZ9zZ6qQS2y/PTxDUtdz6/BjMu+H8cJij4zftWNJr2qSpD03nGlLHgevL0xjvSiv0+VY68s5YJha0G0WkCkIU6CMfFOLjkIxpIkCWT5KfI+QiAqn4uOEtVnZFFAG9nh2KPGyasfOruJq0pQsDWsNPJ6Wt+TQCFqzzRSEWDox8seAW3BimLiHjuaCkrDapvcIGslWDBdhobYjcMlm8Sv0dfmA4kVvjfaP2F3IJdHzoZU7ykEQF8xoKdXI6MfLHgIpzDACfIfY1U8UKSCOM7ocU9HTwnrQQxGwOHf5v+GJeQunz3BjUbcVcmBkLgY4EsBPABu9j1cjox8seAiXjRh2mrq+Bvl/8CvC7BM7MILsNKCdJ+WbxK/R1+VpUwfYtHC5iDEzqaDv4Dc6HGEtQ5UOxKzK+UnDcrnt10/l8K1fjIqALw7A2NmNRk4QyoFJySgpjQM1JyYx4qcnvywjksrzu41JvhhTkBGnF3Gv4za3ZnLzv5MmkATTlwqf8B9cJYVJcl5YiBu4/WMqlI4hsPt8cpksWE4mhvGkf70ZwkqtDYJhvMQ58wfog4KXjVSMXOSdQS7VHgfBQ3b93ebijfumwa/g5gX08P7qirPapEEvVjbyM7uiczT5Omfmtr7L3LDjxSPLAjv+WzA8WaKEFhGhesOLIEqppVr8qCB30sUxuMdjx9/ltDz5TTABSp82SXuPTjWWInAeMIvlarl1Xn9s9q/Hrc0rGU1kb4GjxhpCiH4Bzic0eXO7yk8L/jGVdogmNNlOd7bib7kURf0PvMsScvu4X9c+3MFg+4LqNQYrrMm6OqV5HZ/c52VwqqsUVr+SLsZvemAQgxvzGjv97UzBuMISr4xQ7d8ZYMFAKVQRKSHHy61sLhmw8rdFNw7vOUt7NaX1CuXxm71kbnzA/ZBgCprPURcl6SBDGh+779HUJrzNX3XaiZ8qIv/VuJbEr8hyFt3uV1Qx26QWD7g3Up/CDu+utHL8juR1euKCC4FNXpHcP508vul14zTbxL97U3uVkc83bjyWxUQWWYAKVQTotGZdNhVGwAjqpXcACGSrz+2a22jQ3SsZQJbRWB5wtrWhesudSekNTypi2PWVEC06aS2YL58sLDPa0QzUmCUVo2QJbxHuRz7cwWD7eYJUPwizd8BkryOz+5zsXCxQF1O8AW1eLZlAWi9roSpyHEfWPYQlXxigqEKCyzABSqCxPMcfLo/FHAEdYThgg2d4Pb7ZrS+7398Zu9ZG1QINufmg8EcVc5CoY/acaUzR4eUKccT3TnYFDHj9cpn8o5Ei7emwVGuSyE8974Vt5vgNh1+AEVRqiSxUU3Wn38o8CnMsSYoMfWOhJr+l4OmG4AyDq5LxqkKCcpSSO/tq2HEekb5evj/1NccAQo5ICNusYnjvjRF1yKxpjJE4KyTKOBhCgN1l8Dh6mWgTZ/PxIqz3SgzbyqZJ0sevDebUzCNB5c1opqLr85bua8GPT1B7rYVVHInh+IkDBlBronroUEbbbbcyyPPZ3vrjMY0rNDDgy7MzBAAAAIUGaJGx/KFlMDHyFT6e/lGTJbZBdMo85lBnq6UZcZRl0wAAAAAxBnkJ4hD+14gqMDPkAAAAIAZ5hdEKfA/wAAAAIAZ5jakKfA/0AAAAPQZpoSahBaJlMD/8AAEvBAAAACkGehkURLCH/A1MAAAAIAZ6ldEKfA/0AAAAIAZ6nakKfA/wAAAAPQZqsSahBbJlMD/8AAEvAAAAACkGeykUVLCH/A1MAAAAIAZ7pdEKfA/wAAAAIAZ7rakKfA/wAAAAPQZrwSahBbJlMD/8AAEvBAAAACkGfDkUVLCH/A1MAAAAIAZ8tdEKfA/0AAAAIAZ8vakKfA/wAAAAPQZs0SahBbJlMD/8AAEvAAAAACkGfUkUVLCH/A1MAAAAIAZ9xdEKfA/wAAAAIAZ9zakKfA/wAAAAPQZt4SahBbJlMD/8AAEvBAAAACkGflkUVLCH/A1IAAAAIAZ+1dEKfA/0AAAAIAZ+3akKfA/0AAAAPQZu8SahBbJlMD/8AAEvAAAAACkGf2kUVLCH/A1MAAAAIAZ/5dEKfA/wAAAAIAZ/7akKfA/0AAAAPQZvgSahBbJlMD/8AAEvBAAAACkGeHkUVLCH/A1IAAAAIAZ49dEKfA/wAAAAIAZ4/akKfA/0AAAAPQZokSahBbJlMD/8AAEvAAAAACkGeQkUVLCH/A1MAAAAIAZ5hdEKfA/wAAAAIAZ5jakKfA/0AAAAPQZpoSahBbJlMD/8AAEvBAAAACkGehkUVLCH/A1MAAAAIAZ6ldEKfA/0AAAAIAZ6nakKfA/wAAAAPQZqsSahBbJlMD/8AAEvAAAAACkGeykUVLCH/A1MAAAAIAZ7pdEKfA/wAAAAIAZ7rakKfA/wAAAAPQZrwSahBbJlMD/8AAEvBAAAACkGfDkUVLCH/A1MAAAAIAZ8tdEKfA/0AAAAIAZ8vakKfA/wAAAAPQZs0SahBbJlMD/8AAEvAAAAACkGfUkUVLCH/A1MAAAAIAZ9xdEKfA/wAAAAIAZ9zakKfA/wAAAAPQZt4SahBbJlMD/8AAEvBAAAACkGflkUVLCH/A1IAAAAIAZ+1dEKfA/0AAAAIAZ+3akKfA/0AAAAPQZu8SahBbJlMD/8AAEvAAAAACkGf2kUVLCH/A1MAAAAIAZ/5dEKfA/wAAAAIAZ/7akKfA/0AAAAPQZvgSahBbJlMD/8AAEvBAAAACkGeHkUVLCH/A1IAAAAIAZ49dEKfA/wAAAAIAZ4/akKfA/0AAAAYQZokSahBbJlMD/8AAKoIQsLRsnSPZHIGAAAADEGeQkUVLCH/B1NA4QAAAAgBnmF0Qp8D/AAAAAgBnmNqQp8D/QAAAIBBmmhJqEFsmUwP/wABFvWx0KQ1UEjUuHid9h5c0XjrSrM/MY34ufW0KPakVuR+xGjtKzCYPqURx56IAAMvqxB6dH97UdP9rlYmubfmdRy52D2MSRu6Y1fn4T3mMS+fld8kdsPomSP23ijumP4Ed1fDn/YuOSAwG42kj31cXfCrLwAAAA1BnoZFFSwh/wwxVp1hAAAACAGepXRCnwP9AAAAMwGep2pCnw644ZfPtwCX+kpMMBJO7ub9t+434SGTxL5JfjEurzKKkiOk77oR9uZHz4GvoAAAAOFBmqpJqEFsmUwUT/8AARb15Q7zd/wKPAYNGkT2ZSu46StrfLu27kRbGiH/+FzcESwtltwDGVdrwiI3pOkG6u3LZuxOjjheREAHKyY2owuIVg2NvY8GLF1ZGUjv9nKuvO75ihgY4/+xAQ/CLH0vr+EJxLQ7aMnyVFol//hIPzhKSb1x4IZIKOVbvyk5vPm/LUvcWlZdSukGv8wIZjMtFANn5248GWPB9YFCs5UwuRxXwpnbSwEmPvxEPlVp4GACFUbMJzq5ZuwOB++c8TGhD+ofKryTMtuo+bXqHUCCMuXz1C4AAABRAZ7JakKfDyBXU2fOZm3r/sw3MQlAfWxuNbgMfrQilr4C1FNC341L0U7wudlFWX6ZricH4EdTouu8ymoV0aQfirM/C/M2hp7A6FJWu50fOSuxAAAAgkGazEnhClJlMFL/AAEb6oixWymCkS1n4HLp0qgERr5Hsaq5cBrkDB5w3RR3VQif9X30EOSefBOu9vT2t+MnqK0CrrEF5DHJ9SdSwfPNXCvBjCdZDOOG2eU7EL0PFQ46zA67TZOTrhI9fnEEHxy2Z2Pix1pErgfL2ec2VmtgoNIwsuAAAAAPAZ7rakKfDxDio/KN/Q/gAAAALUGa7UnhDomUwP8AARvjOAzi06iAD67+eGQ+gyv1oNAP3YldN+RRL751SsZeMQAAACBBmw9J4Q8mUwUVP/8AASWrwIEImTn2f3CqA3tnkch26QAAAA8Bny5qQp8PeFctPFKKo8EAAAAWQZswSeEPJlMD/wABJSsm1E3IjjZyMQAAABdBm1FJ4Q8mUwP/AAEj4zgMnHlascyugAAAAB9Bm3NJ4Q8mUwURP/8AAS1b3oLXdFEb6QcYu6R3NghxAAAADwGfkmpCnw/QVy08UmeCqwAAABpBm5RJ4Q8mUwP/AAEtKydksdACmKDje0dnKAAAACFBm7VJ4Q8mUwP/AAEr4zgM5De1hvK+/lOp0j2Qz6U6l3MAAAAcQZvXSeEPJlMFET//AAE1W943b2L2Nv2ljay5gAAAABABn/ZqQp8QQ9W7eIP3hCVhAAAAJ0Gb+EnhDyZTA/8AATUrJ6ibuh9oZNCRYpJT7P/cqdn7iKpZEDgigQAAAC5BmhlJ4Q8mUwP/AAGPpxvhOpRd9FH+5IgA+9dc+iaeCTLKLEhmJcekTie0dX5YAAACHUGaPEnhDyZTA/+QVS6wYAYZe4DYDbyP7WTdBM+Y5/cTn+VEj7EauFIiRL1OfMC877uXsevlF1rJ6jKIW0jm1eR4s2Ex2kiZWjC4wI2zl5RjWfF3/80LVJ6gMu9BwRnOrSRjJoGl8jU2eWxDtcTVDiZ/PMi1jOHnTbH/SNZiKL73yHEy8q1b4iDNdUpXwvW/XnpPgWEMbNz8rxG9xu3Pi+SZ7pjIX0FrJGwXcwHMW3V28MzyRv00bvw5WjqYCdr1POV63sTe5CKezVB6fvqxVdWShatdbtkRtWi4mwmx4Je75e4beKpsayK5MpfBhBVCFhVxyvgY4JqYg5gx7xQ0l/K8aV8EkmjcKOo7vthmCqZ6J3woEGriGcp7caiB2y+lkm0dKOQaI6cpILy3etK1yrFexK0eaTYKs0l2vPC+2hxGxCAwdGD/CSk9DW3NN2sxwb5Y4RGJHVH/Aa38S8DDz7K42QAr/hxkk6t/R46hSsDda0tbI25hZRhiPcz0nmF3V1jLNYt0ux0w6SjQho1PU4sm+J/80g2jCqVkm6KxiBcCsrM/qdxGbuXffAk4rjr/QH5sOEeVGqdX826jEVhfC2DBGrgUaXdikMRABEf84x+37QflKcwBJHBdKUiuW6eYVDsIyE7/9HaRm40+9F089bdAeC8GiVZZmbq4Z9+FELEmJSdE+cpexO88sOCFpERX5vNfpYx/gShY7aIhOzkAAAAWQZ5aRRE8Jf/jmzh0Bs6qyAQOU8j72AAAAFMBnntqQp/dnlM8tOULaOSugs9Kf5EoKfPE8MEzg1SQL7Qkth6jqAutWtopAc/xUHKVuGk7yQweea/nV7zjCC+DUo/PFtsqJmQwECwPjDMTcxglIQAAASlBmn1JqEFomUwP/ycasAXay9pwNrRAivM4ZSZKXIycCJtHyOczNOqHgNiqsOFKYMxXQRg6UZJMpIcxpu6UIuZFRp7tU4tD+DvnCiQCs0Ml64R2hP7xg1B2YOH6s/+gKK0yAqHYEqAJx7rYa6wp8Q7rgCCMDgeML2V8eqdr4IvtM2xxxS7APjOpRLuQ4rdrKBchaLY2WaYvQoAQ5SmMUNv2Gnamw2kFVQOjMYEIpqAfFSUTrFEMBEsbe1Th25eZ4ZWBGt084JePWqTDWxbhZ9W/dkbYlrS/t+bVxTCqspnXaNCzRfXSDiZdjq8bhWVkthdO8G6w4oOR8CSm4lAZzQfGOGscTbVvBx4JNhKUNBBJKaZcmwiXOSSxDuYcQLftGOv/noMADaiY4EUAAADmQZqeSeEKUmUwPyp7SQGKgWTJq4j7LOhxoWd3ZxqXPdLtUa0Gh8s9bMI/88O8PoI+ZQYS+AruFlISe84/1yiqOGLlRTjcW+qXRU1bVv5N9x1YkvD7D7j0S7pbpYd9PcIA9Yto69rOL+AbTx9BiFT112zjjTJaU2MCtLhJ6wFMMarsZpH4b+nColh3ItZ/1EVRLIAU2eci8XCb/sTU8/oNtRuI8pmV5lABd8KWBS7uFD9mv3TjgmqN7AdOgCfz0/g226XLMcoOP2SZx8mWAySFGVDa2gf+Db6p5KXX9U9UhtAS7UXzxVAAAABuQZq/SeEOiZTA/y9judgDFQIeudJY7ElYF+m5na/p+/SQV8pgjFFVkkYvCNEfx924rtxPi2f1HyBfeULcOgDfhCxNq+vOj51PmoFJHM7DAm7+JVZ/OP6z+Z/J6cZUii8lCRxpjSTQi3k+6nvG+I0AAADqQZrASeEPJlMD/yp7SQGKp99sJa9SC1Zyl7/641UrJ2GX0rOSv4TYLx37LXDZelW3jeXmMed/5Su/wZelukMD14GV4je55Q4+FxIK1jCFmU7Flco7paXY+sbs3XYEHXKjUOw8gBfJMgyE9Ssx5Fd7FRysC1LdFu2o+w8aFZtL9gJW7JR/Y1wg3hvh9b6p1F/j3iK2pTtyk7cZ8SdcM5FOgpT4DPcG33WTaZu08G3MyXHUQTFG5cHi5mfQ0OAgwQCQzcY8vFt2KK/GFrI2ff3JySjw+n4RArcvqLYmUYkKOQusauHLHycyacIxAAAAfEGa4UnhDyZTA/8cgfDpWAU62hW+C+tzh8/3BOKSXs2DHbavj657RtIG8IfmD8Oj8KBbRbcP/u72xCduX9THlTYWDJ6wwlsEsIAHmE+2Abk6xKv3gYWbPN1ee3bn9rmoqBCv3S/sBR3tiTd6VOZw0tqh8I/1TX62tOxX2OYAAAB/QZsFSeEPJlMD/0KU7MBjOf2dtL/vFLPrvmJO5GSJ4BnVsTVT08vVUIPK4ibuMumvuQnvIaNXnGk+UBoSS6MN4QqrFOQnGNrrxNrniyFwnLrSMq8mHuCwbJDodJ8KK+tBUBHhmqe+9PxzsFGgyRt854k19Hc5yeHtWw5ouka9nQAAACtBnyNFETwh/82Ne3vKBxNMDsb80S6xjoBU729z0OJTCJry/86m0kxDqOmAAAAAJwGfQnRCn8eXQzLC5RE7rYD1nG6FlcP59t76+2VtnAfaf+/pJW2oGQAAAB8Bn0RqQp/Vfq3llt6tGbm3LSfaMGIijr6vbJczZzNBAAABFUGbSUmoQWiZTA//JxqwBdrL2mQIyWKktUccpBcU9WAvMIPXSvqU8DvNL0GCS7hi7dW8vPffk395+ZhOBYIfIy5IuvVPzA/QknkXYewhZlyRvbpseva62XOWs/Tt299sEl2pYmk7/zUuMJVOeROjvndcukl5PtymfRyb5zpmFkXsf1/KWIq9/E6bYNjJKQ91L7vR+2IDAlQ4WfI5GB86UVb60vMJGiyXwMgT+J10sxPkp8zfRmXlorHynTn8XJLPtpN2LP0XnDWJyqYBI+harE6t0m8aI18jy1Rnuj/WsVB0tM6+OSTzX2WE0SE6YOhqNlPeAHz2SaHORJSGMYJVktYyvsspU3qP4klVrv3hNi6eiam1EQEAAACqQZ9nRREsIf+2b6SHMIhAWQVXvCCHPcAKv5oDyGt9Cn2QKesGMiHcCcQdQxLBAZGLWVDpnxo0dnxo2C4oZaRJhRAnKFhGg1WxbBKNC5EuD7VflKRhL8kavBD0Oa5+gLnDxBKYnYAfJKiQAcy3aB+79VG8j6Zia/TmUcxicSUKY38B689KsmT522XX+qsknGLPzTKV9qpzzRdUdgqSOou7VbP2vfAMlZu1PTEAAAAjAZ+GdEKfx6PJcbpI2nBcN1DEHgYuHuLeV4w0kiylNUiOw8AAAAArAZ+IakKfy32HFmUOAZ0t1cMMkbfiH+uT8e/pMUKAfgVufrD8LEPxrVsUkAAAAFNBm41JqEFsmUwP/y92qsVLAZinR3EB21V6TN7lAYJGgAAOoLGbOEbtBJj4xzMpOyDpNyG6McriDUnnDxaKX9x64I/z5W48itYs7+a1jWEleYzRsQAAAC5Bn6tFFSwh/8EK99sUx8XyoGWCVMh3/22BoymAYa8Nfx5COLjG1bQuBr63kvQLAAAANgGfynRCn8s6qjZ0ZREZgXOt/EvRwoJjo40MD7Jk8TS06cPi8S6l6//VnzxeOy9i0xZDQTwn8AAAADUBn8xqQp/HZVmUlz1UavLjoWYuTHbNrtre26ycsI/lVWK0bP5ombK6q9mzw8cX/Pz6z3I6IQAAAUxBm9FJqEFsmUwP/0KUk8CLMyuUzlt2B6ntIIb3XnvH4oTp2WZc3aAWoB9eI5iRbDRNhhUiW0/wyZQU1BmfOJxvSsC7RUvbzM6KxT/RtRnOBzJrHLCDiO9Jo57iffMOtzxctCk8j3tqxGFfzUMMYuGE+umLr1T+dSb0uhybrYQsynYTrLEYlxocCNDhQgDdahaS7hjiLMKfzUFuG+CRZZCbnkVmqH0lmdKOPrAsYT1PbhH68Zr6k0axCaASz443jdA6G05cspwnc+aiMMxuagUr2nO36CLfxpnSwY+pdpig2oIV+O1/Kf0CTOy1G58XhJRtHoHXw1F1TQqEb3fPb2zYOFJHtEXzAutLLCH7KYROedz5QqQZQiK8QY7n2nxTqr3bpbbTjpDKXNUZ/pTz2KURrrkDBvFf+z1g1Cdies4XOUvrGPR3vIk7bOwESwAAAHRBn+9FFSwh/8Wzc+sMH6gjgPCjwBn02gE0Ol2zLjINaa/5gjVpQuV/hUp+p4z51ne+7aZ6B+FVLSOQD/o42yrPTTA+XKJK45ZAvVg9C0StoASuCddWREp132ZVIx163k/nCgRdBEGKmnS95WAx4Yd0aSaPmQAAADIBng50Qp/VkeFtORJPtROgbEFAHlcPk6FP560OObBB+sRxHX7z1OWd7ROOqMXLcS0iwAAAABwBnhBqQp/HKFZikzuDIMRWCTbRH1LkdOMAr5fAAAAAKUGaFUmoQWyZTA//KntJAYqTqcGJztfXrNfwTmQVqhT/38Ym3FsOZnPrAAAALUGeM0UVLCH/w09ttfc+VwJr9DOwhkR8dPDCXe1PqGTD5FStmg3IgZy+1yl3mgAAACMBnlJ0Qp/LOadSzI6qXgEj07DWjZI2BxtwMAYC8d4WLMr+fAAAACsBnlRqQp/MaHAJvYfgoiSSZGDf+/h/4QUVqz8weuQNT307K/3CW8CG65nBAAABFkGaWUmoQWyZTA//QpTeLeEfHKn4kT939Rz8LLoIqvZi1FENe4zscpA2wM3K2KQ5DS5KRRbXYPVJzvsNPXJ5VF8YLdXNH/sQN/IVaqToUtGThoVN9UuKV7icrEMLl9xCvPSfAsIY2bn5XiN7hfwXb0jTiqxIXy/SsZ1xwh4DGM46wb0Tg84Bg/SA3xCxwqo/BlZ2gdPnJu/VYWY+V2ShR5TOc4/hbjqorahuFOKkI7x1e4SxRMVmMFctQJ8FQLZrIHJSrufQrLdnTW0GGf3JGq3c9KebEWCNRApguRq/6Q9a7l18UhcQEALdTXyYGepzf6bd79N9fgUBG8lDE7GmjowQEfIC8Pk2U/aQRXgaa9nBGA878D9QAAAAMEGed0UVLCH/zYqMHsxuzgoIAga1fgnH/7WzBFUOBAnOH3jL/i1UuXD7i9gyPSNRyQAAADEBnpZ0Qp/Ho8l0GFHZleS67P+g5UySiyBZkviTOFKsOIk3LQcf+A2MT/aXXivroJjrAAAAMQGemGpCn9V+reWW4bf/f8ctRGrGl4gSg/PqCQHUdnAU6h9+E3SaB7zqcXnyoicAe8AAAACBQZqaSahBbJlMD/8nGrAGKtsYOsEVIw1DfH5B9MwQu47Uzt+dBK7DPBmMN6AITlSoBQiCPvtl3yqqtIdlx+mbUOuj2RipKBP/+1mNA6YsPiJLGiv/Temqx06Saqt3TWGGmL/dhPKrVbO347l3Zx1/EmtrmfdjL6LZN3io6Np0YZ9ZAAAA80Gau0nhClJlMD8vSQp2ALtYMu750O6TzvE8Qm542mTjQn0Ls9Qb1sCaugcrJwO7qq03A6ekw8K+adfnGqAuSoqM3p7GF03ZznX2dJXvL+cdj2Fm+kVwPrJ06RnuxD0epW7HCKAwj11Ls9gS/tpL2yDctm6/qudW6IsHs6W9erTzk5kNlEgwNVA8JlaVS8yAFd8v5k7/k7nCiMU8ILRTZ8FaRgzUug6VbrJj63e502e93AeON1TUKRACAHnGmoUk3EU4t1Qwjp1btkt8QDtdW8GrovKxhiQvuWrX96ls+ix4xh8nEoeS1hVA1sMpEhUMfhXPbAAAAOBBmt1J4Q6JlMFNE/8usLnYAfCDEm9BtaWF987jKueDcEN3E7It5fWHDDv3LOgNdI09Lrndh26ui2jA/B2e+jz2/vU25uhiinYjZtGvS1ep26wLgn3rS6hljTyE5SP1vtnq/StdWk3xec1zoU3JSKp+sKeEQgT4+eN6S6CXmw4rTfKJ3NgZFFkuteLirpsHEDbUN39Pm2/E0NNmRWYHDS5Kl0yKb2vEbqlg9fpMdb2gg5efP0H93gAMMGSpKT4TlMEc4SV2MLieEM3yvjyszR0djvZoN1ZaYuGQsHKtcSaagQAAAEcBnvxqQp/LfYWp93zvfhbLQk/lB7OMpPRNd07KidsFg75KpdStkBYKAVWepcGUO/IlkC21GMIgLSaVC+OQeB7s3XcoWrzggQAAAOdBmv5J4Q8mUwP/L3ayIywKjtNWkfFX6VnXXa6cAOrVxmZeX2YAAE3TRHw1qQYAE46LSJLbSzHzZp4A1ob+HdMTkQEKfTS3bcb9dLBz5LOJ7L7ZKZAiqeRwyYoWCsq77Y9BzgNoiNeQy8n8HyFQeme/ZjINGKsSXCErvxWjXK64VnXsqmDJ0nqgptTfZsYXyL9YlDaD5FE4e0P/rj0Cdd6jp40r69iqBZ5UO8CA+2QUDUj0GGI4lG7Tm5mQ1NiYs4ij5RUB4H1P4LZKVarvIAQ2RND89FIFu7FfjH6nxbYMEiUVlXQDMqAAAACHQZsfSeEPJlMD/yrzYsEbemJdch+dleI0ftidlxyXlAhH/oreYp0n8YfWuh8VS1oLn8NSWXGIVmRkeHsleleOpasRfCIw0TCj60iEqkInJnEyDTWyTk5/2uwKOP6SYd4WP/z+UB/b7+Io5GsTnM+4Jnh/lSTv1fqx34D5WyiKnr9muhjuxziEAAABZUGbI0nhDyZTA/9ClN5gEHiuPpreI+7+ETS8v+qrNRQkkMuDKUkHR/Q7ZP827gWLP01lxJU4gZ2mDQVRP98OlpRWP7LZJN9TTpu24UTpDwF46K/yj+/oU2DOvr+ahhjFwwPiG5XiN7mJ27Z825frsSF8zcGsHQlTHPAAPxvb1xl7E/whXl83k7+4wFIBfKSBIYGMgACqa3DvtH0tHu2LHufkX/N9fXKHPrXth1LFVqwiOQtq8RbqvoKUvnOKPO9f99NcKVtbek71Deblder7PHIQv3ltStRI3uCgb1JnmPTGAWZLxaiC3u0fWswxQ/inO3v96Q29i8rLNvJMMTmtpki9sDQU6uoiDYoWy7m7t/+/KKuqNqK1ORbI+di5ttFkFVuUroL+UZGcFEBGW/rduCQbRX6Gsw2xViRLQJtcKSF6lUtVVBeWwWVBOwS05lIPouccxiFKbsV+uq2Ifkr4AvurMuovgQAAADRBn0FFETwh/82Ne5U6xwXKo6hB0sIbEUzmAhrXTLcyP9T1s00ONVZz23uSjwHmrWf3J+PgAAAAQwGfYHRCn8ejyXQg0YibM+vyKCPXS0KktW3wY61heytuo0fz/tXYtTW52wj26PwEolZWAmqJ50PXTDKPu6TIjihG0oEAAAAhAZ9iakKf1X5E5bkSTllBM/enUWYuL+2sKohaQ/IzZmmFAAAA+EGbZ0moQWiZTA//LirOwBdrL2mO/LC6FNDEcCoeKWgbMwGXzLLnrNuclwCp8m+Hl6f9Ieg0NaPFhRJMiAhov72ltdBD/sr4Z2da3Gy8QBtm3vxasoUpwYExHKOUUYQ1qPNzWJfeH+XwxkGIvFbgo1IJ94cxOw8Ogk7aMYvi+g2AsxBnuDn9e1Sc+K5cwaBvQ6NAVaxBzc+3ZA9P0ZJ5rYs6YxLYV0heMKXXQ7PnPHzMZoeXKjN13CQPVmucEuAJu8PSOpuYxITyuCYkaQ4XQ5l4YGM6HUSKqXjVbYUH3Zxbqw2vmqOiskA3ETXi64WrWnmX+p2FRf5VAAAAOUGfhUURLCH/wfeKyDgJ7SVRSfIad8rkB7KYAB5+gRHx2oLs6a2o/SUw3H/L/1zttngTb9AHw55pgQAAABsBn6R0Qp/Hkb/ej1XxFWhDFlM5doX9xOvx+VEAAABjAZ+makKfzCBZMUZRF9X4R9W9hUzCTOJkaY7A1uYd76OoJn+wSe0kknoCUpMcx9vbLqqsBfDk125ox/SMG4JzkqCLDbOEEPy0od7ZN9gR8mNUU7Uhu1BFmLYV/6/9Fq8rJQj7AAAAuEGbq0moQWyZTA//L3XWi42AMU4ANzVXXG3pUVpTWJJg3AIPCH+wt9/J6QtXA8sG7vbYY0YLX7lzEnOHcgVCTeCffwPbrhGGpR96Lr1T78t029Jlu/MSF88GIIGnNGJoMCGuVrPcqq+fVJnD+kXzk8emAX7vlQrBdA6+Gdf5Ao7DcLr9eSviC3rx+WtwkQTgKZArvMzKc8a5YN07aZjJ3nDo4b4jlTqSkpN8FdtbKz7s983/46lCXcAAAAB3QZ/JRRUsIf/BCvfbFQbGmZGOsMmEyUryMjFY4JieFNO+r1a3LYYHRjTe9Xz3Wf2a/RpbLqVf0lpd24/86AqTHhR294V/Vhcwh6pU/vCyqM8bpq3zeTQrXbsi1j36Affel+D/30nWWH+ERoEseneOa3V938n4aEwAAAAqAZ/odEKfyzqqNnRlERmBfCW4l+j6wjKaEKKosIY4grfuksUERshnJB3hAAAALAGf6mpCn8uoFUwVveo+d1koXIyu+BQt2lc62rNrFEFv+UFhIJcPmMD3Z8/EAAABckGb70moQWyZTA//QpTeYBCUAlEIOuDB1CLrWYP6EBalYILNaUZpZsNzg/+Cir2Y3ByowfMg9tjitaebIASBycQq+FyJFWB7Lx3SYaMkzoNsrV/g3I6fqYS9By0PiI4qdb/hPf8X+6/tBSosQ44WmB4ntFEPdpWMvs3npmmIJPhF8tD8EcEx14jeS1A+7ffNCBjYFNPNrh38nHzQVx+T8peoJ34RjKBzmdUDih1kTt1X+0n2gScf8v0UQCzxfxqz3Uiaulsfup9DPYXw9cQHZEOIEzG0Hkk7lF1dnYMk9ooFMJ9ToA2B7BreKseKfxFlynUm1sVuIRmZez1+Jlfl0JGbbLU6rV9TwyY49wZlQEOeem/6rPLVZypQDN24MbXwe35yOD9jUTv0fZafZwfyV5bS3/zQczDml2JltWb9XkapQSKDhM7cETO/0tU5fQ0VuTRTwvxQ07GF5uO0i1wXmtGS3Gz74UI/E3RRk37K4g94XcYAAACUQZ4NRRUsIf/Fs3PrDCWuJHMc8TrakyHX8LNXytPy0GU1B58OwYpesMdJv1w5JltzSoKLOUfdARcUa+Dut5Oc1Xl8dSlZWPybSEuVDnyhVhtCIbnNhxmIFlhqgLv5WeocvPSXfs0Yni7tFgaJNs+kXpZvnXFrzBfbIFLpd+Hmv4WGYj5qD8DmUICnp247UDC+0oRDDQAAAHoBnix0Qp/VkeFtORJOWXkQU+liVcPk6FP55hMyO0aDQUvgtpPwPWRBNa9qR4u6Tk2xBIGdCbO/hAicluszZrDgkZ/7E+SUgCUZBgIGto6t1J836fiR/1NxraxAm0VMtnQoNzjJGG38SOLmOEwwYNg+ZQ227krSV+GmkQAAACMBni5qQp/HZVmUmKZAg2f9sGUpoFLKwWcRqi8NwYnLcY7FNwAAAS5BmjBJqEFsmUwP/yp7SQKdT8Fl+zuwkv31TQnbepLaka6xZurHInjJZzIj+6oNrvthaEX1t1f7R9fzUMMYuJt9dMXXqn86mOjZfOsE+SF8zsOwyzW0Ir4Rt08Ta0AKbNseHvCVOLQ+6w4cuhQK6tRVSgYDtA5j4r3iOGgXdL6HM35RUyOlOL5f5lD9vMjdFsZgUE2G1jwm3jArF57XZHKLF1PWa73DFkSKQF9iwOx1kR2WyWBlk+NDfISzS8xoj4VDcuA4RP9nD3JsjRXW+AWHycvZkEpZdzy/D/LY179AYmFCMCCe0tTbw868CI3GW5Ph/rvFYV01vLIL4iisEOTycH//zcpWdCgQsmIIKFrP21bGG7FD/l08iaxtsifMLgUVXlzuCNWbPyh90yikiAAAAJRBmlFJ4QpSZTA/L2O52AU6DEQuJ3jGsgTDaWQ169rs3mWDA3JmY+CBcvQhPc+ggiSVKRAnzEK410xzwe7g/5BvSqU20Wz/tOcC7Qi8OpIxHIjhaQhG/RnNYGM2mA+dJoAwdJb+JwV5nKChsoPRPYEy0GH+hUaey0lEQ7Dbz8GgT4CHdgPeCLBiicb+zZv97mVshf1AAAAA+0GadUnhDomUwP8vSadUvAyDImMMlXEJhSKxHo3XIbr0wAAN1E25RqPciMu9xB7huJDenHE16EgOiBJIOB+aeviycm+j1VqXOH0eniwz+iI/py9FJlSkbghSN7GiJBaW4bM1dIVHyK9tn6TVfp3ZP0A2WfTawvhyHTcU8coBC+HLAEbqv7y9d5BpB+5jsB3QCRE3IcFk6TE0ua9cWxzc6U61t8O2bHwuLTJxjKJNV062/I13vkRYZy3imwFVWIQ9XJrM0EuJCsdBTO4hXakw3Gbo72lEjZkX/LsDKUutHBFflVMG2HBkD0O+cngSFrebgXyloIEEYIDyJq6hAAAAxEGek0URPCH/wQl+6awtq51Uf/UyH/WoD4v9pwJoz5Wm6GSyRXIupmDw7fIUz7LrhBiv/2DBMvVsdWgbIzN8ybPZe+whWUfaeEy6uSxoHaZ5v9hDZSrXNUbr3kPBCvGHBmy8Dfe/Ia+poQgEYF0o5LPty74bQZ/OSGIueWNfBwErFBe5LxCd3Ix5kmADMyUP1H29DGQjXhp/MlSNv00pCvt/aFom82wMPg3tTh3O/LFfEtPqiEY/zQcdll+LgFNgyhg/Z9QAAABAAZ6ydEKfyzqqNnRlERjlYY3FrlQHkuhoG/S3RoZYxcTdJalpNPny7X8iUIK7VRuJ3DiPyAwU/n3M16xVNFg1qAAAAEoBnrRqQp/HZVmygeywGy59Aqcp5j1yIB6fcOJcmDIA/8A5b4wIZhQQgHZhXncWTPh4vWqhNqCFCTykPlnoM5pyw5ZrUHSExsfrgQAAAM9BmrZJqEFomUwP/xx0ZGFgVIMftN3XBCjgy0+twq7e0+RzgGyKpg/8Wt8ced/YpuOmKyh9/A9eZ5JQJV0mZ7uJPwrzYkskSXS/AVxFsPDyG9hZR7WzPf4SGIyJVfzz/jaxtNDrb5k5tG/ebWpPxsZqwC1f04Z+OOWQYbwR92OqxjJlVgk4ROIr1KVwYHWs3RfnKHWfVjidktegWV7rwGs2j2B0tGyxPcjg9nma8yJLw8edKMyb7N8lZZFGjJiBzo2IKrr6PGIeQnwPBt6tW0wAAAGIQZrXSeEKUmUwP0KU7MBin8BcDtcK4nZegoxAEK6Sl5mIQNAVmlx+dLJ0MfHA8WiqlXy4Zb7GjnTYXgTCnxhC19opnlNM1agGYsA+VTtBw5i+SWklV3xs982QVlqNWYcc2KePu2HCStE5gICfBlXHG888eXs+eeav1ssjG2jYCw29fIxlmDSnwWPvJEV9EkIkSjK2lIc9mZ8IqddLT4BxZx44do69mMh71L/7hfxwDAC7ExkKJGbSr4kqitCcw4068Z4ZgY2xlHQyjMmc+mDI1xALZNr18Mjn4oIxvDjYKD2XgtKLz8DUOSiYiZjPrQuB9vTNnw7EL2fH042zHlklXndPgklaN1AoRlLCrGvRs9tW/OoLqLBDBvrGOcJDU5LLxV5dvXmEQrEkwU6HGYMhm6dGVNVNSWaT0XmjxLuQqdOkM2+po4b5T1Ug8goUs3w8K1hlLeE6iHTi4AUnDrNupXVjVW/AACFJD8bJzOyLmvSf+146jtCyP7Gys+Nnkdz+OEpX/EfGhOEAAADCQZr4SeEOiZTA/ycasAYzJpWtm1Eoa5ODyZF7VpKd4V4NSFTXv9/Nvjkrl/EK/MwamJcPkj70XYCqnCEI/cLqvJflYb1nEOu6pKjK3g+dUd4S1zRyNRvBx11gLkKcwg/eP6OtZ8bXl2FYW7kaMev+ViJlUaJHKmjHjdBT5Qv+xsKUskToaDg7nxvzWlDkSYLJbCLKYB925QIBexQm4jPhX2YiLRKJsRwo+Yq4r2iaXaAAGQ/9ouiMqmbBEv5SDudrTmEAAACIQZsZSeEPJlMD/y9JCnYAu1o4ZnYkcRLY3i4hQPKq6kJZ1fxrgNN2OpZPT8qoCiUgeb17GmrEXV2veDU4O+ZVJGHDmglq5U4YYkCGfhKnpvzyld/1eoVdNBsGQRIHKf5qHUFelUi6PsG3VJCTpNKWVvl6OXaWKu0VVF4uSPmd7GNovcDIQ7ejwAAAAH5BmzpJ4Q8mUwP/KntJAYq2izP8k6DO4b2sSPo9k3RkXPZl1L5U6ksFzzZOnxNXBULlymBCgEV0HraSpiwFOusv6GzyJQ40jltF8xwKLMjTwZA1Em1gJsjMseTPpTnZ53o6UF5/nNV1fsd4X0N9rArUVEZlbnO3SvOcgF9K0pkAAABpQZtbSeEPJlMD/y9judgDFQYkx5eICNlrI6CqsoWo/EHqUXVHj6vivLGs8Hrv8VRTCgGL1kij1WaX6IGUurFEneljTG+DLCtm3g+kw2LBfSn+D0GAjYze4qibpgXKTlEU4FgF0VZkamjAAAABGEGbfEnhDyZTA/8vZD87wH7cTZc0sWQNzGPB/3q1h32FZUoEG4LSyMA+7XJ3rizm02af2gEdv4vf9U2l/MvhT9vwIv9dPNLNbNWY9yZJryuvhsF3RiVfXmdhmbBDmPLqLNif5AaNcU37covHiWA1wwTzTEk6Nw/dbqkqgVvef2iolxg5Cw2ndLUQ9s41mYluSwrKxjh15sYQrny3VhGuJ4EXIRfkLbDu8RsroYON1ytQX+cxW0dV0U92hX5hEjHrt63vozzLw4T+/q+JCykn9mtOQoJ/AVyoJ9bBVl80+KfcfvTMWMy3ljJo3HzmajSTG11GSHckzLMBq6QTkiZ1g1GuXO3NDHiqi5E093gw+kgDop4WRvgd510AAAB5QZudSeEPJlMD/yyzkrwVy2xKvTzMX0Gqk1VouY4dW5cz2GBnuxKAhdBwFt6gQI+hivQljeMZZK1vCcSTEJbh5M9wTw0u7wbWXhW5ugaeLuj3c32rzpRVX9jO9qnaF3nJpH2SkhVquAJmADLaYhIrZHQ+N3qvUbdaoQAAAfBBm6FJ4Q8mUwP/QpTZleL2Ctf5cX7Gz5wrKxRtsWsvOF9A7PWe+pC/AoTTdFXjd9T0zf5EZR2/ScO9BfPm4bhfaRpuWFdnfkTqaZ6IJFv2D/PFKUIFMgMBtZ+SvP5qGGMXDCfXTF2Aq9RowNgyncsS/Kp408b/RaQbl2rYYxSiUxAmDr5zX24gvtgV4WVWf+VRfDMqCkOtRghckcPdaJqOPg2/5VOFgQfOKXJpmZDsXetODzIJsJ+HqOQZTUOj0/WdHrQJRwlAUGqjlOTICYI6GZQw2db4hmy9opkzQOwWr3Ug883AxqG17eSyueg0wneHWDs+IRWqDO1XG6ji6PLAgWL6H65HPJ4EzlShW8KTO4lHsfqaoxIKGVo1g38ocdlAqfQ7VYD4rYB+qese/t35xUUtalA184WNiclRGhBfym5eDcJXw9pIE4ua+t1v/ZFAmZZyI5TwkokHBOp41/mus+//Fu/GIdKKxZr/8e0VulJzJD6T/TEqu3z3IwIMWnYkkDcnNk0kNZ+TqHBPzOkw/Zya6IIQWruWlLfKMIZmvWTzKoMq0WOslFnfaxEs5FHdg8mWmAiD9BqFV3QGGCQ1MIenKHutdoeYFYdnZmUZLqxIWSaYxoR+FhUSXyolkPZWuWnTOzbr5jgZNTipjbCcAAAALUGf30URPCH/zY17lTsdDt4MCuDBchfmtjJhlspJFTTXIMOXwXjEssHAKqq27wAAAEoBn/50Qp/Ho8le4fWjFTeoeYBGkzShgBxWwkndja5bNgFVlZ+wnEv/f6ktc/2TZYqyjgJ55/tOIV6pqyVmXbON9ARTc2yNzFcuTwAAACQBn+BqQp/VfkTluRJOWU9ItZDajDxjFNFSz7iCZqu9hyP/V3sAAAA1QZvlSahBaJlMD/8nGrAF2tHDM27OkJbOs9HMPY+O0DES0PRvOIpv861BlT75p063uYcaX2MAAAAuQZ4DRREsIf/B9XpBwEebYTQ1xtui9744AnfjHcz/8iDklPQOLjtCwCEYTYMZNAAAACEBniJ0Qp/Ho8lyFP8RoeuxnN7tMBjJ9jcg+nzrlB5lPSEAAAAjAZ4kakKfy32HFmURfu+QKg5YYn7tMBntQH++2XAGEzOtO+kAAACOQZopSahBbJlMD/8vdqrFSwSNGb1rH6bt3ZATH+ZU5syRoAADxGSmEexEsquVLp0+zGygIMvy3PxPgD1cbNQKlVtPv0Co00IbsaLtqLrtBfMM5VqSJRFiQyKLaLOy6wy4x6w1A1lngoIJVTPcL0/7U8DV47PMjn6qsNP6WODrdMzMC6luUsBQCGIr00/iwQAAACBBnkdFFSwh/8EK99xO+m0sh7T5BsMq1PC9zsukga2S0QAAADMBnmZ0Qp/LOqo2dGURfu+P1ctenUZepp3lEEgKaGX7lZiv9DaTbqeDKsD6fOUkwLEDR8AAAAAtAZ5oakKfy7VUclxqyu2ZCWouIsjk6S7/xjjPQa0zHyI4Ey/sZxPsqCTzbZ2uAAAAjUGabUmoQWyZTA//QpSWz5KqDho8OWJLL05AfoaA+xdhITlQfd9vB/F+KhAtTZEL5J+VJpS9WNv/4K/97+WO8OUnRzFfJDc3kECVey+k6OHyyUFzdHcqdH8VuEg3cWhQUDC/SsxRezqBVXJQabztphePDftpMHmWVyJNdtESlEFNL56u7gVlUTy+N2F6oQAAADJBnotFFSwh/8WzeSVesTzATEMZtxWUkngVCvBG7M27NqF1w+1Otn+/LB4jn+LoUsEekAAAAC4Bnqp0Qp/VkeFtORJScO5RFo/yb5aYGw8wi19+DGhrHmgTPo8g3QaJelPwnNJmAAAAJAGerGpCn8db5TnNFHV4zI3rZ0RwkntV4ODE546aU3F8pBAYsQAAARdBmrFJqEFsmUwP/y6wudgJXYb9GNoqU9/HZBnu6JGzydvGZ198PSR8Lw6Uyo+g6QRFOf+Urv2CKX1Mxo502OLr1T+dSbUVh2GGWwhZlOw6fgjBYjZ7kUiHJFUsyhMCAGgQ/JmlbxivFt7hIMv4npr7pBb0eOMRT+mxGL5o/SbXAWDJfsWivBCQ8o2XShqAtCf5JN75HZm2CMnPkGY6UU8RWS7xg0QrRxk5JptM3lZXfDDiCuxjDEvAs2ZQ7VqN+SO5UF9rWI0DcCuJCQAXTki5Wqg2aMhhkyh+bsOHicQnj+WY8yMCTESGk8XoxsJiItZuHsFfhzW9EBJRa1AKvtoPlCMIKMvbdKcuzYBTkj8itC9eCWftG8EAAAAxQZ7PRRUsIf/DT2219z2nhEscf1Bo+9av4YEJYZPB/NKqCDy8R+uLxf3YDjoEF9tCcQAAACYBnu50Qp/AoL7DUQtpDHn8a1kYccZDfymy6TK0JGNO6aJIJYxTQAAAAMsBnvBqQp/MEn8P4oyhl61eI7QuVX/S5f+cWutXFZOolEkkfFzc08mMv+8aRlCr75gkB/uh4Y5dVupGlcEJyw1BkW9gJnp0BtQcWfMXooy6Dpsi1ULxWCndRjJMbblRX6mehozSsa1ZWCyV13m3iZjdkv03CGxdEZ9FWKd94INkMJaX5O4xkAHDiJUpdzDIVr3uh2YrbR6M3mDZTEQIjoHdf6GG16kb98tCPm9uTcdIj0M5cFaukjFUBAa3Y+WIiRMZW2LKnbdyqwktsAAAAIFBmvVJqEFsmUwP/0KUgjDH/vFBXKeCPUHqVgvkt3URtkP3cBN9lWlVPN0fYllrFm7Cn1L1srOp/ATLa4VN0b0YOpXHdwvwqiaefZHyR3vJRefKV3rW3HPqei+Sdge9+ymIx3SNkeTrUL6ZgdxWVfzmeR0Q0jcIZnQSHwiBED+1JbkAAABDQZ8TRRUsIf/NiowezHNcsBaSJr/aax2row36GXB9pD3d+sEXV8SXOlGkSmAx7gOcrtrpj2eehIXTYHtfrFBKXhgXUAAAADkBnzJ0Qp/MaHBWKBZ75PPqaHkedypJEcW0+wIO0z5NhCZ/7WfpnUA6MHuT9bBqfOoTjpZu2ft4Xs8AAAAtAZ80akKf1X5E5bkSTllPSQvDsVEuaUMrFISYMFwf4DYCZBj+Jo0pzFJR1uBdAAAAaUGbN0moQWyZTBRP/xx3c5npIWMiGWfn2dX+xrPK2RYrjA0Fc/7S5XbdZ72xrZCB+OiXzpVTRxmxsG7jKctqLJtXx9psitLPgIer4jMgx3vLyImAYNJWCFiYr9MHV1r+LkMFeEScoTaIPgAAACcBn1ZqQp/LWAqIt+iVTYqWTATM7Eyugtk/wIgu9WyZToPSI/u6dQ0AAAAOQZtbSeEKUmUwPwAAS8EAAAANQZ95RTRMIf9XlZ3UkAAAAAgBn5h0Qp8D/QAAAAgBn5pqQp8D/AAAABdBm59JqEFomUwP/wGencAGRAUpDiVNmQAAAA5Bn71FESwh/2wXJZi7AwAAAAoBn9x0Qp97+SnwAAAACgGf3mpCn3pp8oAAAAJCQZvDSahBbJlMD/9wuEckxB3KvKDLX6+xL9fTHxfhr3fuHFANACuOsWaeIuXDyYFvnL0GVQ7XS49frOYfS4xsoozfMmOPqfyVRKvuTtN2qp9Pdx79Xn1Fsb3bbcqAopRURB+dN032X2HL+ycvLk3XIjpfFjwZJ0vUEGNKb291VeJuKVkz/qZaIgXM+OJnTU+YXRe4OyoS4pMfQLIm/ZKHZ4nYumYsTV7k9Ud84FqaqMEMful90HMzm5VXy+G9zqHhzZwr96LL4B6YnWW+J1UtRyA/9QZl9JvfLdnmdxBXB79wWKiVrubRq+tlzhkaj+MVOvM7druZFIMThsVJeDl51wkQ0jBA8WdvU/t48M8m041RkzmVa8HI4q8ZH5qelWz+SxJ9Uom/FOLQEYwl4udbRPetBh29Ksc/oDGNAkZsux04ewsMNblHUBLkwsHu7CTWSPBncUwa4wHTar/pncAIEUxEcGlqE2Rz/mEZ2+JZX1H9qSL044fdQsv2snzsEZjADA1lVqwc7TxJ1MxijV0Z8ANz3WwlsnVWHAXtZdbFXSR7AMGH/k4Pjb0vrdS0dkniCJCM7Hhzf3d0r9Gx21dRZD80Y12gSLCrXIgZ5Hmc87QUsPKhgSpJCS31I7Kwr4PbuiKqzy6rvITXoif5FvqrZ8unXCijvTgMFZRZVIsLQrdoceewZucI2KiwYD4QYsizUf1ii4UR7mj/zFq5JgFsfzvk1MsA3zfK6pep4EnYnUMSgiECSG/5jhWFS+BwkrQ9HLEAAABTQZ/hRRUsIf/XC9VROgDq5pRVoKyqmyDsm6/+kCRUALTIX6G8dqiWBO9yRyB2JvmeICEBYog/WPzTnjcrD+UMyReC2dFUSI4jmBU0UERMpOrHnCAAAAAWAZ4AdEKf5SXfF9IGfwjGlbXW3ib6sQAAAA4BngJqQp8O38dX9cBs8gAAAHtBmgRJqEFsmUwP/wCyTZcAKvCiGR/u63fNrfgrydZ5Rib/Rqny2pUSk5m/+ofKans0pGQ5v3RiwGZrJgH05qWxYrTuHhfjXLqshGRLpJcGmmsRU+r5MxlYu383WQWuIb0MZVLHfIFQYmC255yaDiC+HlSZe7b1hWRX9SEAAAAkQZomSeEKUmUwUVL/AAEehaLcEqF3eKOpBQc4YeVpATJILMPJAAAAEgGeRWpCn2bTfqqzhtPEoMZRgQAAABVBmkdJ4Q6JlMD/AAEb4zf+XYsQTZkAAAAWQZpoSeEPJlMD/wABHdjhgx52ksmIoAAAAB1BmopJ4Q8mUwURP/8AASaFotav5zCmG1rMrl9NoAAAABIBnqlqQp9m036sdRc8vYYpp4EAAAAXQZqrSeEPJlMD/wABI+M3/z+zytqtW7AAAAAaQZrMSeEPJlMD/wABJsWLxs5zRueVXOTWgggAAAAbQZruSeEPJlMFET//AAEtKydp+Fa2VECFMCShAAAAEgGfDWpCn2bTfq1zhtTF0J0f9wAAABdBmw9J4Q8mUwP/AAEr4zgM5F6Y9MY09QAAABRBmzBJ4Q8mUwP/AAEtW95oxn67AwAAACJBm1JJ4Q8mUwURP/8AATUrJ2n4VsGGA3xd028DB0pt4cLYAAAAEQGfcWpCn2bTfq9tNRl7DFM/AAACC0GbdknhDyZTA/+QVRakkTx8Dr/JQIYETDDCyN6xGWZF3Ek9VjdsCFJ2crLzmadFcHP60VgHrzScvHu2pLIkTBzMw16AZ6WLeNDvapNdp4Bz0MgOvF9FcNioy/w8sw9NgWoHt1Luj3uL/nIDFTIl2I2v9zvM25LqrF8TyzAbwivFD7EHm6pV8fALznIl3gYL8Hfua3KltfKelupAveOETqH+nvOf6SsA09Ztb4rlQJNemtHPbSCo0ZQmHdh2+jKGyy99JsMUo1ZQJYOSgLebeIAnqgsM4uF+y3+m+f1VQd6mZZuoUvJ5Ozf17ZWeJgaJfosi7unpkZz9AVzzZcxYUg38kEwUr32K0L17S6XPi7sggjUpyIULUTZH1FFUrahQfNB36DinrqxUjxKBMDg9rO/cCT7WV5wdabhZV3X2Jk/d7paSuNjwwU5dGt0t9cps23g3Fy34t3gj8CNBziPFx+/IUUqkBQHTot+ThVP1+d9h48zpYFbFds3KEDfrsqt9a9g0VK0842HrveKZF54eATxVan/YnNh+DX+1PMzk+TEGhi3gvSpmMwMDb1kfC/MxxScnbtPmZKCxj8urSDTgh1NejZcfw0Mx+wZRYz1ryxTVdsoqSTzOaZ3DJJuqfuTGH05865Fn0HKbDQ3evojq5W8M0BSaKX/ddtQKV2T+Exd3ecxCw6z7hiUzrZwAAACDQZ+URRE8If/f3e8kTTYg4mxWHNs8ccEWzh52jJZ4KRE9Ogg0RAJOqZTnscZV6Mc22vnVc510ZsBT7RbDf4dzQblILJwKALX2ku0M4SDGyWSP95F2IXqnwIa2ZyBCKHkAz0cBJJ9xctKOoWT9ncACcQGggGyJ4Hwm1WkJS8exhzs0l1AAAAATAZ+zdEKfY/f2vbEOqykvGNVOgQAAAGABn7VqQp/dnlM8tOULaOSugs8w8IdSZ88TwxPymN9zT1k4zXcTqOpfri05eU3kV7kO0b7u/wEjwrjRQSZTWUJ+qUhZ4rqk5vjAbQ7lbiFEJ5v20PFB9VVOENBufKIQ+2gAAACkQZu3SahBaJlMD/8nGrAF2svacDbWclQYXcJgNSPwshLcl6dxajAWS9V8YV6T/5sM2JZDNuigyBMhMtUR+OfR/SDv30QzGNFA9qq1BAILTYU6r6cldaosKeKpKdDH7bEYn2XyNn/M+NXwsk1RiLMJ7iw5ZlMkj9uF9ixvtsdI+dqUPEV0OPiI4r5jl8zGiWSquTIH//dfena6npcKlLVeRU9mRkEAAAC0QZvYSeEKUmUwPyp7SQGKgWWJvcA0MS8c9QsfvKRkZsK70a0nLIiW/A7v4Ht1v0h79FyRdeqfm1rMBbS+HYxIXzxIkuBsiQV3eWjlunk/naHOABeL84/7nuyIY/5Y/eg7gjkl7Nt9QM4fk6Ipf7l5oil6eRVVE9w/Wq9rleWQG+hrGp/h+T9ibJvcdiUtczTE/2rK7yC7TpQoozwwKpjunhJcJYFsTtAyOR6OWqJGcW+d1GldAAAAkUGb+knhDomUwU0T/y6/lrrwH7cfSvWmkA1keNVm3Myxj4IHugAAsMe3WVDTz6sK9F3X/cT/YiziSiabirK9b2V0TuFyiMClkR3aL216TgWFDntbZU1zcb+CXQHRXYfFU3Rt1TNJHH37xRTy9IEXHa0T0AnuptY+FzZ9Ur8HKN2hlIZVo33A9qfFaf7F2VVf/fgAAABhAZ4ZakKfy2CrwyXGzrySTOFI6FPJS/YjT1QxOdKYmiCazf5LY8nX3PcxYI8TJ+2lBugvFT5j0RZh1d6uI+VNpdWkv2TKGHXToc/WxJfCkiR/3R1hwENn6RdvUCHkLg4pmQAAAGpBmhtJ4Q8mUwP/L3a2rEgLtZaXj4aL0TZGMk3h4SgAAAbke6imlHlb4qe5/ABpbbEWbuadC7yUY6awY9OVZWqmHNa9f2r1nr5YUaZb/2vYOR/idYGAu0jW2KyQY8mQZ6jkKJq84bgxZHrWAAAA3UGaPEnhDyZTA/8cUx0EgMVT+Bmp979WqGqcC4/aTppznFnYsS9a6odLECP+8LsR5lFth2FUROc3Ocnwr3ohsS17ucmGxa7vv+L9f8SrcGboEwrnBg7iVcLliwCTk+Y3kak7hT41CY6bVXgw7fi+0/mjG48RsuNYezZc+K/7EFlQVKHT5BT7SS0jjnrKtPTFFC49dq9lkean1qOA/BnTBBLcv14vja9oTyKo7VprGXZnfOKlteE1UhUgAMvIPydwt2XKMoPp2+GAOstiGTjFR9Vk4HT91E5yMyGTfq8nAAABeUGaXUnhDyZTA/8vTm4dvAyWQqzaYggMvAE7oAAFSVciy3XUJPC95GnlZIYGRDXXZs98y2RVfW+/4pjoGF9/mpQfblUeB6yoFtW9ZL0mS1FW82TcQo+guZ5fsm/8wClUqtfwqfB143e6aj/LMZ/MOTAVUO5SWhKTAcwnbsrkXom27yEhxcC0wj0Ru8GM0bG6l7xsLH3us4T8sJiG8b5zH9idZbzAy/LN9VN1n+4q22mj4CDuUarnmm9Yy9Zlzn8+G6PCEfIiNxCvaDeWbCd5N4uEk1S8INAelX+A4Uwj+swV7sS425jbmIgji3hUo/eLyJ2v9fNm2n5jntIcU/iBi05N4oqoymvzQoo/VFanINrTravfgsm2yXknaX+oF7ARGHwC3yh/OYOphwYBYD5WiRpRaSp9rI1heaCaZYo4Reqjrm9xVrNAQS581wM7yAajZoG9J7wqbKp/eqp/9rUQxaLQ/zRl1MsSrlSE7/KHSUhOweBTsdQGSEtdAAAAokGafknhDyZTA/8qe0kBioMRC0+Y9xo7KCN1iwL2RjaUN3lk0sW+m9ymXduNMZJtZ9Q74vgrAty3bSLxF5mO/hfgrVyvGx5//gzG+Ou2qYcGwac0sTrcaPcq4PCloaDESdU9jjzwGJZ9snN2mkYBAdvc/mx4GjfzsmjU9yNMZ5GWX4RIW0+LvdSD50Mqm5JDO/rnX2Wt9jhKZ7QLGCmPsmyROAAAAG1Bmp9J4Q8mUwP/QpTswGM5+1hWPbNUQteSJQCu1azScx4PONI4cJaBS86DtYNZoG47sneVw/WkKBIVzLT7MmRWi6EhAS9s9It7/DHVvcf13eIUuw2wbhSVgrz/uDAeJ8uxH5bUC1bKHXA0d3xYAAAAz0GaoEnhDyZTA/8nGrAKda2i5+beABxwnkFVknIpWY7/Plb2ur5dU54UecaS5V30cA749fzUMMYuGB8TfF16p/Swnj+LzRfDEhfMzwwZO/ZV5yxeAWjekeJMcYNcoNK/b6SWzmsvX+yDUczriDzfr6E4dLsYefmS/Hoqg5nwLTLxf+sYuZFU8oe3KufQe2XOaABtrk2FNUrN8T/F0ViBR+dIUY9CUKF1XHAzI4pI1E9K6rcX97UkcjcHCoLMb+NWeL2knwxzgkyJLCcwbk+VuwAAAI9BmsJJ4Q8mUwURP/8nGrAKdAsmTVxH2SRz5IqWGfZHb/9nl0EWNgPf0vx+ofgP+UehQ0TRdw56ZPeJNfzz+pybFqxFirjf94pXtmfglP3jD8HC3miHHbOTWbpZANeVlGpZNoxQqRQ5hYWHsjW560sXSw/5xOofLMHlWwJgAV6TSKF1Kw0+azeJ6gr1/4AhXAAAAEcBnuFqQp/MaHAEWX7utxIMzzpSY8eUlgt2g4RExFoL+zXlDlldewkZ1wzbhCwGJfB6fQd6oViFUGXf/u61wqsMWYVNsRbcxwAAASRBmuVJ4Q8mUwP/KntJApzGeNJtmCYZPO4vwMlBZ66zeUbn6jgk25zfNbu/1fMWSiAoS/8OoYiG6OAnazhtDqLAGBlBw7xfw4Sk/eRv0gWxdYAK/CzO36eGi89DesQhzbcB/uqsK3bwMLMk8PMzevuowkyPyLBZH+ZEAqbBGaqoj9GtmyY7Ni0yIkWOKT+BUHVfLMNUCOi5bwfxMaYiOIInjoChmBl/mkY569t/yX0h4NkyqEd7JgYu4qzA/EVi8ifmod+A2dUNgfvQINwg95Bxk+YeyIcUb6x1HpBc9IAt+edlzx05IzNbhmdRffMgAOHHz7hx+Od7w0aAhcRgA4AZA94mgwnXQDYfBdpauSH+GTMzdMlJ5q9y9A6Fs4LidycSwPCAAAAANUGfA0URPCX/yWMqdglafSxLquFv+HJCpl8OUE9b1z96kzV2H2MIjLyWuO/Kz3vgEBebORmxAAAAMgGfJGpCn8dlWOdhKPBy2TJWaF+4qlSvsi17/bIr3g9BBXiw6YUfhSOZ2QeYhdxc0pb7AAAAp0GbKUmoQWiZTA//QpTeYBB4riKzzZ9fo3sBdiSUnh0aioImJZmeuPqEBOF6NQLUct8FJhRNh3elwqPpAuBVMHnYuADvegrMnVi9VEovg8q5n7JBmHtS+tDz2VdYws+68HrsRT7iFeek+BYQxs3PyvJs5CW0bZb+d+Yl99yLHquV/MVSDbauvA8ZJRBJRujcUpb2gkVxS8rAS6B3jc5GT/SrazEIDM+BAAAANEGfR0URLCH/zYqMHsscSl/YmlSDjlS2RzDwUT6f/YVhf07AolKpE3lG3eidBpZMPfcmi3EAAAAsAZ9mdEKfx6PJb0GU0VI9KV1P+RQUpRwZMBx3yoydXrmM90DfwvlX892fxswAAAAgAZ9oakKf1X5E5bkSTll5EVsBLZAGoFCEqQqy4skp5SAAAABnQZttSahBbJlMD/8nGrAGA3vi8CTXAsaJRR/IOXtakY0Yeuh7cjz9T/KxrD4q8CVixCw4Zfa+P+IRppfh1WK6KwavWqYQs1JG1It/SA1AigzEZ/K1/Ns6IszjrDsZATa9eSXH6dtw3QAAADlBn4tFFSwh/8H3isg4C34SbW3I5bExKVvZNvetXGFUgM0JXUTBrjIjhnQGZ3iuEWtO5FJGFl7PHL4AAAAeAZ+qdEKfy1o0EUqFg2GKMk92keKvymEaQs8ZGo9oAAAAIwGfrGpCn8wgYMdgrc0Nt7ivSV5XcslkwIM7AfQBIYrY9VJBAAAAQ0Gbr0moQWyZTBRP/yrzYsEjTxWpF2ddPMsP7AXVownJYOrRonSKIJO2Q56ygUPeFXuhk6PtMuhBfSoj2afD63mA3MEAAAApAZ/OakKfzBC6hw8FcBifLIfmobcB3eG6kdy0/PAG8koB3ke6W77/qI0AAAFxQZvTSeEKUmUwP0KU3mAQj44Z/2I/JL9Y/r39tm3QgcUtCcxZVg6MgvWAFw82OHjxz2RI/dh4bt5RJm3ZzvVCnUhrQvrkpLHRr1bCBSxICnPx6/yh8GyvIU+0jDzLmQxk/p/zzd/gy9LdIm3M3xdj854n88LiQVrGDwcRc4FSRFt1dtqyLiJGb2wx716n1mrm6cPvkV2EYHRc4i+VLJteWQY3FbyCsqdOjA3HUywWZiNFSrmnCXaPfXxIhrvWbLBATJ3E7EzhbpTjEKXWd3cz3sZcb82Txo1fZSewBZ/t100AxdbBVgRJmtPqYgrGI9qcmrsi/NAeogQCC9iN9MMgfSLixm8PTeO0FnTLb7X4syD0dEtATICQTkpknyvNzzil4JgiybstctjwiXhwUTv5UDi5EnIqVrB1YxSRPUqdfM1Zrw7crbGmQujH8KxEiNu4rpElsLeu3TlHVk+80D04rJuySnqO3HX/wv6AVUaomIsDAAAAOUGf8UU0TCH/zY00hOy3gZR5I3BJat3LpAYCmVy4Pynmn1g2/jpKhZL9DPQfes6ZHVpsbS1aZodKIAAAADQBnhB0Qp/LqLVEfUZKOOiQp2fvf37h+Hn6yLXzR6IbRT21hxRZX8Zn/gXYVT6rUoSi3hbxAAAA0AGeEmpCn9V+ROW5Ek5ZT0i9UUKmkKWvyawPaRAICdUlW+Ou90XDtBFl1r7eSw+5P/PnxH5cM5B+AwP+X7NatFV6KSeNjvGFZ74fi6gUj0J89p9DVnWC1Sq0OsKogFFwf533IH3g9HKhvaNJSFEvY7LAdVpg7z7kncyaPtoMKw2/FYvNJt1AqQVY3lyHiuQqRYLDPyCLAWV5g/r0R0li+sJgV2NNPPa1vHygRv3ORKY05iY4vXYdQgPHZDFcixuoJCLQwUGDY0FkmzDR3sAdy4AAAAE5QZoXSahBaJlMD/8j6+8FSivdKoDwcTj4pUYHWxfLAGCoXSMn/qmv65pli8hjrgUpnRsPb94MVwOs/7fvlDybr/ZnH0oD32cszxFTJFqd7dwLyzw1BdNjWUOEwCp4zUKDr/SiEkxtaTnwbBoE4UPeO4ThxzZE2gdPMbslocaC8DqqvOrMqx4JewMLqB4hGx1vYvdOuR28ue/NgbeYmPxnOgdNEACoaC4JmhSnubxc0FOlGjipWkxr7O3u9xbe34FHAbTB7gyKqYnxYVbSDZC5fcMuMVrUryTZSlaF5zO/2jh3yysnT2dbJrAhvMuvnDYrdc4y6F1X5PvCO5cye4FYpYGbLl22fB3k4DpFON17GC3uYMslykeuTL52V8z5ru9VwRxMkI28wQJlTmepWLZLDLYS6wXk+4xQgAAAAHxBnjVFESwh/8H3isg4Ce0kjc8hp5XgcjOswEjUgKDtkezXcM86LRAHBL2h4IRHQFu4gMmogRvjD3WvbgJrdfIG1hlp0y3A8HjLLEOQkGk1SiSfLlJKyciP/qlaml5agoA+oZJLF7f02dBcCyj4QP/2bqTBf7NnOZ1RFyLZAAAAHwGeVHRCn8ejyaNEvqy10iw1WiJ1ungWZ9i6g1LhMOEAAAAkAZ5WakKfy32HFmT86jVwvlCh+9lzs0APSQmlmNdrdiK1etWBAAAA+UGaWUmoQWyZTBRMIf9iVeqatoF1Rion1iHC0rQ6n18wUdwoQC9RbubGZ/GaO/yoQx/Dz2y316UhFYOHZjrAmu7lyMc8hh7vD7UABtwtLI9Z8v8f5DsZmZnfzF38F/qW/zKCocTg9Vsex6WcXjiaKzOSdqApLPDshjBMKlBOWRzYgVYRKDuuAe36G3DkoHuiHvIA3reRWhetXfXMUk7yiPGMz7J712aOUlkOQfVo/ohFJ/zJX5H2PE7ZPmYAzg67ImYEyGPpDS0k8Njc+4JVhQqN36iNdz9J8VZRaBZDgyNEYwwqdHWGd2peRJXly+qjHPPY1gVdHChvWQAAADIBnnhqQp/L5XZ3RsYuRbe5y5u1mcOVdBXCWMO336KcsvV/ImPEZCdNcopQsuD62dQegAAAD1ZliIIAP5RYd131D4FHef22h9XprmUoPgt93QjXc5kHzHuW8b88wzBZbKddMQ5NGl0QI7/cSPsonp4JS4bfpNh/T1CKmUR2jtHY3WU2TytB6LqWTihkUd+hUSKIXAJ5Yx60tFJgL0a/lWGm4v31pcnz4awInUurxjkGVPwRkJPY3drUvvSofXaW2wU2KTgCwtQaMKsCNvbnjuXHYMAWT5UPXznXn5bd57kYarT4JkNIU2bD8YX9KAdQvupVeUkTVw6cRQ27xTVa5EJiGEKIuMMsUcH4GAG3eJ1NG7nDdqI4qSXfajd9IPWRKpv3n8Ncle7OjAYXnB6S7GLPXKDgBzClYfsZM4q3SJLq1oMx5/+DDvs9bavIVKRQcT+v/7PlSsnU2J7vbq+dk3AnMV1YHtnr8nNqA5UNtHW2d0jo2aJdOq7WjhHUX3mIhpw4mxkOqOVHze0NdhhJ5FHyTccd2vZlfqH6a9hkt9m0p2VlF+t3dH2t8xvKU/HqHvps6/MMI70Og+KtCc1vExBiStmQhMWs+DC+qa4W3VrBDwwczt7zW1Vw8Y+81F/8Pe0Jqh/fvVIr18uUWRaS+6HqplwRwlQ+oW4kZRGD0+ybcxiC6tZvyryNs7KP87cYp5JgkuXHjVvB6m/Hv5mSvYZXM997JD3PMZVFU1rRl+xM23St3NkZqZypHUpd7UcPY+blNblaFILOfXx+aNqHfwrHPhy007higfI/QZlyMvvXYG/AhPOM3C4H9mAcNZgZFbdJEnE4OGHHpiCNUbyBgtRh8mt/yZcKE48wDYRO5SuwJPvs+EbWkJaOlCqJBWuwUnY2+tpsGUcqFolk5AaD/nQT/LLG+o94h00ZJAfQAVBrEX2wz9U0c+MXnib+5vwgXMWsvNUpZ4q671gRhO2zKYbHNeECbWB2VMUBSfcq3iglEp8mtk54GnSUUzDcH8Ns3yw+h50H+K6KMBE4U7UeGe68VUOz5dpVEE/l7BZFGmTZIklah7wZTCI4cH+eDnj6jOiMAOGRFfgMw0GjMMF0GgX4riy/uX8CU5lcLZCkqpEzs45KQfXNE3QSxsDpN1R6tPIra9lM7Q9mYzRizVidhiPSHGI2hbtpIEUcyrIXX14YMWo5Rjq4+R47b2pQsJZbz6wKcprB10ja43HV62OcKNl+jvSvDTe+Lb/GqCUvF9V65LrYggQIJuM5vuk5lN8L0FuUv4s3qsJf86pMPJUGF0nLJmOaXx0BkMAMwL5+cKU9wNQ2jSjIlQR3t5Tp3LzUhQ9YEA79kFK/TvMquXQEYdPBK0ANR5q5S3UysCOIMzZFUwc8hymHJYKGcpBIloB/hQoah2gNe5qlVfxwkounEkL1a7Fpb2uTqHvneJWWdS8QxEbWBbRoW0jd+/YtkJe392x3N0h7wLysCd4sGTXNyQ7FnMq++aC9tnosi6KQq6z0U5fL3tk9nCAUa44j/IkbLYXVo0tKTE/OlVczZmoJblBzx+9Ih8LmeizTTkoOS5FvDNJjMXm6I8+Pn/lys+mDYj8f9a0L3VC07vJeztJXujt9w1Y6adTvNu2zTvNSTSFC8f9IeIa/iqa6RIYFE8uSl9gEAwRkFozQkt1ArcGSO3V8wCeHjcsk1RnHtrYSrmxwCHUFzVOp5CRvudiV1zkEG6G2bPPKzvmw4W0vxn9wHt+uHCb/FYHrnkonSubDO0VoZ07CcgI7bRp10NkeiTmeKCYMUqvV2aCzkpr2R5mBNKfQwnDmH8MOae6q/r7UGDZrbUepVUn0rl6B8Jd4FnfVVTQt6Z1LMn53lGe/zpMbssElw/H8XldXvnTZmhnM+6ho+DTJSZDz9MO5snhDtsbKlwhDIj3H69B0ib4YBl2DMHUXcrASF4V+jQuTd5X8CDS8CXu4GDZhCftijD6P7yYyOKZRwXsLIZjf7U7sEv84cj0i/AB3+rFRswEJ5soGQVF4eab34wvebo8dfavMD1QQlTPo349LvPx5I0kYRJsX50B1l/5Rqvyxo8vJkxjeWX4s9kW3X03x4tym/oKhBwS4aloNIDEG+qZjSgVsSkgkIY0ie1CrRY5zoslozIvrFkMtzoDvF2lGuWzwnl5O95utkw6hKthXs1i3VzbdQ786vRE+dwisYHBej/U3mI6+1eTi62wGGfRzywIrQ+d3KMXrrMKcYDQjw+0mA8wFJ1/L2qOyhwGVTFM6X2wBU1rIx5bUsjBUVFInQ1pXM3knPnPxncmvKiTzSkts+cAn7MTSp+OuMi4K8GTLNo8FdPs9DeeuuvFKmuAWzI+WJVazaPjfKR85Sxen6R+Te7pitv/56+ODQMFy7I4xK8uzrGwTI+HB39M5ySjmgC28tMV6b+YwdfZeB+8+3f3l3Ie6QM9zc8kqEGH0ThYC8x7N2HWpTD8ZhXS2/0sSIwzbEzCv9AJ/o9Fzr8Vpl4M3kJXpDLa4j/gNulbUKGfNg+vbuw3Jtsq8ZTO/lk0/QT99PcMs5jZELGFiiHrkxqFIV8uU6m5smMjFzi5VRbLoBenvUCGJedP9H/4emTg8tBgNvhhfBpBkPMW3EUC8CAebjm84Wky9PrtzhGmJ7/Csuz/ZQGttyoqDplvlWSjSnYvRp/uyDWmQmJNCTOsrBLQE4W1MGbiWCkYgCXJP+1ksUA5GlCNGKJojj/L7SKLTU2xEz4cU366gHr9/jUkhixWtRF6IcN8UtFX53hq+YE0FJFU3+Yl1zXrEB4S40mko0nvSn1DwrzJFO5l3dmhuMYbI2ZP6h/TpUf7nEIxmlbWRasY0DlVbZlrlzgpSamhMLtzWvINUC6Eme6pXGtQs2XsK+zVoknAzIct8AdS8KU8shYBlXBaHBbFkxNlZODXj4Ijvmd7LRws994ZmP+apw/JZUM0d09Dg8m/Z7xu0clR3cxzMHzHSW4zlZ6G+1qKD90Hsro46n9o0h6xtaEJsRtVuYgMeHWNH+NlYktQdeGf88QaBkkS36+KYzMLkHrqkw/6ASDzGmPP6iW9QKWRffUtE/TpqPLPlN10+2ZnEIoiZGlWO6CZCkXYl2syAjGaRSEWGiv6bL5MUzybhXMgfl8t91HALVQ1oWhXizUSrTayXrV+J4YlF/5kvGCD3uGwrRtyho4bh3qchs6Ks5+GBJ1XpLpsQ9ynlHXs+orcqN22V5yN5gcABoNPHEDetb2EVVs+xXP2B92NuCqlvxz4J1Z0luwfJpTXHp/lhtB6nwcxxlqRpE2VMB4iEiavmzUdemLo3inQyiH4mfdPmYpcKadauEXwpbv5m051YtMDdYsd2vXJspla6QfJOUqc1fjM3tspDPsZqtKI5Tc0CY/OQXee6qm15UW8G6kjKJSzS/iV03LWy1Yt6Lauvar/1l1feU1lR95zJiZg4ekrPkeV/fbCu7zUL/CZOJLfa/yF/2gT0nrLhyaZiGWfV/wKZGjTXRXT3gsNN+sFN011ryZKZwHeTo4EyFSx/pzfJ3lw5SV08Vq4H+XJ16JqBFGHNHa79NfCMQEA/qdpFx4snrwLMtRtwDm7XjWBceKqiuQkleahAhf8rRgEy/O/ROK908p2BMePzVp653LVJDsj3hShOf84sJDyQtnJ6gkwn+2jEXBxYfq3w/NGy/QvWMOnQLaG2zgFa0xO+jyniZPxZeVAjiWsS5ENWJB9ejmav16wP5M9atDH19Zryf1i2Z3XZvboHqGy1baC1X2bcCQCp118LvA4mj7g0/cHE1O009l0q7K0pCU+UeC3U1rQvzEGcoxX69YH8l832givQbh/kGlb01OAood6vgaZar7NsuHcz0krYM2vgQf8KiSxPnmDl8DfLj9f2qjOkX/WU11kdJtoDq3bkaaONtKNEtvHxlgQwruRKVMwNqMY3sQ523i0Poz0krYM2vgQX5n9REDXZUuF5v8RICWAFu6afCscNnXmVV/ExhtFbvDJ/GnzGNJFdLD+LQYy0rOHn9vijSwOS4QXvWj+UMvyDlnhKpBkkCqbbNEWAWyMIDw/yAKs450Jlqc94mo3rfCE4cDUHKWkr8HlA9wAfaowSGcYygWMF66ke4+bAzmo+4mgWgmCKIRHRMaws0eVJDvUxAu/iCFvL/ZB04VRVDehJdRkVO6xPTDq7nbrttpO20yLzl5F0gX+vEqUUDUj9wROVFszJ9PPCbqkzYvxw0KPxVkxLNZ52wKjWP6aQea6mo+ggtETvP8GSc3mJjxa1VhkcC5SHxCtfamMRiPtDoxdqHzDdHPRdm01GEDxkheI4mXEhdF/N+xg60hsvD5UnoatUJKKv+eC45LbHH50y1fEC5GkGDgYXd3sfCjVUiKaBaKVmfBBg4kyoSTnW6RMcZoZbkHVWWsjNfkBOLELxPS2DiiC432Sbbg38ouiq/Pq86xrpszi72A+PzFzUpLBpYcte36BtB66pQLLhcLtteKVeb3J2UqtDAFMXQTXhCSOiIliv+is8jHBRsxHAQI7NDZS6Z0ecteyvxxOg8P7wWEemJWK6LRYIXyGy+SyYV4TV0Hms5f1DGo1hsgEdWYzKhIajcruFqLAQWk8AEHOc8vHPxMi2RyjBE7dlg8YH/rTkFRYYCLyrqHlbM4uTptPHuWyJQkCTxw2N+gbQjO38bhpNrU0JeCUcIaTvMyD6fwJbYEfM8BjzkbbNwCFnFHRo16a4n/zJLwXx7rp0Fr/cyDw/vU7CQLRrS0rpBpPqAYmxo0vCaug81nL9fye8msBYIyiAVe+p1X8wm9ZWsvssvZs02s8az51i3cHLgy00bVa5vVgt1YqLwkxeVdQ8rZnF6hhkf7fPK+JCk8cNjfoG0Id6QepL8ZMB/ikOiEylKZw78Zjg0uQR8zwDql/t4tB80JlccRr01xP/mSXgMfzlr2WABlDl7MGT1qsWjXGjhyDhHgAxNjQ9eE1dB5rOX8HDlS1YaRFGIBLMXv7Sro9GZdJv6V8hUMKvpb7s40i47fxajVuP3peK5v4QCr6eZa44RkeeRIlosbEYQv7cOnY30XECV02zm3IZb1pGcGhFCxzf3P/z+BB7H4vDVECraizTUfsbT7Y4DtsiC52zi2ZVEGP4IDehuY+GARneY2UffP9Oxbgl7bIgnfHpFjCZotjRDDHmJV7oKSHCcgFk0wL7BGsRb8UhYTVqKf+MwN5qreCuS2DfOf4bqWUyumW3Ha5QA6+liwq8mBRQ86bw5BOrE5chZ6nCNpkVibYNhsNhsJXaoghFqFWcDdPUxspY7Shs3J6sgQAAAOFBmiRsf0UYNweszOA/preI+7+EOEBzyoUR5Qy3KlL3M8VJSliyGCwIm10S43x8PV4HOrdJmaZgkjaU+NbLj+Dlc3Jix9rIJXGDcKsfyCQWphpcAOooFMdjzBp0SvgEPz8DByjKduGEXaxwsrE9t0gA3z67lqAgBFnJ6lolmphVEtjqTmZ4OKOm0YtDxM2uBLsNqz8A15zKZGKJmkhTXx1bMsNrcEeyF6hre3vgb+J+lexNxhWl17g9aR/Z5iKzWJa63R2Rd1Ls5w1XOjzfsWKHDZC2MRXVdkeip2tDiuLJBVAAAAAoQZ5CeIQ/zagp1et95xW0SOQhXfzrJTrwc7Fspvu+5UP/sfSBvq0KLwAAACkBnmF0Qp/LqH38hwVkHepFrvuh9wOtrIau11w0lVD9fOQmiOg3pQNJwQAAAB8BnmNqQp/NoJlzMWQwkfL7bHJ5k4CQ88obVQgnHev4AAAAWkGaZkmoQWiZTBT/JxqwBil+yI4n+JRzXe/jtTu9sAMXefvUs7I5K8/moYYxcMD9PMrxG9zE7dsXfOLhMZC+ZuFCfLgpMmQs09QRyb/g/jWHZYsPAVwHQvqLaAAAADMBnoVqQp/MG2v9SgNdDDSjx54J4TnHlB6Ze9xeGFoOiACbVctnTf3N4Qkb1nUX9XpXszsAAAA3QZqJSeEKUmUwPyp7SQKc4c/w4qJv68TNO3PhmcfgxRLH0M4qNE4pvPk2YA6wmqD2qe+BsiO/gAAAAChBnqdFNEwl/8gmU05LuGdCtjjRPt05aHO9JsdUO2N4UpCpidjCqLaBAAAANAGeyGpCn8xocGHc/jGDs7Qv2/WPxsVJwzkNPUvNK/h7eKZ3P8ZWAt2h7M46qOunHla5MuAAAAELQZrMSahBaJlMD/8vfZFdApFa4NqSnfcUTlu2soDa+aRngHpvO2+dGHTPHagFjl7tP2RR5e5fJ7UrdhXtMIWp1fafWCRO+1TsPWLoaKH6f+IgCr0eyeWGuqttaAxdxPkHu4MgniDNuLwPFG30GZF80csfIC+s3CeA1lHxVQ4Wbq1sE+rDh0E/4DO3I0TVeZoBVlqLAZErvegvSZNb/5kDZVJIumMlXLf6zLlKUQr0OUcrgzv+jlI5XVdpIXvZpXn5JAgXEQ0z38c6effyTes7GcLXg1PJrXisWRTyDrPPm11uMHRZ2mcNA2m3CvJ1gmZkQix5OCVcQrf2J28dDv7bV4vgv6OmVD4MZPmBAAAAwEGe6kURLCX/yWMq1q9/ntNCgW4ex7hap8yLrLZVtK/7I/6QWzP0ZxAxUkuZ+HeLL/S9m9uWzoWtN/k4iD7DK/WWQo8RelWSh0it9tbmgdqAXz8Q0WmPNfK5UNyLQnlEPROYSzZ0gOfTmhdy8LZ/Zv/JJxMvtpdWS9eXviGwPlvDH0iUIy5feuO4FhNOVYD7CGtiSqIRJRqxeyqT9JgVAgSnYXIhSIGb+DRjeU/kjLLleDol2ZxEKHsA/mV7U9SugQAAADEBnwtqQp/LGBG05NAJRVqBuXXDkUg4AGY4Cx8GChk2KRIOC4sdRUoJ4/sjjzHHsPPBAAAA3EGbDkmoQWyZTBRP/0KU3mAQlAKyEHnzB1CHr9hFrqUy3QliTQeDUHT2AXBPEOp6y0OR2B28ZOBLkGaK3fqapKggmZtW0J7qWr7FXXoaGDdXvSEkyJbZOYPDnIr8zBqYlw9+5ayvEb3C/ngHERpJHxkL54MQEz88jGuxZcjsT7n2SRJQ02Y4JCZqPDnaaeywlDioJHMq5onuargVavZJzoNQmWYcktZ8rfQXUGX47crUZN6Q3dWi3tywuotR8HLVoylDtP8qR/K40awmLXcRtsD3WIvmmg2o45G8mnUAAAAuAZ8takKfzaCZbCuv3avlPjXe/k5/jxLySAC556dsN4CBIHX+5AMXR+OXonRApAAAAElBmy9J4QpSZTA/Lr55pIC/5gqZjdIdiurZzEIvrAnFyZH+48P9kKHYGWodwx/HG4MVQw4nTVoQsilMcNzplcioPbpy4K47Rh3UAAAAskGbUEnhDomUwP8cjHvqe8FewGTo2hJ8xCJeM5Ter/SxgnDWNNg37mlkCvv3tduz/D+5BtLRoQ7gsXvCH2R6aRB6Ayx3dH+bIKQpzowqmRTN/zR17sJzqBp0D9GzDdtOSFk2ZguFg6lotvZyydNDR54Ca2rYvnQE/0hMEFljCNK2Pw0ixneXYJydodX+A99MnzV1TQT5cx+kRbonVxzYf8g860RvxHJGds31cuTayHXDlpkAAAFWQZtySeEPJlMFET//Lr79zvAyFO5PtyzxY6NlrX+87KNLFaBpDUShqawC0D/hcfIac4VQxBppfMuWRVG4Up3Kv7ZbEvyRvElMDcR1lwqG7yJS/ZwAHV0ekyUmbZ676Ycmmm0ZsxpZx+dMWedWqCH1YCj9F2xPdoAAAXb/bbmaSmjJi4BdaXvrz3FCnk/0zP4JM5sGXULIvezTAg/WF53TO2f1z1+3PGyyDJLV8fDMwaKonEh7wLBa1uwpS573I8Uo5qcr4tzvaR+IRSSyVmjp5u6NGUTLf7TrUokvCfTLhMbK5Z00zWQ223w1KZOXtW2Ke5aVbs2MDli1f2XgD7nXQDFnDndK0vGAZrb7o1F9THqSYx7iLnua+ggDy30qKFoi+dykHYrinKHzV1cnN6Ay+ZK9bw5HKXeTFLhNMcQySK0IG5FcrvdsHN0gz3LZZwy+JuUnhFiqAAAATAGfkWpCn8tgq8Mlxqz6NxYbrsKzXNaL44meam///zV3w58tdHCRZTqDRieKLxzYrsaHKNn51pFRNeFnL567BRPK/sqdVzy2uGWLTfAAAAB0QZuTSeEPJlMD/y90YckCh5TV5vXdgd4phtmH21Y/eD0yNQBXgTswv7nDh79+6Iy+KSTCjGUP3F101KinzM87vx4KW+rG7BtMh+2A/6r53V38UPJ9gHRqGpEDZ4DS+oOiExgkAysAWqVZgUUSTI0A5CF5goEAAABtQZu1SeEPJlMFET//LrN47eBkLTyhulzN3HmKDAABI8K5IkcUdAEidBG9ptlg7Nnv2W2p+0bf0pM4HviIUF5HsyH///onor8FrSOkPi7zL//DAQJRpypd/miUmmIUDKXBXZ+HJDddGds3NHnesQAAADQBn9RqQp/HZVm6PWcdzKKfcappyS/RuXqcBftb6QPFUnf/mpFFJUCAqUxja6kb06MmDXk5AAAAx0Gb1knhDyZTA/8vdNlSQGKpzakLr/QYPhLNZvIeMGVw9rnq2O5kUZv4APzkuA5e4K4hX81DDGLhgfp5leI3uYnbti75xcJjIXzNwoT5cFJq9WZNbf/5oOlZ1h+p+NpSNHiASByJxJSXz35R9Qo//sARGgqgbxx7eDTUlm9/wS8KAJvMeiCxkAOBJPqflyYsGz2hCVu3EeRhGqud+ZkoHOdXyjipVBOKB/QyjA4P9Dy9jLnemYRUMq+9DZ+V1FXsT05ofo9fykAAAAElQZv3SeEPJlMD/0KU4UamsvOifxoNoVzK9cJJKU/Pk3xXoKoDFlyNGwBL0BkyLnMXlog/AIButHdKCi+9ScOUdWUqQY2V6j6jK9p12jATTd+6GKjLw/2Mg+x2KpNqqaCM9QCFYsG07+TXYKn/2nkBTWFBko1yZ86cQdU+moJC5E68tvgH5d63AMQRz+JiNPU7ivuwlsVQ+/iqL6Sr6jG04HYe0E2rcTWe9Zn9Gylp0ZJ0fXHvcQyBJf9Qt0TJ5FLDxEPg+NjKMP9Mr946A9EZ9CG0DH+HrbAV+84WPrjastUp6ufD9Y4uYWA2gpHPNkSsEbXfBvmV05W6h39iTHGKht7ua+Wr1dKFGYCWeYKURr9SWr+GVJta6Nx9ci6CZSNDMe6peuAAAAERQZoYSeEPJlMD/ycasAp1qUydoGu5IjxCNiAYUjA/CN75icsFccmI0omYhVPeFTmOLUTjpAC5D9WFmtCVHMU5TJWlq1haeEnl+bOs0dRfb1Lx8TRnz40+71r/n5zlEEKMyijT/mLgqjwvHGSvr/j6n5+o9o9VifRIkdv1TGSyL8rZVMmdj8BspMaIU8doIa/KPfaCeOCqAEF9Q/UsM/HmGcL1syF6870+4VO2NQn+2FB39vjp7dI4u38hkYu/vfP8Bs8hJIn61nk1Oe2OPa1kZIwBKptfiux/a+ldb87mbX2jM9nmVV5tLGzHX+wtol+v2G6nOHVbEGUklMfvUp0+jyrUp725vCl4Cs0g0VwnewslAAAB20GaOknhDyZTBRE//xxTHQSBToMgi4aFkRoEmtGElNy+GS/7KOkac8H3YKW3wOl+zcuIpm8/Dy3KOUB42eqNXkF9d6+TvFJrqng7oY4PPNAeSf293OpkYpMNzWqVWYK+qXSFMylZ2In6x/ZKFbNxCdDnP8lSXR2asGAMEJoxSfEM6qWjdofsLZvJTxAI5fcmLgntDmj2BNN3y/o/uekvjORwKj9T8OsxS9N1Lr1Oro56p6KsWCd1gz7YZvDDjuofbJe0aVqyrWm4xaAiB28xmV9hPU5LMQ3uq0YRx0vkfnDufOEqXDue2qWcPsBn/hFJM7kGJG+y8Xq708Uc5N/x3+h9me2pTrWhlADNoTNFwoXQctjN7m+rrqBg8noh6/HvREB1CHxju7CiaYUvPQdKTOv/AzHvZW/jsUMNbmbZD/n2rzi+ZiO8qldmZoApkmbqsxlhqUjl4MAC1isk9vlFIrTbKGCtweJ5wmLXFsh1+YnTaXRzMo0+EGLF7vWZzUztzCcgSwLKq4F3bYPfPCB04jpf0kInUwfMTil1guwUcVKC1j7nQvMZqzKu91vD7KGQsMXOh+jiVrFkM21XF6OYKwwRvyO5Acd7KMkGKrjpHi9zI/LQrqBujHsEAoQAAABMAZ5ZakKfzGhwBFl/JnZRel587nG1rqAjJxL8rRHPcdlE67K5K+qpMF/5wqEW3aw+hQI+INwZSeOinrSHTJTdvGqiB3PaQOCs5s9jQAAAAHdBml1J4Q8mUwP/KntJApzGeNbVLpjT7L2G3rA+n+4oQzY6cmLgCF63/trJITl9JEBsC/PHZHl+72FhfqPCJkFoMNfX5hYLdPTz94xEScKjhl2uqWExADO+Qh19VRkY2TL51pxUOYl4YNvrZLJhUVzeYOXGGJkSnQAAACdBnntFETwl/8kSifKXwhIPeR9Giv9rph+UIc1kuQk8BTaBh2Tg2IAAAAAyAZ6cakKfx2VY3AKLPzZMeNuVDGF+//pi4nRD7rCgQbra1R/5w6KzSrVD11Rqtmba1X8AAAC/QZqBSahBaJlMD/9ClOzAYzn7WFW5UB0+aj6nM8PkJZKThdSIbI/+rVLUdSTUBXdDfuWRLx+mKO5cpV0nTxk07Nv54bcoysBnkbdAscP4gj1ovjYh+05cFL/apZWP5fgd3wLY40wMbWSfIiOV8LbJxIrbXyQvHwtFv2WJJoL2jdDNXUVBq3d5LhHkEaiUJyElEx3gSByl46WgSP/nst+4lfJAaMXhM8EbyFOufAqV6GFVTEkW4FBw0Gl3SlhK1+EAAAA1QZ6/RREsIf/NiowezG56r+NpyYowPVbFU/Ach/YM4sHw+LtOuhfUUYuDx8lZk3By83CUWk4AAAAqAZ7edEKfx6PJeYdlOMGxK7jACpJ5Ixy6xVaXCMNX9v/676t1f2dJO/57AAAAKAGewGpCn9V+reWW38uiIuhfirQkYjrHSk2I/1S5W25vXolr+IVwP6AAAABUQZrFSahBbJlMD/8uKs7AF2uym64B8qu4ie7cQoaCXg9Ltd6sDPYPWXeclv5u7g4cZ2pHNnfbIA2uclgAt+98iHFHkS4zMOq6hQodaLdIdqpHSTGxAAAAVkGe40UVLCH/wfeKyDgI83J8PshhC4NXkl06wB2n+Fhff3vESCJ9KeDLVSl1QOdHI7WVDpnv0Ydyrltr+HGdHW7GbbxgTQm1tlF8maXisC9xCQA7rrhnAAAAJwGfAnRCn8eRv968MdZFJ/OMiGNT463MvgIksw8v2AMFOsAB5NbzgAAAAC8BnwRqQp/MIGDHYK3NDFXO+jG+4pjhEqUM8Bo0y23mZfA30uzwoTcD68tduY42gAAAAXJBmwlJqEFsmUwP/y911ouNgJj0Bq47Ilm10PVQfp/lRBR9PQMSf0G4AMNAfiooeCsTAekhYYDiPnC/fHco9q2tOtr4YNmIV/NQwxi4YH6eZXiN7pSm3bF3zi4TGQvmacSlEaeT1vB71j+Sh8u3e3CFJ5fti88yB7pvx7KdAMy0eKH2z4v4eCq3lNofVrC27Sq2UVvBwMqLPJr43SMWybcYwNq7ocB5QL3rJtFxiw6TimOn8Fguyk37v1xrhf9s+X+tdxtcRpVhc19zofjaiNmknjKf68T/+2SbNVBdBXxVOZgmlHbqbdfUkHyJBdIl+Q4/aYOVceMGtMDeQUEM30ErA9mQ4pqbracJmqMKYAhuMV/XC4wmW07okA8xAEYMAa4PjPjzd5zg6Xfg4HEUFUwiNMJF5VxJ6YCPvoLEaakTjR1vWv8JVO+E+7qiA4iV8TJ5VthAhqTelNU3YWQ3jSNRP7LmoKTa72AADhAJoWfIsy5RAAAAQ0GfJ0UVLCH/wClCUKEV0+ZDYqw+AIRqkTTqzv0RFpxf7DlgPZ0zy9g82kNX4tqd41V//QPXndRBg0391EJW9N8bAYIAAAA1AZ9GdEKfyzqrPnJdDoYkwe1jyVyESPMf2K5vsgfLuKGsdkyhkJ6s+eGUvRKNpvflMXo2VUEAAAA3AZ9IakKfy/5eOs3JiqctklAotHsK7aBBZHBaDnj+H2c2GWH2jxn7ANom2x1H6dZlgvIarh0iYAAAAQJBm0tJqEFsmUwUT/9ClJbKheeolvE2jPxwx9EQX8hq/lNDTbks777jwspSyDx19mTdXdWVcs275KeeHipzVRMRjeUGDcQq9ACyy9SvpXvuXWNGH3k8zEz/VdmKi3HCZwQRw4ml66N2SbpyaN0Lz99rMOiJ8b7lZZukKGYsySHSda+5rfmKQoZqNVUZ2SEe04PtVJeVMMzxdURoib/thamAOBss9MlTREnu23/Jv4+zyLD6LfsxpRoOovwIoxR/X/Pl1L89kT9nDpAnXpTCi3luAkRGXvMRzOAATUaWiq/kz36xOoY/i7dQXnnEhi1bWqOgpM8XB52tvnbKDHTfhvMlJU8AAAA6AZ9qakKf1X5E5bkSTll5Q16gf7UBkqpthHoSQZFlyw81R1C/h7uPJCVqFy3+pzO40BlW+nIJlNy6aQAAAGZBm29J4QpSZTA/LZgTbwVpAXjyY0Et065YCMmfeUP7SzO64U8Rv7KJ0cz2gIvAV/CCDDdf4l5+Zg1MS4e/ctZXiN7hfwT36TLd+YkL6A+TeqERO/V2XHY/RwbTgYjXaWzakNvnRWEAAACNQZ+NRTRMIf/B9XpBwE9pJHp7uEw4uumHv4dvKzpUpz/ESwz/fajDWafoiRTZBdk0mONaMEvAnN5DNzDJodEFgvn9zXAhSrcI0sqgB9r4skyi24AiXIoWxD37J1Q0kCARR3xW1lPgy0q+fHXUYS82Ll79EcmyYJ/A7fSvamtGyB+3/2H4SRMtj5WpY3nRAAAAtAGfrHRCn8xocFYXaSqkTwC28aRVj9DWmHYFrCLsXD2xPUTyyQfG3aR/ZmdFfaO2sWD9Is1+95T4yspbUzqb1d/iDA+CAxdvmpST7Ng6hiThKRHd5hiJf/uglDu0+kgNzHxqMmUsdOduwUbGdOzlJKyCfhoLUm8H3GYZKi9XEeCWTRVzh0hVBVoN5/CITs/we3UK82tx8Tu5v5IoOCxYHT5fiyKQEpfgJRfs+qOau1Unn2oZ0AAAACIBn65qQp/LfYcWZREY66ldUYjgKFfA/L3vpu6uqxijGpuAAAAAOUGbs0moQWiZTA//L0w5yXvAx5CroV9AofbSnrPkNTBuADlqB6meAQsvIftFyK5to7iQ25Tskfn4IQAAABtBn9FFESwh/8AlaUv4OGxhTSPKRLFKOH7O4cAAAAAlAZ/wdEKfy6iWgXWbGLkS5myR/ReWEcA0w/S9r3js58o2YlFOvAAAACUBn/JqQp/LqD5bRko46C5bZ+93pdz4+Mv8ZH0Fkf63Fb+yxiGvAAAAwkGb9UmoQWyZTBRP/0KUlsXJ/XWoY/uMtZ5zbdLTRz+nIBbhWM6FDWUbpfsb4ybpK47TJ6UH5EHzHkit6sOysz1TomZqo5ATbd7qBpH4S+U1v332g9gJ/mw4hXW7kF+MzAy4B52GGwFcWOBcpv/D54DYyTmh+COCUxE9Fg4Wd6gRCyRbNJBj/JDtKFBDZhss7lttV0GBBErnpxumdFMC7LSDTAmHrlaehcC+NcsTVtxw8k4zUoHnxovCG8uD44rl2JthAAAAMAGeFGpCn9V+ROW5Ek5W/4kL8yWLKNg/UMrFfIEmrPJVet3eFv/HcWew0WvYmhFYIQAAAM1BmhZJ4QpSZTA/JxqwA+Ftb18K6vHTRCMybsLxvRHM1wCOP0q7encIA153/tH1/NQwxi4YH6eZXiN7nlDijZfOfz5IXzOw7DLNdtvUaffaiV/9dDF5OShcU4Jx6sc3cvaWRVRHt8xqXnVF1WE543xu03RaK1c/XFgxOAeCsDxdAukr9LLNcFj5QiG3pqUUibS0LbcFFs236d8N5/mvuM/Z2yGoR3C24gKeTEZ2pJORJvWSgNsrM9jn2fVWtyQLjWhzb/2Px4NpzulROD4QAAAAZUGaN0nhDomUwP8vY7nYAebaSrs9ofQkJjDIvsetjWs57qB4BeNXl0encTpm/1qwubAEQW9NP+cnX8evVeIk9tuXSCXKPwq/TaskZ5L2LRLEaD86sn2eR4LwiC6YjhQul2SJALDgAAAApkGaWEnhDyZTA/8qCUXgY5BMhW//wfMAtGjXrxHG3TPb3j3VZDEjDjb9aK/7UDlnYKY6m6dM8414D8QiZBaD9nqO1PTJf+P9g1e+y6gmZF6LjqUjWvMI6LBYxtg1pi/S5G4RWgqcM5RwsZvzFRUS5NBbRDEhFPv7GzVY1Hu5pMqn7YSuqRLVrEwM/AvhRmYbDNJsrOUQGZoTgeNzkmjv3pl98KBTCVEAAACEQZp5SeEPJlMD/y9judgB8IMQJ4qKL7V1oN095DPkR4Z8qncWWm4ZLUK2gn3bjQA1Xnadb62V/zZwg8McdEEoZewyCoOSPKLbiN0ukQwX0/cnFRjBseSHPbHKyUFlPlmftvv3WIEHcsbMQ/GHY7/feWz9NFYYL8gS3cdsyDaL/3OF+eQgAAAAfUGamknhDyZTA/8vSSvO8B+4DBo2gFQjKy/O88zJdFGV5U8fwzCQj/l99phWGmvOTrne9IC3tfTA+IvCxX+AruiWonS9v8oecu0lj3/+MmYouICZuai+RLGyJaa2waWW4dAX4IITV3dFLUy83bFijgwoIWJElWGjD6STZKEgAAAAPkGau0nhDyZTA/8q82LAqSMwjlERujqZHXU4YXW+BZerXLZ7pyw6mAdf3BHRtjM46hLcYx393pKmp+4hd7T5AAAAnUGa3EnhDyZTA/8nGrAGMyfbAmHnxTx7klpWv9qUuxCTiT/IFDao+6HH0aIkAfrnunsPogmHdfnhlBTF88zt0tKk2Zc0h7ZHiIOpj2I6QpPJf4O1Cz0sptssnl8HW29UWFW63bhO97wHPliU5kW2d29rFgRQER8u7NxngZUt6nspvUHx0krMxaDYKJ6N2Nv9+CyKsuwuwAT/s/O/QIAAAAFfQZr+SeEPJlMFET//KntJAp1P3pY6iVlPDfg440owbSvGBu0L9KJ7ugoPipkfOujbhcsVjfUt38D2636Q9+5ayvEb3G7ZiGDE8FMwhZlyRu3S2HWF2PrfflpgzhJLRbKmADjYACFmiPmfo0fG36hv6UJCVWbXAu65KagrPcGv/A98812IVRnaUtbNiYvgbpzZMMD9jokdb0vevkPzQHiUroCZep4rIiUWPgCXzx2nLdUmz5V5NXyHwTQxZ/rwcD+UNvLAOD0U2X3ES4INoFhxVMLNDP7w2P6APwtB/ma2GAvaiBOBP3n775qblEtInR5Vor4lVFaPojI2Sfr7TvmgAxXg3DUK5AU7tbwoTlb7Xc2+fKv9g48hl8SnKpKCsnddSjTPnHlOIBoDAtXkq4in46Pee2xQ1ZFVbf/jMoBCn4pXC+chLJKYkBS85vCHV8NBqte043q8pFHhNp3Pvh3BAAABCAGfHWpCn8sYE99grsbCjRlws6UyoMmrp22plhdmXYLYa4uFk77XndgJAuRtT+AadbItJbU1XTRLuGMP/90mUH5eUZHG153UfuNyEaWH9x0Jskx8mWFa0Nswd5hR7rGP+qhw9bpe+89KU7Fo8NG461HKWmRb1lTHjP8l1Q4DamIyG8ELFXsIZdilPetOr63+3UJ3FDeMJTnLUnmSz+Om6zPf+blvEz63H6C8lIkUNIM9yvd0dIwjGBX+qrmHtVMAKiw7BeY/7QYfz8KPHyXef/F5HNCy450/D8TT7TcMAr4gr9TbtkkAdfi4pWSiZZ2sFMhpFLZVFtBq6lxPINSOF8uieRa4wISrzQAAAGhBmx9J4Q8mUwP/QqWeKYKS+18hAMsukvH1Rw+ZGp0A0XnnwrcAL4riRHxXk0JGkvylkqClClXOsDMbmltskPdmwf1gLjto1ptTd0r8JyxvPflebi+mqmsL2l/p6aGtViFIU7RpQZ4HoAAAAF5BmyBJ4Q8mUwP/JxqwBiqd7otvAGXt6VSRweQd49+Fe+wisxVFlBI/ZtnPV3JOvlb7kFf/Hm8a6ozJo1Tk2RmFlAmogQR0kLfpNAMaL31hy+Hf2nBW85mK7+qhYuVBAAAAUkGbQUnhDyZTA/8qe0kBgNbffs3ir3EmhIyBaag8ndLbj7sgxLm8N6v3MP2a47kx9DcbmNdedOV32zz0ax3Q4Jc9mXUwULOnz/+e/uz/de8IwhgAAAC+QZtiSeEPJlMD/yp7SQKdbYyN4uQKekfNknWnpao1Lntf/HWf3IlFnGWY82Nw5/Q3LcdRN2m2IMf4bOJOxnE3DICb3St5lSUA/eO30G7VvbqnAsghMAkNXNqbDmr4/Pe//X1i1d4T89Mh0wsASRZUFjMYdmtqV8iyP2BcSMIsEE2iSfSuvl5+LDBLTuNJA9w8uMGpZqn4rrDMggGgF7MVct+Im0WBssDLNsCagGCMl/VRcsnEajKYhCyTutIjrwAAAEhBm4NJ4Q8mUwP/L2O52AU6DEQuI8k+2snadPu6W8e+51x0eckYsi3xHxG2NAhwBsNy18fPc+mf9zxbizl6KkpGVNgl6Tj9bqMAAAEKQZunSeEPJlMD/y9Ew/qWCPdJdbummF2/0s3KQ6spWknVqYNwAjZ7bviW0AeMm84hkI/+V3+5fvT2i1IyX6PVH+E7v8GU5yYhgfpzKaJvdBYTr2121vB6a+aVLZ/wJJj0cJq2K1MzIJ7ONgYuxUHoHSoSHlKgJMHLRoqgAg8QUHxz2U9SkEuv2MFSDP+u6K8Y4Ck2RlFjU7CpYiTxF/zvFiL0b0oY9ysdRBl8O3NRybGhurHLIBhlLfMMK1v4A/T3CYFiuyJgy488Nno2zZ+BOygTFQiC1x9NiYyWgTqFXIefCwJkWnaEFzQhcLGUm22wkkIoFt3dDHZwWfdM4bizfr3RFk8Kr4RLrzwAAAAoQZ/FRRE8If/BCvfTvrgWLFyWtiOQqM0F0xSK+lKYR6mKMVkYiRu4gAAAAEgBn+R0Qp/L8K0EixbmElE62xMTd70XWvhHSBne8+KqX5mDxHXFtGUkr22tL5eb37hD1eHMDj7xl309bsbDlKrZrcB6HGtQQFcAAAAjAZ/makKfx1vlK7+vEr/8A/pr4lp2gH+12n3tQs/2CgtoxxwAAABnQZvrSahBaJlMD/9ClOzARafq0Mu4BvMDyne1/Fx4Bwn4P12yEgmgF0wEjkxOrESDTm/42q6Dkc9cXIfVCq53KgCclvOvMiN56HZLOnVKdpnAduOgJT2/q/9GmgQ5fHeVslgx/941gQAAADBBnglFESwh/8W5XQCQmI2UzYQBRWXrYAhhRNpBpox9De+tYoDnseMBCERHQ9Mw+FwAAAAuAZ4odEKf1ZeP2i3IknLLcE80LoA/2VARmLIOvHUYhjjUHT4yunzp6+qFhCD2wQAAACUBnipqQp/LWAwZLnETrZL7ziSk/DgKUKPd+FWhemlNxfOLrGfBAAABckGaL0moQWyZTA//KntJAqCmgikHcZCg+0R2qpVVLvR3oaOpXQdZcLcBqMJEPKXwuxlzOlz+B3dkZ9DhWKR8kIk2chKz1onvtvJffeWzLp+PnTiYxMBQ+OH/ne837umxz3BWseuqufAIxmMATl9zUf17AzsZCXKpYKq5LNURar9UMm1gLerNyfcxFGQcaFLpJvyv9clrqUzHS4f7qsAy4QMnCYXAmfNCgui4u557RWZ1XcntnNqg1WVy+T4EK0TrxyKU2qjLV66MqVoC4U0NV6A0YLIxfBb2HlNMfJ3ERD4PUBRL0RbUD5otiThDNSYQ0Za3UYtgxLSPqNYvAhVFZ3728HJa8hcKaSOGQllVDenoVrKP8uztN87IDLRByVS/wpGNT/F+v4TLfIUKtr9HQHLzVccrq6Zm+VHJSKl/Jt0W+7EbZVFtUsr2EhN/NZ5V+iaBbpyAJr/E1bq1CnYeA+NjtJvwXX5luZh4t2EeTjB1UCEAAACyQZ5NRRUsIf/D2K+58rjtC9bifvWbDtjG3U7cJaJoI34UukRgAyTE9C2dbekoH6o94jHPsuuYRZ4JfE1xQQJwMFXZS+koSYD7fl6HOi11susPiXkMcjylGVpg3hsaY72o6bImSzJ+bQ1OhKlxi7tDu8vIr/uGpl4qmlI7DhH3SdqZNsAUB1z7w1L5NIOxE77akmYAEZYrKzjmiZQcW3jTOuqG3avTTS9uDT1PNJXr72ao3QAAAM8Bnmx0Qp/LMPwY/DMWm0V60bMXWCjghoOuL3IRSV0+ceFPpU5OG5N5OgyPsiEQlDMhoh9bpm7YvnKsCg0R9G/yFpSv7fH8CKo9xWwp1ltLm1M7huxtGhpFBYMY1sdYLvjUGXN+tTTlEhbX+teZjg4RhwJzdQUOQAQr88RAKXehc7keYLrQNme2s490EXu2Qzijf3PYLZwnCVRGLx8Lgn8zf3xMHuqq4IWDixjZh7WQnzWEsYEK7Ar8OcYrntHAUlWbp7+AVp2/hccqJ1lhrnAAAABAAZ5uakKfy+Vl9x+kMwCIrleForp+/ZA7sf1EoVIj/bv9eQ+6INTGwrr23r3kES8ibdYJ1y3xvrEWZ3ykGk+47gAAAZZBmnNJqEFsmUwP/0KUk8r1mZXHrK2duHnQzMXmYbLQPIdo9Xx/a7JWh0r6/27Knx3KiXOeU1FvwREYh7/UnQ0e14ABfHbWo+N+4OI7LhyMTqJoXWR8V79pp31IJghQMojvIGUqodLHBkoD/o7oATHrf2pRSKuU6C3pbcQdiGQ2FXxXIUxMHxOB78HLus8hTL+j/uCiBSWzY6QP+mjdhy88d+Nf01+hB8HWfB/9NBQKpWIhZDMtAL8Y+2r1y/s4Mae7lNT7ODY7psdWIxg9Mhuv4fYqryIKXnAQpLXXRd4vIpHQ/xgH7NH8NrvI0AUiOiYKyW1pZNON6wpRP8g2UqSSQOVHxjGcVjbN6ZOIU+zNZz1FSBfqSYRD9342xBVlyfkeL0WecCx/KAC+G0JkxJsDqLhtrejEwg+M6nv9s1XqCDKT4iZht2YQkIU6dx3IxRe6pcSQf8Sy4Y+toxxQXe7XuvivvpeGGeNQxm1mldvispzMxuuvrld7vl0HfSq79eBRxPjFs0XZ0wcnOiIwdmrK0njunnZBAAAAMUGekUUVLCH/zYqMHssa2NDZYC9Kre6s8m5CJH0pAbIeIzSovU/qgn5KfmEPy3Yxt+gAAADrAZ6wdEKfyzbehkuKAlSuN7Y4Wggycw+/00KGfq+nZTnrMf9qwUQls9/Lfhbz8ZDuFQDJWoA/aJ9bPJvvBRy9pGrBcTQop/2qUtBGsu3UdaiHdB92ZjB/6qRmKmnSXUtP/vIHuhSfPwFUFLvQUZpoD3Wrz/Avi1DYBqMnAAFAT4WH4tlMcVyqmrZ18vyR5ZQKksIT7tpnX6FE6iw6O2HWcX5uKQDl7V+xGb/fHX+G/uFuN38HmpsBltCCwbhzcf4n0rM3LnR0vvKXoupal/0TQ7P271w+gVoYstAwYRCQOSEXCNGX7aV71d88gAAAACMBnrJqQp/VfkTluRJOWU9IvJvpOy0jQMkUvQkgcGIAc+3TQQAAAH1BmrdJqEFsmUwP/yPr7wL5Yd4KrsO8ZCypr/vuWUHZIKQDRKcAQojDn+7N6cXhQUY8V9k4x44LBRXzzd9BF9eYQi6ujeRJs54o/9eeJgBiX32QN169xAm8VLlJAU/ohN81CpRudmwXu/WPGfrkrI6F0KMyLT5AhhSCyy5BBwAAAENBntVFFSwh/79ONIZAJUERdNteGn6fWUkASw6wJPH3o6KA5qUzquyqbFqrCVep1fjfYKsqU98k0tV8NULC+/fd+MshAAAAFgGe9HRCn8t9d9RIoa2eE6AfeQig4ZkAAAAjAZ72akKfy6WfBxLMoi/d8uzWHbEORIc/0alzkyj0keO7JbQAAABTQZr5SahBbJlMFE//KvNiwSMVpRRqQQ0uoImh1yvVEOXr0EGuGzR4jQxXVjhdWQ65lyho6v4/BzUwPHewPqj87F2UkrcPhLhHmVbqiahpkBOZw0cAAAAvAZ8YakKfyzI1A4K3CwJ9i4PPskSSx37RP1lC86LsxgvGi++JMVsSfDNIlsW7Aw4AAAE1QZscSeEKUmUwPycasAp1P3nTJ2c1AXqwpo7BHQWD511/spNe1Xz9rnE4h45QaoWOXOzAen8KBlLGdJImxdDT65GFMt26cH1olnMzroEvGvtZEhv8Q3l3ozFS7KG/ZrKevfdJWlwGToX1EeF+IiBixiqJoW58IDrxo09YRFlqeRcwtvdMt6tSDHtLo9+nEIDZXS9SN4c1AQR3b1FmndB8yPUrfPZ9Ep5UsEhFtdDdo5iDgr5k4oWnhjZBYqn0PNzROoT58bj2QSwyU3ZOYqgi/ljCDr7N9fRvf4ZdvUsMU70WplgQA1C/rvPH+BplpSj0lrnQguzljxDqId6IZWrpXb8CKe4zJErNSNOje8nau/g5zfMkT9HYkpqBOokHww3hKdlwNT/U+ncC/YNY6jHHQLKCy9+MAAAAQ0GfOkU0TCX/yWMq2VcjnFoWm2P3ebJqyXj0s/xoXEbAX3jmKmLhrvg0cTmaiEQEIe3LB2inLKfdrxKl+dBm5N54w8EAAAAqAZ9bakKfyxgRtOTMxowRlmzdgBxcKZHEU/JQwPTjBLiE+DrNKF4TPbklAAABBkGbQEmoQWiZTA//QpSTwIrUv/8d5E/QMnVxlcRU7XBRR/NQW6nylfHo1R4FMl3A8/dMn31waVuzSFa9ukI0C4FUjNrb0GD+OBfx3Mpaec+SlsrsV2CkTB/YhOSqnWoGGugyLgbvfIeEx3S5qCc9F8sNEBBR/cD38CpcZVxqzArT1Bp+lFkkvIlbincu0ZjIHRFzjXhel4ecWwtxctifNVubnQbYd0UNk4BzTI2q4tRn2osBGY6+q5jHulEDZvsvRwfQAJrFEb8B2qoafnaGGKiEOu08GisnlfYvquG5PIscHfkIlUxXseXfzJ484YbIDPQrfrtVoWkl4j1hAj+MZgAnZU+V4bcAAADZQZ9+RREsIf/FufzLLJoI2YFhZx2oSNMoYLa5YshW5C0izIMvz28jP8ZJPKMfnBFRVTjafvf2j4yzhLU2JMA3/sJ5Yu/XapUheYjwH/RjHTqvhS/rXtAm+2S+7xZMTZPnM+ZZ/rWIhHTR5mXKc/Sgoxqk7Ww+v1doBmNzeLJLo2FN86LgSRg1l1o9RAVn5WvQqKWD2aAr8YD6egqkn3QbgDtzCAGJX2fGUSgGYyADBQbpBMWPqSHkkFFIgIEh5HGutpOoqXZRYv15TmUf1KE4iy786HdBdV2hgQAAADIBn510Qp/Nkwy6MlH08mIAtrbSrQc/hfeHbuAHtzzM5x/Pu42JV7x4w36+TyqlZMHnjwAAAF0Bn59qQp/LXeGWodDtCYxBWACTaz/Sp/ecyvJFWhqY3AQNzu4+5gPuDA2TgZv7ACbF3jAwMihYc0bkeFw2+XUsLROzqFUvcdFPfqktt2rG20KY0P6zvC9+p/hFhOEAAAEwQZuDSahBbJlMD/8qe0kPxkLzC0TV9EV+3WPg2P8mRIf9p0oyz098qblSOnlur9vHNB8wfGGpf6eAIo9Yn0kxrK1bXzyv9/WfKK4z8GaslLg2KHilo8sVxsCulhhZKZuCYlMXyXmrNQVCH6WP5gN12LHpwzUqK+QnIW6GMx1gp2t3LCoDbDWGsGdsAP7tZGiAttJVgBM0nmIEeZBYsa+Po50Aoeao6Pr9vVkymdGNXvvK6mz2szR+DhBLdbJtlTC5bm3a860OZX6qRZZnhkcX5iLHGSp6Pcu3lW2cgwO0M3QjZh0NqIK51nM9W49agav6KVCa3l0FWotg4TqncxrZtdOE3RBDZ9m+UFWuAXjcBq62muqIxBqrPktJe/rLRSb8/vDPG/sw9S1YPxRxtXWb4AAAAClBn6FFFSwl/8QHym/LmbRBoYmt64oqCgl2/DAzidoCpDzb+Ffj63I++wAAAHEBn8JqQp/HZVjojzj3Kkv+aUsa8vSWfRUJHP1h8jiSX6dAK6Ff48SJXULt+0leTSSgE4ZWE6nNHPH4XBdhDUWNVRs64ZMYqmx57J+BN0YhMgEwfB6jzu48E5Bnm82StdNqfKD7fbTX4wr3y/Nxy9K7WQAAAO5Bm8dJqEFsmUwP/yrzYypcTmfaIKPc+b0Avvayprg3StHxzUOjKk/rG2xL4ZW3ucNwoc9b/tH19bNDBsPkUjoYyvEb3PKEhRWGtgUTEl2sU+68wIcdlPSs7ReOj/cOCMUnOSQoQ1TvvxgX/M4Dy6+BcpMXLUEUOi6sv8sBB/wWAAcR81BKjD++HxltFu2qrj8YB0dWMorStzadNRxwtsbk+VSZXOoMEVsVPAvXijad8XBFJSK5Wt4dFhEJJ6R+FpbNXHNoWOzgr/25fkor87ZrNt5yKKB2/KK9gFflbT6CZ5RTif/JFANKWzz1154QAAAAMUGf5UUVLCH/wtiVUCdcf9N7TrpZjBqs8TYkPvE9vgIty/GEn22DGSQz7nUKLkwzM5gAAAAuAZ4EdEKfy32EuUsaY0hdrXxGRLjIJBprOXrftSBHn4F0/Ulmcvv2AUkty8jrLQAAAA8BngZqQp/AgZfVlleig/wAAAAbQZoLSahBbJlMD/8B1f5dGq6p9TUgBuMz0W6xAAAAD0GeKUUVLCH/cIuIXNF9wAAAAAsBnkh0Qp96ZQM+0QAAAAoBnkpqQp9pe6fBAAAAD0GaT0moQWyZTA//AABLwQAAAAxBnm1FFSwh/1so13kAAAAKAZ6MdEKfZ7TCQAAAAAoBno5qQp9pe6fAAAACDUGak0moQWyZTA//cLhHNnLTByZmnrAKQkh8LNpVh2Miy1hu2W9CKKObcmRXzahGKJRlAXb7wxUoZE76hoh7Nria2ad2MqpHibJoal3YwUgb+QK23xG+vT1R8qhMXAEqey8BTEb44TY7BX7M1RYtPqBJFYJ6DEliQkRlOP/2Ei5ufBVJKGto9TP2HUgj6eX3S/0JKIuY0khXYvZ1b99bMsREb12y06NVFgCFmNQak1kaTyKxFyb18+is9o2ZEZbAO35dFhTB5WJxNYbg+fcWaC5X331n0BdbV3a8868JpN2+BVQuWJYBsbNrSciWdqnn0C69CzTPjtWuDkiefAP0MH16u6LwCXmA+t2YbAeagAZoOFfWGIRTn3y50eEDJCvWQfthB3e3/YSfr72KRAgtKAm89KELPIVSqBFt8CAXS0h/YjaWhVPc57w3WwMsA5Wzl+0+m0v6QQVdNP7SxfrpT/SxHAN73MCgIExTWxHHNLJ2ee/fEAR/6rs9zXZjwhJjbz8x8ZxkG09u/schl3zQwd2O5WERX6MbX0lDPK2lrwyEykdR77iXx/syILrkMQ7PJ8oFuZHNqSkO/t92X1YDnhu0R5ynRBYq7rJIRQth19C0f0hxajkq/326akavdbkrQQn2boCaysvM2hzg5BhA6ojsEyQPcQsryVR2uf3lBrq4t6HCGRuzdL0n/kycwQAAANFBnrFFFSwh/9cMEU2NnMOkgMYOI8U6ZtJBlr9gNAFHO2Oj2/8iFRXY/SbbeFOLRW//82mW2PahNsI5mSGPCu05nLMHuW+ipTHAQCYxfkFQmoq0htxSm8Lle3A3///loMcjsHEVknqbsdtNB6EJrnZZnrIwx4Mf+cZ9lgP9r9DQr3Il74MH/twUaZAd6cUKNcvuYneuG2aB3yt0vhod802lYYDtOkCdFHllbArq+JEm13/6TFAvPofX5lF2kIFjYSZbN6+MnVcnWbuNE23qOpEW+AAAABcBntB0Qp/cuYDwofkqVBkOhBR8ccRSwAAAABABntJqQp9trb7/V/Dc3T2BAAAAiUGa1EmoQWyZTA//AO94P3NtGQl7GPDIIV9rrY0n1kIPY1C27vzsv/WbjrkSsoaytRl5+TaJOcdnyJv019wesXFfvD1dD64n3sl7O6TGBYqGXc9e/jGa2bfqFH0gyRew/oBp4DmqVzkbK5SfZii44qm33+BZ4sxsLuJ4v4ktFoN79w0cLp8dyZFBAAAAF0Ga9UnhClJlMD8AARvi/4XSGNdOBBTNAAAAKEGbF0nhDomUwU0T/wABHVveaMZ+ospA1LSztxrvBYhuiBG5TPWub0AAAAAPAZ82akKfD3hXLTxVy3bgAAAAG0GbOUnhDyZTBT//AAElK2+p+Fa2F28DhBPxkQAAAA4Bn1hqQp8PaN7yRQYpKAAAAB5Bm1tJ4Q8mUwU//wABJStvrDLizNWgCKE6jWXz5eAAAAAPAZ96akKfD9BXLTxVy3YRAAAAGUGbfUnhDyZTBT//AAEtK2+p+FamqDSow4AAAAAOAZ+cakKfD8De8kUGKO0AAAAaQZufSeEPJlMFP/8AAS0rb6wy4MwgQvUQbpUAAAAOAZ++akKfEEPVxxun5xwAAABDQZuhSeEPJlMFP/8AATaFpUDcnv8UT8IJdl/P8iqX0EsvOxqSDHG5+iBlUAbOcziQGwwHrPkfa3IgQws+kGHxBN+yWwAAAA4Bn8BqQp8QLEJFwPAqPgAAAX9Bm8NJ4Q8mUwU//wAosWQFEwHLugr8zBqYlxqUfei69U/MD9Yv8i7D2ETZ7s18wfycJRATQQCpPVjA3/xOA2/ZqO9P5GU8qoAlcgV+AOohavn73bf8HkUmtIg1FMS/7pK2QWvqjL/DNUzfaPYHEHpbgVgC+Sb9LWX9E+oG1SFI8oxFrc+10Y0kUqhFs+iskq9eBm0beEH9ux8sls9joVOo2mwRv947e3JmYu1PavDKYJGtGMMRKvvTxqjbuH4Nd+byyp2I250B+ZzgVCMj6Wz0lmweGuPAhDl91YkoDuS3hK0w2t3kV6OGzoBUarPmZz8fkpgwWQWDESScAzfIULgY+4cJcpsMWuAAEOylBRgMBqK6s+EotuysjpZIBO/16QkCh9iF/eGAUwt0TtnZyNOpucOM0DoWQ8wUNDfXPBOVeA4QB0/8ZkPtmpR3VFSYlMkEsqHSwFWyuTXBfkxYe78Ytt4QBWCV8bNojhU8//uIS04WRuzqDFAZij4oqttDUQAAABYBn+JqQp9WVNSdO/TraHb96QhIAbKBAAAA4EGb5EnhDyZTA/+QVS6wYAYX5gK233jA1kBbRHEmr5Yn+VEviZ1RCpMbXPKzYtfSwQD7wbKlaLlA+Vt6Lhlk2tNxvOJJE3srN/A47Umi/SZJeWCA60W9LHsebDn8i1bnJYQznqjxq0J6VpsIdVuRdQisskrU0mugWfOVYMtFGi1qt3S5+8BaRK7T3mo9Lng9maLDT/VcEG1byuiRQR/UBzggTboGQf2x0+ImOmzyEjt+MHz+LUbLFpwOreCZZCfr8RM8hwtQmfpR18U/dY0XqKYySz5UHTSTX5NQXqb4rn/IAAAAfEGaBUnhDyZTA/8nGrAGKiWzZeu/wtA+jXnk46z3TY+olf+/J28e1AxTFxrkUpv0kQoiEG/gcxf2Tf43cQTBaj/6aau3FHJzk0vg5+D7vKv1z9YwASJMFoiMc/LLDFWMEyBYrcWmGCdv761gYhKLmYIcavbZHLHUkPZK0T4AAADnQZomSeEPJlMD/y9JCnYAu1pCNk+wxPpXlSr+W1tMnGaWK2qDb6nqGkGtyzA2sKE86sp8oSNn8o2kDy8C9YLYs7y3ys6Tv749fzUMMYuGB+nmV4je55Q4+Fw5SnbCJmrHGCyqOlRpzuYaijR50dfhDrpHaL+vFA3T85f9DAzbtcZzRTHTihNftIkRXRGZI7qH1pVviKv2FgEXmLWxWncno4IJFgkq+BeOa5RoSOZCBDTJ2GG5amuzQWa/mXuvgylQ7MmwnT5buVgcoP0VkTS2jTkKBLA+z0zvK1pVobSC6NpeVb72UzmxAAAAMUGaR0nhDyZTA/8qe0kCnW2M48+P82gBm3dTnvzRnbIK1RQeFWuHyGtMigt5NsXs8JgAAAESQZprSeEPJlMD/yrzYsCpIwsVXwRJf3BRuMkB7o03h92K2TZXE1YMwoIPqfwu6HZM8C7Xzn/vXF8J5FLy2jRiDMVCQVE/4KQhR79u4Zj4XrqZBaD9h49CYO1Cz0spkyJDKW4tiJk4DzXQdpmvITBBajRZLlasHc5DYvkNaYJ7L1QHiL1/WuiZz26LZhrDNH98Sc03zeK+CXh8Y6X/ex/4hBYNowILUI2Lc03XGZKRaOfAqjaJ9FsOX4Xtk93ksGxaxgETVr+KppL1Zs7mrlR/ahLVMO5frj1sDACXf+6AbAs8tAA4Gb0MBb8VlxAp8p9y9pb2s9yUdlWy6YQ/SL7D1XSD2RKcvGE+mzTa0z5XCIcFEQAAAM9BnolFETwh/8H2+8IOB1n9OYJFbHfMcaz+WAOxnqnFGcnJXOL7/CtAYU+vrOUCazBCef1QWP6/lN5yLSq1FQ/mu6gwNrY4xony0V/4aoU/vQMP8G5e0J3JLhKmztygZSFdKuFKJggGNfOfl4SvmObec7ogFKkbpcHpDXWrf9M8oQRGOr/MWdTjfKnI2nepmtD6rObaQknLt6YfIpXEcCScuaC+aL3/iBsMyHGlN7TADfEGvAuwyiO+fntL760eAQXuLnrdAwy2HNM1Ytyj3p4AAABnAZ6odEKfy32HFjodrB+OFPsOceru7gSd72D5Ai2WvdZTa6kUDK00IMnxZuAPqmQuPpo+XmgoSMbe/FKQGg/1iSQQgqugP6Vq84In/7tVqWFBLc+ntKUWk7x7HVKhcrws38OEe0CmQQAAADMBnqpqQp/A+MpXfFHtM2B2jyU6zMdfDeO+xgMdXN7DZjKiZDOe/Ab3GzNkoDt6Vmfo2uEAAADjQZqsSahBaJlMD/8us3jt4GQgxJvEGVLlMyr+SQwAABj2pMtIBgO0GKVRs++GGIbs2e0l+uV6fF68DBJ9P1tKfGLzgl1pTCQLHPCe4x2P98xMexHSFO523MQxgKt2DWezcx8jwRenMMKTo/EoHxYN0KqZGuBQclsfhGiReqC0BVBFWumqKuG0aai/hGMM5crYOvnI3itJbNk55Z0ncvhuiRozMEC4m6kbv1e5dJubn5vrJIqmOS73dio8OUhrXiLMVvuBI9gnjoZMRBTiKSxr2a0JFWGYnkYp9cX1ONlC1u6/3Q0AAABoQZrNSeEKUmUwPyp7SQGKgxJlaRvQ1AfrWXKnB37vdwchZMtS8Sde0aJ0ZfhxwHEVWf10qlg+g2XrjTTA/2PIcTOaiVBGdqlN8f5fxjaJc/b0ug2cQ0APtfOf3pRD4IcKIvGFymkvayEAAADsQZruSeEOiZTA/0KU7MBjOf2ZeUNUB1AvJETpyPgsrmcP/zD09JumHYyMHawrws3DCUDyhYFZh3p7JZ0XY6uU+gA7oFXeTSmBuIV+Zg1MS4e/ctZXiN7hfwT/dv2/JiQvoD5N51cIlqa/xCyNC8aNdSIuOrn9FJd2vsUn9ZoC94ITXpVG91msy7uurcrCQu3Wx71fvjnIuS2aCVMan0gGLwYkTA8LVb0pkzbxfmg5ZXtwcKSGJS0GxYohxFhQYynwcTxQ7WNboAG3Lbh7NXXy71da2FwyVZCoAa30aNT5UYl52gfaF0YYDwhCGr4AAAA6QZsPSeEPJlMD/ycasAYzI+6Cbi7ncuwXbq1HWezHAhStYiJRZOOx8uWOFqToVheEquEv02Yiqz289AAAAI9BmzBJ4Q8mUwP/KntJAO5Ze0382yNzwQgrGJUSxdVu4p/STeG8pkBPyzTR5nDPNCxTuKV0UP9K9nY8xbgVz2ZgLJKksSZp9avcHJ/465r3k1Jq8pTkws7rxsDm2QaJ/h78oPBt8SmcAvEKj6VzYXQ4kQmNgkeqR3y3EiWAB9PD6BzmllQ/SKa0hh0y8vFR4QAAAI9Bm1FJ4Q8mUwP/KntJAp0SqmmShlxTbup1FRMogZ9IIOcMnLJWwQWYbJDWIjs+GwStkHmekrZPxchddjIwhuDgjOnt/I0gJLSiqW+cZ0MIjMX7c/rlZKQggC89tcINUsaAYEY3O4snwsFupS9IjSZ+FcPt+sKAOqRWd3fXO9QaEaG+yJyMtPc7wSEHds8rGAAAAL1Bm3JJ4Q8mUwP/L2O52AU6DHyN4ykvj7fiIAMDqEQVG2Pq/zw5vW/kG0RtGC7LT0Ctkpd7h/FUQGkUmkoqQZ67yzpZ/h8vftSZ7GVDAz9+6nrN6fHaJU9T4MILcrY8U8I9Ev7PT47yC0pk5oqUmv9Ilkve6r95hbhPyqN9/FrvtOWWbNNlia2B1U21ImjCFbQFTQQap6YjQwCS+EizNcD1fRQfk3St7uskqSY+jOrP/e/fu6+zy5c1C8P4buAAAADuQZuVSeEPJlMD/yp7SQT+ytgH7ecLzNsBL2/O89T9ZZiWmWfY94v3XvJOiHtyfrZc74qj0eNGbY0yDhXbg+bJhEw1FEFY8IxOk35DBpL4WyzlBWgrlWEEcOiRczLrT/EuIMY6wjQyO4nPOnclHSE0ZEtLhzoWrBdJTrhmHnF4j/1MJZHMI709Qq++17w2GCWDWivpavo30uvBDkANcvH1Q0fGann3qC98gQq7X2S3zHTWQx4Q0FyL5GpsFQYZZ4nqCYtC2xyn1nbD0w0sO0qLmV+w1lX+pExv9/nxeUSgTKNA/XRn09uNxLs2NtHkeQAAADhBn7NFETwl/8fkxE/gcFXYLtHKZ/mRfWH39PINzBArjk74woS3yvQnzmJFKmFOvzhLLQUXg2XHHwAAAB4Bn9RqQp/LfYcWZdk3dWbuuscCs3dPR4nClDBKM58AAAC6QZvZSahBaJlMD/9ClN4t4PHImYo57pO6EzkTBnGOwvpazyYmcGcKHsS3e34qapyw3Zw9YIoAibu7BiLnopV1LUNF8MC+ErDQ7iP3XZ73TvsilZypIQjSWKhrMYWWvaQxEydkmmzeZoc9sBsbo+YhX81DDGLhgfENyvEb3PKHHwuJBWsYQsynYd4XHfBtHO3YWbYfktMawIknxsWz2DKyCDb+Mz8CC7OVuOD2ukw0kDaZ+nWZgzNXLqGgAAAApEGf90URLCH/zWk58hzMQmiV5LEBRfi8toah6ZwcgRsAKLIGiXXyYw/O571Rdj3gWCC+GTSZzckBwsHLI4CNvraZw6thX7CkbLcuLnsflxZrS/0E//3uURt76kZA7+zN6UHR1xv4+cZQFHHAeRHVSDuCLYbFlqSu0QcREAHOyYTGE6uDStCO/5R1q7WTZMamaCdjQjTYqhmwjNZqpo5a7yLYfSPcAAAALAGeFnRCn8sLqtOS405/UD0PF+dqaT3nI4yz4fJ0+8YhBtVFIXzXtLcUGcT1AAAAFwGeGGpCn86deUk9TpngRh7XpBWosgTaAAAAYUGaG0moQWyZTBRP/ycasAp0CpNiTngPsUQWJ+IoDW97pVDrySiXBjAheKSXnDHroeDAf31lB9ZYI4fjXNqqlD1U8oPjGrwmjDBXrUyv+DU8xAcnryJt7Hoi89Z0NL2vR4AAAAAyAZ46akKfx2VY6LBl9lhnwK1T+MBq/0sxMXyLDxVqYtpveNVMYEAFEajFu1YwRAGvG1EAAAC8QZo/SeEKUmUwPyp7SQKdTeDUaIocpY9QGG6y6IrxhYhNud88KgoA1vO12dss6y5dacd6dceUQqMeDDahzYI7GsdSFeek+BYQaYikkXXqn5gfoSSSZ7pjIXzyRvbLl0zplXNSTprs9G3bhwyAxJEvoeYaD8hjaFCqBTT+2OveUpxRRHd5WQiY0Gv3Sp+t8odZbCHYGgcPEguiPdI1tYCcMC66rhHWotL1jS2nrrizsjLKJ0RLyiBegScQr8AAAAA8QZ5dRTRMIf/B0dG9N4jLkczSyitkAgN/4sxgeL4ZCjiOrVncZ3QcB65CrgaAfNLQk3ixK8TIUzveFBLxAAAAHwGefHRCn8taODIbuhqOFkxVPfKzLwAlrFy6oEUt9xsAAACIAZ5+akKfwQ6jdb4KoZEC71f2SKvKjfjWlF+KzYHUWptwprvqYFxUyZsBrs1zt00h6J2fGlhSYitWR90hjqLKIAAys6Vscqhdkvmuzn3QKBNQ90g9zySqOezEFxKUL0a907njRsvpuzgIz04pYUIbYI2ZeO7Fnf61PsyQHsT8wTpL3p0t2ydbMAAAAXdBmmNJqEFomUwP/0KU3mAQkAVgPpS4j7m2PBVU7skIDwelqUwChT5oZkkB+EkSU2Ro56OizDrKVhVSRIrqYGVz6uUahYBeOU6zw7F69q4ID5zj1vfgf/IXmqukK7xyvb5zQ6KQC54dzD8moOpbfXzW7ySM9LQRykVI8BRN34xGqEnisbpDkuIrr71Tpjn51VJzC4znjcFGu/8gHHDljGFX7xbtqGNxFgdDjfRGo0TMU1JQDjfx4PjifrnPJ+1FgdGl+CRsC3GuxKQ8wDRH//7e2Ccpp4aiOJYhiQAeIhm/6AKq8bQiaUcmkkVM+8Rbd13+uW1aYdccE9bHCr0SJshog3sDJsfrQU2sRe4Rq31PFqgAJBNe6YWW+kYSBrHyYxKXfSlKsDZuce9aiO2yc84qDQG17gNaraE6YEPrTGiCTcwLNvfEFPxE/eOlJ/pXmt0LrTDpFibdnoWWaBTBDX4S8nFGTuVEVFtPn0Z2jQEEglYR7FUJ4qEAAABXQZ6BRREsIf/NgF0V/b4ACxjkH72rWGPbFltvaPGdTJuJ0IxFAhFrZ5hdE70jM2PeaGcyNNa3DdGe4ffHYR2ONVbUW7417p9uvGdUIkuycuToS3NENvmAAAAALAGeoHRCn8sLqtOS42dd0dsxBSHG8cjTLFlZqgcxCAKUoIph2QLL1VdsnALBAAAAngGeompCn82gmW58xI2zAVMdtsjDE/9aHGlMEBRf6oz2ScJSD/gm3LzwF/DPAGnrQsMlXQfsHazdSntl1iSvw6QgE9GAuRWOvyzlYmIC18S4V07t9SVmZHAPSgOptG32GVV0uuCzZsR1wwnhi7YAnexZB0cfDOAnGkXUQwAYRSiWutJbd+6qfJE+mhFwMrEhV+8GTKTUxDxbmVAOh7I5AAAAcEGapUmoQWyZTBRP/ycasBP7Il/8sPVWiWsVu6BuA3yaNA+ssp56Zyd4Qe5oYLusaetGkzQRtVMk+loYlKMfpsA/FDvBuDKiu52J5dDWY9vS4VuS40hmJcBWGL/h1ACXFyhVjniot7yN2oAS1LgOnXwAAAA2AZ7EakKfx2VYGWAeWw/lZewEmd1T2MQ0+GlmKE0kuc3iSX10cWvlkAJqZmE060J1RVffk70gAAAAgEGayUnhClJlMD8qe0kCnWRFsEr8vgGB9D1RiaSGIc3hvcUOD9rwxKWdSVndempXQOrI2KnJvqtGULLlaN2DpDjCU/9o+v5qGGMXDA/TzK8Rvc8oSNX3hKC2Mu+x6bEsiiXwagpOLF4LtnSn1owdPTgsNtwtSJFHSrbVqvnKKRjhAAAAP0Ge50U0TCH/wdHRvTeIezrQlnR2Rwm7/xd7V7SwSnoKXHaFMXTDVFGXKmeAZiziOzDyL79y/q5ikmjJbQEAIAAAACcBnwZ0Qp/Ho8dkCV4a93zOJWV/Ariw/iRM5h8AXbVJO5P5qN8V7uUAAAAjAZ8IakKfwQ6jJwadWdRwXwOPL4BqIXxBoG1v8Ql8sGsL0ggAAABQQZsNSahBaJlMD/9ClN5gDvgHS6ox+D3f0C1nHnhN6nkniQ2mO/7imkEUwyKnEZK2RQIyk8hv9+8d2+AAwQBn+9svU36eT7NeBZ2zqyBO7n8AAAAlQZ8rRREsIf/NgF0V/b3/6QmUDR23KMUSrRmA7jvuVD/6VI0OOQAAACkBn0p0Qp/LqH5NKjIk0eTKXMf/UIl0UJJv+WP3qyCDpzXtQSkjhJRCHwAAABQBn0xqQp/OnXlJPU6Z4EYe3tODAwAAAYxBm1BJqEFsmUwP/y4izsAnVl7WJw0dfj2vipQTgjp1ZnjN0/duxrwi2BnrExPRpGe0ukPamM49L/38FVaTzJdD52/1+Zg1MS41KPvRdeqfflu1HevpNPJd9xzPSxe4DNkQWvdpURWZxYV1xdvsxzUOGyjVAUhp7U06OqSxTzkjhPJDqWUwuhAPSrMRSFZh0eTEoBkG8PpplMeVp8BwJqkLwGpoGq3rirgH/7348aRCWaupjuuIYYskX1dZHBfILxPTiHFlLtD7F0k3tNSbEPgCnkIZjlJD/Q52BJOf3+x1nnqknLY6u4/5DoMoZF6lERb3dbW7cwpeg9MNYOfpjqfA+h/Ib4F1tooW+s2j+bi157Yx/3N7m5k2EmGz9JGiuYTOiR9JpGLGUqIqeDStaHuFXbx99xpFMKkO59EdQx5qlURTzluvOe4r8D0c0dHkkKSQBACCDdIQ+EDS5krq1tXomg/dNqLWv4QdupEfMONG++4+kfq0LxYUXS3guKetaqSihgi83K/4cbtgFlAAAAC8QZ9uRRUsJf/H5TvWBsYjbJMxNc9IyfPREXZIyyV5WWlDHOpS30Tbf0Pv9GHr9rFb9R/XFuy06rj5scbjPvPobor49JLLm+7UxBIu6ujBffTTs3k2lcQ0f0eqPHkt0PMkPH+WU121OGhi6SA7A1s8AXuRPPkB814ieK/C1jOaEp2itvgp8pyDPOczcSgQUZ6viGS6e8HSAqpL5PxIXVxW74r1gTmOKQ0FxFiHy0c/RvndxjLN8+HR7uW9tioAAAAbAZ+PakKfy39uao4pjtBupTt1gHtFBR9y7tKbAAAA4EGblEmoQWyZTA//L0w+l7eBel67dywmocCFCTm8noNwActORPNQIIgueRl7mUD3r//bx7fx7M+mE8gJpSwHSTQkx49Nq645eHBbg1rdgQiSfazKBr9hzpNEZUsPVbEi0REAYo/K1Hfou1wUF9IqfHJy0rwp2ixcUTTyk09AraNL3IvEiedqjh/+Q4hqGj6mvfEx8vQHIYtxrOuPzRr5CfC19t7Lwa8LF3irkh+vs6y0rSfvH+EdhE6Z6c8aTCPuA59GJs3vfvZaHnJ8ICQQRB8T86Xi8lz9TLq0EAC7P+ZyAAAAI0GfskUVLCH/wmBkqb1sF7+N3AsZxTs1sfmQL5hfKZ0tzitgAAAAMAGf0XRCn8xob7DWy3h04lNv6i5fv/5MV93q3xO5J3uD7Rml5LdVOWI1yUk8WR/GLQAAACkBn9NqQp/HZVmUfT1UazPqONSedS5zGTh8ZA/4LKJNLK/1CTnZAPpJQQAAAK1Bm9hJqEFsmUwP/0KU3mAQlAcFbyeJg6l2yX1eijeHnYVRHsuUpYG4huP+NV8OLDg/YjtSruta1JPDq1YxCAAc6WtEJTcxU3/a0zjB7qtGv379XPevReXIMYMlG0D85NMIGROo1srJk7Oz81/t9jKMGMhmOv4V5/NQwxi4m310xdeqfvDNRiytyi9iS7WH4x7rDSzAd2ZwKuXf3Jn3JoIf0U+e0AAQcnGSQbMGUQAAADdBn/ZFFSwh/8WzswCTCUNPbGMFH5cTPNLavxR4cH6HFcRI4NV7FiTH97kw6AczW76GwbngaoyYAAAAJAGeFXRCn9WR4W05Ek5ZeRA92jGwgCF5DCkzJ/j7FIjJUU1UgAAAABcBnhdqQp/HWCXoI/LZwREGJwnEajiakQAAASJBmhxJqEFsmUwP/yp7SQKdTqbVvzEDTgH/JvBUZ464BFgtJqa11mVwoMxxL52ocFoMEWqG4F1r6iw9mOceN9vdSNJYrMvSHorxys2h7lWXO2f+W5K41Vo81IxbLiI/AddsK3UPdyLrgS3NArVJVKbi8r4v9SzBa+Z3qA5KR647loYGNnJcMozARioAfn95v/w4PvHiP62e4iWCyMCyf0VzldG/dp+/I7UoSHQZl1b5RiLjmtF0BKV4KAXMO1cBySQK6XH22sZ/9dbgNdw8l4eRgTibzKT+axoh3IxAm9TpJUOHtg1ftYt+oSDps6w1FYAD2en8bC0YBdS6t/m+WDJjueFAiu54HrTNVYoVtEuAkPwwI1JzYaL2g0m7y71Jm51cdgAAADJBnjpFFSwh/8NPUrX3PlcCaA1SE9T1Hlt2Ox9+I4dEh+BO5nmBQgX4Vx9/0HsYpDlAkgAAAB0Bnll0Qp/AoL7X8fL5RbQ4rFL3oDOSKMQjcpz0gQAAAC0BnltqQp/L5WX3JmYuRK7zl69l2cOVYjrgR01sBMmxt33xVYjEyNNQeVaRinAAAACLQZpASahBbJlMD/9ClOzAYp+4UA6kN9WQkeBSHmuywZ6oMZMcT2MGqClSeSUVmZr2LGYjSfTeIenMqpjKIvxswPLoQ/4FGnXMiXTjslgAH6Jjc2znV8OBrrul3ghf27+SLW/XnjVwLCGPsuSLr1T78t029Jlu/MSXgJXU5RHWjwnk2Jr4KtwqYZwShQAAAJ9Bnn5FFSwh/82NNITssq6S824k9LXH7gkIkelaf4gAGf4x56JImeNbvlj8nErR9YI13cHhGc/0tPhvrn+hLscDtGw6qR8iAAIaie47x+nQ+x6l+ohpZFDG8Jv/4lxwG28+UADBZ/Vy9u2AJpDU1hlVSiGr/JY+qZkRsA4DMp/krt7CF/y/h5fOEj2HbYIKHbx36aoUDFbMNMhMeA0dYOEAAAAuAZ6ddEKfx6PJowfhUyvJdXt9gukv8JC/3EHzzTGLSXTP88j6H3mjcEqXHQKkgAAAACMBnp9qQp/VgkoibciScrgwItZFNS2DSAQJJs7mCdzEyIh9QQAAAD5BmoRJqEFsmUwP/ycasAnVhtZBe6NASFQ4c7imfDiTlNxw4DUHrpwhWMljcWtSlgSiSzaUe/eaT46XP+a+7AAAAC9BnqJFFSwh/8H3isg4Ce0kjc8hpx/OZGdHvRiSIq0/x1b2ttIlwJHhZjKAtxg3kQAAABcBnsF0Qp/Ho8l0K4JjymaHBR/uOc0aHwAAACEBnsNqQp/JxRZlDgGdgxjewdjaGkWHvfqSw3lO3lGVYHQAAAFVQZrISahBbJlMD/8vdqrFSwKkjPfD4m7V22ExiqEhOJI0AAB4jP0Yxvfl4BGjdzAQ4/alZhpKIT/jv/lK7/BF9eYIYO1+8XXqn+locUbL51gnyS7WOkP0pFlSnN7NaMfCggDVKG0OsezvyH6QsRFaWdnctlUbUOJUrkPzbIT7LlfyapPtw3cGEbS/uMwMCJgEMGhH27SpGuwT1jVRyzbZyKory6X1jpTTUhzBUw0s89AiByfNzjDAi9YkE2xzd8iTO0Tcq9NofuZYvDz8UMkBCY6z4z8XqmuDflsPJEnvyOdV4wXvmQ4+rSUIn781IgA45LZGAZEcQy0NPt1mXVg/JcllxO4/wX68ff9Ap32/BrJUmL2Fo6Y/EuTYtK0xq+sXnfmbUekAaeeXaasiKWF12I1Cm9RfsKeZI/833aAPDr4l442tBT3YKHZjG7dK1sj8u9YAmZAAAAAuQZ7mRRUsIf/BCvku0GyhL/XLETQC4iMM6Jp0bTVkCoYBa3L/+R2BysPvR8e5gQAAACMBnwV0Qp/LqJaBdZsYuRLmlQoshTxEe4P1XlSh38wkrMbftAAAAC0BnwdqQp/HZVmShLmAp04g8p+yXFN8LD7UGxmraZCdMf8Pu73SVEw0CZxS2oEAAACkQZsJSahBbJlMD/8qe0kBinE4LIFQtU5NFRlvKwjdnr9MK1jPfVsajZ0UYIA9ZRknSNv/0Z30K1Nw+0KJFmB01DPpzJID7LbRPUcryiDPOSNP5FI+XXHV/iRwEO86sI7+V6cmkPfGy7GpIqvL4LxambSmY5Cs5084TRsYE0XD7lyOoIGV9J0djn543+Fv5csGHUYcwRX1gd/nKY6evBkXwA06zBwAAABzQZstSeEKUmUwP0KU7MBin+W3CGfDcFBMSduuPuOqi2DD4Ac25HwLbPu4XVQrFhYsnWExRvwPWd+ek544h388o4thMVNLhTfiFVDtX8S/LAX0dX9n8Jb2fvxyxw1wDoGQZlrAkFoPdzLcFX8cXzQVB5yk2QAAAHlBn0tFNEwh/8UZ7G5vdoqjJfPBIQ6QDdM0AKgUxGZNj19rch4v2T4Fl8dJ30ZmLoU5HWWyGUAeP3/flUbAws4LOERtNNkNBu6Vx5mGz0sBpZV+dI81OXRP1vhhtfCyUCPqqVFo9mnQDM6yaGCVVp4Sn+MprhPgkg7tAAAARgGfanRCn84hsC2W0FvihvjR889c4xeRDHWMTH7T92zo0fmp0LSE+eDNpa3zr9rNgHLAdqlwnhxMOw6grKaSlVd66FL2uEEAAABbAZ9sakKfy13hlqAUkpQWg0eOCLGfxnXfsgL/eJfvUvU5Ne3gv1YkaUSqJLCeV2K50o8ClfrOdLs1TAXTp4264UCGSOmkCgydRUEURg+ZC9o3mddhSEe/nw3l0QAAAXdBm3FJqEFomUwP/yp7SQKcwL4pWycvid+2iqT9inyrsoivGAbHPtwb2zq8/o3/HD3EdU9Myepg9Kvq9w93GPDporKHCGrYrHCet+vzMJwLBGpMuSLsBVGTOGhqttfJflXER/1bR8DyDehU0jX+XUTyiaCrFTjvdMh6/VLlWL+SzF5b2SVfLqFDVqdpdz6H+V0jrjK27XUMIxb6mQGsvf90oRbD2qV/w1por2tF9/B78NgP/rHkNdQPPUx2Izj9gax9YFivtfwhcbCaEyKS8i+ljyTHP624MpwCP3OhR4aPPNvSjn4Wuc9m7EAoLsAXRRbaocO4WjA1vUprDu6WboWpphv7q7H4r+WQ6TrMX/BQJbta1ZAGqvU8PPOxzku2LEFdZ13ulGg36dOiw6J0zx+9p0V0JtoYhfk5z2xHGcbi3GebpBlzX37pIa75ZOrT9EYBHA9jai2XSk8w7i9yMB9zuKn5yB6sBaOeowIICDWugOuBOm4AbKcAAABAQZ+PRREsIf/CXgfYy8RnR2rZXvqN/O//419SNWbAEyI4jq3za8omBmSWkYHVGBwQWAaE3cE2txNmOr7zDFfd9wAAAGABn650Qp/Ho8dUbzSo+WBD0mH2telRzQVNhm7bgioAxIxFKcTg/hXzeOChoc9anImyPMoMoRiv5HYx9bqeARX7aPXugakSomgcDz3GRSR/FrV9twJJzkUT6W8byhagmAkAAAAfAZ+wakKfy32HFmQz/z2dyKJvaLT3SK1VYlmifz2YGAAAACdBm7NJqEFsmUwUT/8q8saCe/eYtBAAhWe5jnGQyl9D25CVtzdNL8wAAAAjAZ/SakKfy6hUZ90ZEjQ0fT2sHJeY9fXfcfmmCsGWkUz7T+EAAAB1QZvVSeEKUmUwUv9ClJbJo+CN4cyJapA0mguAH8nowAqUVtJGKqokGSf3n889DCB/5DJqaBU8GQ1UnjMlipVSaD8URGjsnaYXzGz3inAbtMZKgD2bcNbnTNcPHQtoeoUr0DVBNGQbgL4gVt4zzc/KMD6ZMrxhAAAAEAGf9GpCn85Umpp5EyLmXs8AAABxQZv3SeEOiZTBRP8nGrAT+fmzAQ6Jd43Hq1btckOEV4vfsvGo8/Xzfj/krz+ahhjFxNvrpi7AVeoJGm3yS0xL8qnjdix77J5JzI8AfqywY0XN4ulxQBkWXaaYBbylr6dwe7hBv1f/9i5lNN7UjMst8tgAAAAsAZ4WakKfx2VYDgju2wpVRi3uuKs7kPP4FEwoR4xyplKXEpIJmQOvqXALenwAAABmQZobSeEPJlMD/yp7SQKdbCLPTTzD3T37vUI6urn8oiwBoC0naM5o/h3B8BVUrVcyhGAOEimwe6gUXw8Wd3jWK+UoEZKDUXzBSUIiwrXzQfC7IxPfsqk3uoaPeLeRSrcBGFIZ9r8xAAAAOkGeOUURPCH/wdHRvTeIzp2WAVXafNu/2V8BHoC1i9/l6stngEn4dUbkI82lvm7a//kzzjaBHQTkGcwAAAAfAZ5YdEKfy1o4MdYKPU20hiU7jjRzLwAoZqZi3lvvgAAAABsBnlpqQp/BDqNi049U4q4H+ov+yQaidY4alJ0AAAE+QZpfSahBaJlMD/9ClIIwx/7ugrvO2B7wLirx6kbe0c263pG4UifoDCaZ2Bsq7ZP8EJMhqmG+Vz9o8Wi5kNLjIBobavP91XPSv9PKd2rG+rRhdTcp58wYhQshu/ge3W/SNSj70XY/OUuF6AYngpmErWgtfSMvrWHgrLPVoeHbBSI3syxJub+eKRSbnYX7b53RB1liiS5lxARQw9DZCiaJ9Gpr4N3x8iw31HyK4mKM/95dEbMaKVfwQM61xOfit+895fgNU0DFDJKOFSXavHi11j4yLTTFG5cDV+Y7QuL49RKqKnvwmjVAjfYv0LQsbxsoQL70je07qi408/gMQaqRB10aYgq5cSjReWE1okS7Tdg25odW4JjV+CvK4aSurBg6Dwkd6NitChDbKIqoMaxkGhbJlThn5dNIoTS+vP/IAAAAI0GefUURLCH/zYsI91jRxrlafSQ1WB75IzIRd2cOMlc84pS7AAAAKQGenHRCn8sLqtOS42bEvhTI+L9vRN9n5fGrBlhE0hrocv6ifUnXLP/LAAAAFgGenmpCn86euidv7Z5EyF8KYnTRVmUAAAE2QZqBSahBbJlMFE//JxqwBioloso0DC/fM228Cr9kdDPi8cMpY+kf4h7O2gxFLdVe7Ej7YsIwNaerI/QPJbRqjfaVNVPun23yFQmeDuSimxE/McLHN89j9ZWF39/iHK86+HX4w86gDNnTxWl6jYNitrJ7MV8MQKJw8nCxgDT3W8OF5tqWWFWG/jUWSYgHm8ANsL/8gacW2J7toCDSlSw/TsrvDfcJwf/u75Hv6y9wVT1SfUUzX+OYos5wu+XS8MjuYhP5q9RtRVTbrPeniWAgYVLViq9mDSGNJKgLArRdDnWCwdv4SG3+OcmFqNYW/xqecaNm8PbnHtl6QXMYHsmem0OGvoHyqBdlbBzPeFxgjnXCSpqTGbcMWx45xr1d1Xp7SYYJTL9XfJNF6wE7milDzERMrWFMgQAAADsBnqBqQp/MaG+xg18UF4gBgtOsRZ+0JKkFj7T79UrK3CNXlb90tXGJwor53f1z4EOzIeec124Gt+LoPwAAAJpBmqNJ4QpSZTBS/y66vCfeBjkBA+/1/9cBVudeaWGYy8ykAtlHP4RIA+AHtyD/WPfXw20jcOw6PGiWfyU49jW4cpTTLZLUQloGVObDC5+URLzLqcHAYkC7j17EM08H2runj4EZmTlIWyQBQvXZ34WPR4k967q69eIhX8WpwcYhnzsyTTofqXImdNo6RdbM92JGnZzgiqundNyZAAAAKwGewmpCn8dlWA0GONG+2LtATEQF8jhyKIQlft/0rnYnIpTBnB58ak78QuEAAABRQZrESeEOiZTA/yrzYsIiFx17NNNmLxGeOpo4D4v+yy/u8DFt6eEKfPY3es4NzVsQ78wH8MAedBf0r42RhzVp4PXAWEJiwxQZntp3FJE/7ZdAAAAAekGa5knhDyZTBRU//y6zeO3k/tItT0/Pqvo/jYddFTrr8RnT9KaiR4fNZr7sepvxtCVoJYx5qjonB/MQr62aKOpmRSPkmV5NnPE/iKgOwnPYPBxF0pdcH07XPvaAynh48TCNHeX3qMMl0Wm3lFzD6k+Ds+vh3rynltPAAAAALgGfBWpCn8xocFV5IPvGs9xmhhvOrlXjEhcc/QY2J9wRn/vJ6XlMcwtTSm/bhsEAAADUQZsKSeEPJlMD/0KlZA4DGc/svZqq+//fye8BeR5QP3uJsnr08kZ3quncw84/w/Ral2j/tRPoKFxZpqpGcyEcErThjMzk+Nd4cWk1y89HyUcKv+C9DW74a50mMgyATqDPCOTVy7k6CfMIT3HRmPHezLM02HyaunmXpYyApKwND+yaNwAAAwDoSvhVidY0Z5HC9aMIcJILvg8QCI4YZeaGfQYvk/9R0R9K7+L1Bl0UHCBIJGPU9IVmIymQP6oCNPVdewpWA07tD5DHuen6Dnml0jmaSGgAAAAsQZ8oRRE8If/Fs3PrDCUNPJcshjDCSVE08WQ3Vina8g3pFMACBEzo3EtvqIkAAAAkAZ9HdEKf1ZHhbTkSTll5Q/v2Y2oPxQPAnKr61STzdEFgnwTwAAAAHAGfSWpCn8dlWZGezL9CCP7OytCdz15EA85nMmEAAAAPQZtOSahBaJlMD/8AAEvBAAAACkGfbEURLCH/A1MAAAAIAZ+LdEKfA/0AAAAIAZ+NakKfA/wAAAAPQZuSSahBbJlMD/8AAEvAAAAACkGfsEUVLCH/A1MAAAAIAZ/PdEKfA/wAAAAIAZ/RakKfA/wAAAI1QZvWSahBbJlMD/9wuEcjP4si4OTM95VikJLBw/gGHa6WjsLFQBCeKDTzW9PI6PK4XpH569P9Qa/rxF9yCbBU8+A8vZYe4UxAZvmCRYuUoUVQAx8krq6aU/6AZ5Eyj3ARLfsUtaT/V7hQEx+O2m2RzlBdT3NylFc6eYh5c9Y4IRxOKeeLL9XVXobjDeBCKmsHeV+nOmzGeF1GCLuSdLJXR3bq5ZyS8XNSfuIODAYr7kWuLloQi9TtMrAbpPiRBQI3z2Yc3hmYWMIVXejBXze9+jfXPEOdi9YOnzuLYXXqnXuH3gVaTJC+Kg1euDrNxWIu2zBZCv95oDjlnFs5NYfCMIpfdA4rlRRB8+5R+dKUpyLV2hUioY+iCdsC2oZT20vwAzEiwQ+Y9LNzYJKwKhA5KjPrrXq6kVFzMRV8lESZrFXXqcabD7AAkp+RyfYEEDWS88rmTFjVvQKpQCL+mgGzSjXCEmc4XOUwv7+hkEkWfvSOOlLLGFmUYgSlNvdY1X6UiUKTaj6FpbV91Of0E5xgcRT0M7am33oa3H8VJ3T188iOKoAHbQ0PwnQqNRoOwTN3meI6s+MsdCkUtLwbxKXL8p8hnPvV40MKK9hsF7jlbAYGBRmzAarL2CdPJy7s/UuX+jL3zByGvlB0DbcVU2307ChidyBrfu56snnMKvFgTHCF7SQHcOJa/qgx92KJOsfj6dJ1XIr0thhPfLAcnqEB1PteLUVByIZWZXfzXCMCNhZbmGHPDwAAAEpBn/RFFSwh/9cL1E9AbtxICp8+7nKnSYosaNy8PewMMEKIkMFNWUxFqNBWOTOY0p+Xowgid4q6U28EtaaBPcs8AM7S+ud0JMPfgQAAABIBnhN0Qp/lJZP099NBFecPjwMAAABbAZ4VakKfbmyewWVui7aP7KHWz+28DCyQeKmtS8mM6evXX48ho+6kQYY+YKOCPZHakzA2wLpLgaykou6TP8gBWKby10ispACGcoZUOTeuF0bv3jknluY0119UHAAAACVBmhdJqEFsmUwP/wDkk5b2/V1eL+lT5Ho4IOswE/xqBnnRKNKgAAAAV0GaOEnhClJlMD8AARvjMoX3ISU1lT63NBvnkFySBzUneuocvLPeoQKKjl8iK4hK+FjFGbMLIEWpgAIgZfurigafE16JtbNiMNGtu9YNnNWZ7zSO4WFRUQAAABxBmllJ4Q6JlMD/AAEb4zf3q5G50/92NYBB5iC4AAANMmWIhAD/lFh3XfUPgUd5/baH1emuZSg+C2azDV0JioInpOFc4mC0YtNrONjWP/GZwniysT3YfWURyNFMN4LlWrfk1noDKa67Wsom4GU+vVP0S7MxgebMr+kdn+q9qrnTLnbvfH74uu/0B+b/4XEHqn5xoeEik8LuLs8SGJPJRlTz0/BfQR3/if7qarUggpJOFuy4H8nOQQfk1C8cBAoOMcwn4weW8Peasb+ZLvr7bOmXBKmXnevgit1FTZpzjm93Mimc2zsMqJ0mOubF6a9SKqpETrz+Kgi9sm4eEmvVMF3jgZ4jhFaBHv1AwDlogCK7tqKHPcqzEt3ZYmMeNgayamwaQmTuhBO4HgVmQ2Tc/HAruz83CjMatUAkZMrabtjqUduXvU8W7udSca/4w4LI69WfyHcs84BcBoBYMBWMec5Uf5CTsotwAAFK/VnLxp1/bEZt/Tyz3mDhGtEfAYgr48Y5svtUCf3ABnHvtMJ0Ca1rFPr1yjm8w9/PW85qTVCwWqDWhMaRHEzY6f561RihdPbsEJbKvA80Lt9Jm7FRvTxq0GV3ggTSX/Fs35zv6YPZ/VyEIuZ0qEvgBs2OcE2L3s0FZe0g2SrPW/GfVjfwPRVgzrj77lwcfZBjJ2HxMETW409X2oizjDNUrFDe05yw6x15QubZ68AGwIHobXeEgN0BJkfIJtHxGN3svZK5N4qxvVYaeITZzHiToWYTAEVxW4yPT/UcDBgvEDAmmXL4FrD648AUtMYeEsJEAZaiTwVfEFVaW0w4w5TkyRGIfuCbRCQAm0hw4K9oVVV/iucAlVH5c2r4vpcAzorHwkoVSlLFazUBcjMV2Zb3KnCwI6fvc7znbyChtD44ZjcZABSYpsJXWXSHkrz+HqkFWraT6OTmX21zxbUMcOUYAZrw7eHAvycFY2Y+5emByaQS7FgUDatmXnZtBQwFEuu8rbO8HZqz3z7gbMJ+XV6XIIWVVLQcvdcZvypz/1X4+yjWDeXvVtrlppGxB7Cg14+4CjwHJW5Xkz0J5qs32lvp/ln7Lph1cvFPK5yIuWcUJ2mSIo1QxDPhYvi4XJJbSNcoNx9K/YuykdXM5B5nON0eSYq4j7RndrAf3259+dBsb6K5B3Ib7YTGI+AN8iUwTE/ujqSwZRcJUtRYRTCeMR82vGD+fbQSXSiDO6QPtST/FYA9scJVmbg4Ef4VHXppE/HI6pRlpN//vnIen6V5RlW8nRa4g4VHT7k9OHQItNQlYQud/j2OlP5aiPY+4JtGoNlC2/s3UlaGix5klqfPq4L459+uVqx1PVvKjFYrkXQr+LPfBfH+WF8DYbLWFWOMdKb2XDTz8DLet/Ek5MsKytN6ZrzFTf5HREHMH9XLgLdYBd/R4hJT/VO7Rmfm+JgJEtN+oCG5i3RHKs9/zrt///Mi5HwhWtEQL+oduVsMHB/SN9BJJN1UsBXYgaiYLeYJeyZSCfsN1v0rX7niNqbjsBXH0tFjtgz9DkD8m1T34zIFVBHwr5rGRx9EpE9tqkQB75c6Yj5G0GTtJaEaoDAMYqJAs99z766zxozh/OO7anq6ahr9pdJ4284X5hSPDPkhVXLtlkzOhkKZ9OBFO4MM/Rf5Gh82EngnWkwSoUaQRIdLVnw6nweFUAafFwH8zT3CFZG2M9CDJJshkxPPa1JPAl7cfCbE5fNuGcR7Si3nsz+2AqKBZaO9ukfzuAUqy1g6y12KT8iV21jg5AAz/2frorSyRVdKrkvXX8rWf1fLs2o6CfauYTQZEUUGwFye4W18iY3NpGEarY8XkMYrKrXb3rzcF7yn46YKMw+zu4cOlDCWt0kSnDWlPv5Am5QNX87n6p2EVDRB+dDsco09zE5TtwKgAD0Wxeqfpw1DnzNDq+nlE6e3ZM7RBfeT3y1tZreY4iEiCnQAJmAKxRG4Ai3xXySS05DD2bqjDuiSmPYVkKmnulc0RVzonE0XgoDlSyhvVbJdRTSON9SpjSkELWtaKeywiGmDJ6N/hmBxqwJoEDgYIT4TArrhajtAq7ESV0du0RbYYRxK4vpQGlobhjoh8bPEvmkzUpwOe6crTyD/NFSAp21yFC5tFQLFhwdeixcHES2nyqFCHnOOs2Pdw8dFlCdnGC02bkvyGPgrA8Ms8o16mSVmBQfVge2TPx7sPf1FsHaSKIYLd48ay/wGMp/xW0wYqKoZEi74HDeiMOpxx/lABOL0vF0Kyueo+JkhzxGageCfIaZeC5x9XniGr2Ci7R2cq6qYVnLI2w2KMmAuJpExGRVcjBaiuIX4WOO+ilmlg+krv/XkqFGXDvnOhLqsdxl9nb0M9YeDwXomqsfK7ojY73DTau9OPjeNOONOMPC5xHwnUJ2WgL8ojA8cXRnLKHPjG0j+NW5yAOeFax2FV6cCdIP/sbyI/3uR7Oo8QupT70pxbmryF92awR6X4CCJIqPc1XhosDeo8vJIKISM95wpGqT9zbq8zCVyaSpSqIA1MhoBHv6VvthyeXuSkmJnAH20dGfd0OfuzeaJD03J3b4kdKMLgkdSy+2MtJYTjXJoInm/1c4HEXwC4z+BFjugel+CzLTNaRTtQEcBjxbgUXKM76HOlsFbVg8toPUhtDJIfAbl4op5QVlgRLP4/NdkSVyShFolpLvvGb+qwdHQ2FnEqtfxBk++dmD5lhAkEjz0KjSaVenzZFSu69DPKEtz/TgqLE7IBgaGFNEf+CVu3wtGm59ZaIxNUo0OhTQBy7bWzunWbavSmVqVoLZA1R+pdW3DkrDmiJ4LXFNSotQRVHozZGkfhK6uFYZRyqzuU1bPlFYoKvrkHoijE4hBnBZqc+vYmGeJQ9ARuu8qSZTIN1IVAYGhJdKdxDpphux/anPdR1PP5R2KENwOcw21fpahF5cHXWA+qzQl1oyJYlA3afNFBw37Ze3WLPMenTe06VfzuZqu5PZlEPbgqsTPU88BIdDnuG0dtzo1kdzZqa9VHtwCnyQSyjz1KWCqxSftzA+HcXtl40aQ2eCF3FufqqDMUvaWmv9i95RZ8TP271I2Dy2UvPACr1GLty0NY8/o+3oWx/ZBWpfJC9HV2DWxFnbtJa+8Tja2f3BzkqAyxPFVY8aVVG/P5ec1Aio50PLKR7YrRzJAM7ldiza/Tw1tv564fwu4rES5lMDA0te8GZ1mKY8OKS194m9GD9cHOSoDLE8VWyiepFPCuXx4A8AjidBiNkp67EvZtUI5rYJWe0UfXj29hFeN99oOyfGWdtDB0K338D8K3sQeWd293J3G4AGo+BHCWaoI7mA/zEw5Ucffx2IfyAKH1lsr8ZcuprbwTfWOvwcjSpM0klWSyaUnmwhoaAz+rn0yYELVClfbOQ/kAC2WAE49R72HNVz+GyMLzQjVdBd+wUCa/1Owpo+V5l3EEgZUQFhpRyKur078RxaC+JhThuI2+BxUYzzgaXyDiSQTquPE6yegLNHn04tZMb2OPUZYZDuNYd8u11P6C0xnXzFpZPX/VSbpHR7baXrwxwW2iu2R0VbZUaOVLpxguIZoFMFDcOVmuWntrZne06fxaypZC4SCA3I8xzu3x3ah4BV+39rIHqzbynsi0RZGbjduvGnjKUYv8kXJAfluZ8l1cPFHzCAYNKdCScqxkhDoil6cg6qy1ct5Uza4vkvJNJbK48laL1w7AVZdTl9qKTHgxvC9qQs9ylrx6aGRSj1N03n9hpe66yqjgoq8vQ0HdrHgorsm47YTsEKRbw2e705DjyvWbO06fxayp1ygoq6Uo6M8VV16R0XscGlXrIHKLpbF5F8aVBAiDDc6+xHA+BsiHw3y3K4Hv3VDnYDR6P4kSRSuhj1jyETvWRp8hUAG38/j4g7vjXxaSmTtJVPqC2T9Ay3aqYr3f7l+kdHXuT+07hQpy7qeh+dPsNL3XZwnkdApLx7QDCyWrBDSd5mC9rqxcHD/72rOCSJe06fxaymNkoq/bjz2M8Szz44yDPzuwlrILHj3iXbCE9pvBfHOjTxlFsP+SLkgPy3Kn9a3JrHLDFuQCWaVulKl63mEVrwEpAt/dVYFja/pp5mD8uP71B5bqq7gI1UlvAmzmN/uX6R0de2wKvOFCYP3um6bz+w0vddm5AqAHpqMEfv7MlsQzcd5N8fvTuvJv3tWTIZ59p0/i1lVYJRV+3HnsZ4npn0jovY4XlbWQBI1gAe2EqOCkED/I5rVuy+/5IuSA/LcrHflNQF24qsK4nz5lLKWkdxN2MQntkEPkkSwx32NfabqKCeJJraLItcXajOAFTl5tqKayrpYBuHddUTxw3M/SPmZFkV5v2WigHdhou01vINDbBPRLTofQVSsjF2ZEjP8oD7/CbuaUy/5eAUxZYj5CVqjdWtyzUL0pS/HVleh5nm/pMpzjwp9sCOeqZH7HxOgAuxSz9AUgb00eai+fhJ0vu839PY1BsFTHLkdbPePqPU4GD2UeORVH5DkZsgU0954miIjrC96qEdamx4sd9CrZNlBrg8NmMwnaaY5xmHQa+/khwAAABBBmiFsfwABHk2EE+oZlY91AAAAfUGaQzwhkymH/wABI+qIsQSNTBCrCu8r19CCjfuB2BsMWQO/H6h0s/50cdMAcUNMN4ZsTAi/p+yyyfoUoklkRVLk+gPsKvZTeanS14bDHsgziwOyWu/jwvG1i9Tyvp4cBWvBrDz9aSkm7zcdSfg+eYUZA/nGbvtJoW2WfY7QAAAADgGeYmpCnw9o3vJFBikpAAAAF0GaZUnhDyZTBT//AAElK2+sMp/RHU8hAAAAEAGehGpCnw9o4R9I3lVsdaAAAAAbQZqHSeEPJlMFP/8AAS0rb6Sx0A2DjB33cx6VAAAADgGepmpCnw/A3vJFBijsAAAAGEGaqUnhDyZTBT//AAEtK2+sMuDkeMrzYQAAAA4BnshqQp8QQ9XHG6fnHQAAADRBmstJ4Q8mUwU//wABNoWlO8U0pwvYAP/2LKQseuSmSFjM3+Mp9esn2j3ah6dwbyqSMYrwAAAADwGe6mpCnxAsOnXBhXyPzAAAAf9Bmu5J4Q8mUwP/b7tUAu/k0uPX/h3UipPZfa9Jna477hO5iVY6DGsgSXWwBLZqPkxHbw1tY6CM66u0jkZawfM7MUNN0i+ElIhqbb+8eJV7ISdPp2cbBxUyHfUgi4oboOhIzMrPNZ4HGw70YGBAp3gWGn5ZCCafCad3GnLNmSEAwFBqu92FC+NRGeClKj0uex/rrWL/AtM0TZVpbbiKYsYN4AISgKuqOs5GWtEfKpI8ZYKAXn2htzkEKD2lup6hHrJZ3qBv/BDLTGk6Ee+UPKyr5HIje4bE0LXFh1vXvKhO/2fIxs7wBX9BRvQYcU1a7i/QJxsSn7jbjtZoGc/HCqoNT5QhVCXfKtV9F74Y+2Ni9ZGgl/aZ8tPLGC9+V9cGlZ+Mhu5Agtx2abmX2OjhMuo/i1loUdeIO8R0lx+gBygsq+KxMsOBOejJysMwZnHAuRr8wLP00EsBaNasxjB6Rl8+ZkhPEj9oA/qScLCTn3TQZCPDLNpiXSj9QaQ/PLeQeIIrTDpMtxMgLn3kWdSEkNNRVbSHCqNQqa2DJKfgQy85U5EjkvOkPQ5762Ns5GIubtKs/eh0IFflbZ1yaheSWm7Ylev75Q4Vi4BU0hx2cCVNChqyG6785ktdr1cRPpNsyIaV/E/EiZV+9vUM/5edQX+ye/Iinszan6q2ZqhTaBfBAAAAGEGfDEURPCX/45tQHiyLTMijnJxeOG5NoAAAAJQBny1qQp/k7a7mJG66W/8dxYbZToLuCBgoSHO/XdeGeD31MvfS/gKJChca9Yv5MDWL26PtSrSR5kRfxv4Bm066vNueZ+geeUlU5SlRAU//+LrojrH7POrqQukBpWSo9QpOPOzv90WnniOkbaNR4ibzlhqSvU0mRjTsbVudyJ5uVEaBmZFeuvJ9rxlVf5rwPly0n4G1AAABM0GbMEmoQWiZTBT/JxqwBdrL2nX/VTShKXTNZ44fiLxp0o/gKNfwr/xJSU7akCPJ11gcNtj7ZhOrIOTxoieHFUYwbQqcdtj+Nz14QtF7rBMB1b/sVGmQ0OrZ2YZqVlrNTRF20Mx/+ytSNzmcF29PQ3yc2Cgxs61rpL/EOrCLcKoOxhBV5+cHKycjz1zrrNBskbdSWTKnETvWDyGGTYxftcBSaL2Y8xzZ6me5Rhb2N1xfl7HqFYpPVeXOxTFi+WxF6tnacCO8NAkWKOBO3tt0ZOdWKufw5Pm5KUz4p/3EOCvZ61oVrVDWqj9O4o0yZA8rI7awHnOUdPCWY6w2MjwNnyPNyU6FXJrvJhgsw3qYYkq3ANdf3iARbG9KaQReMTE2iQu4tGRFrIcRqwYjumNgZYCkfmAAAABoAZ9PakKfzGhwVahdiADtoPAtYJd1v+efVw+D8qWm/8A9Cn1nZQMa6m1RwrGHCXeZ2VMY/LIzgIxU9yDHjmb/fRsjTO7WUZ3jIr6p45z53Rch9wNbh6hzX3RtMhDre5qb7VmkOB0CcGEAAACWQZtRSeEKUmUwPyp7SQGKp993qiBclU+xUwhqWWmOrfN57psfu1Jj/+AKDCE6N0W+J+fY+p852MoSFbfHwRVy7UihETHeUfAdsxL/x2k8fPX7ZmyL0HDvMAfjfsqOnHcG5jyyIn/5U0Tkt3/PKeqykNoSkilByIYpE1P99nZWNxQKBf61/i9xdgr+E3pS7kBaC8JPkyVBAAAA50GbcknhDomUwP8vY7nYAxUDvQqiUEPx7IeNdYiL8sGCDD6UN/tZC4qtxjAAUMvML8h8MpaVVjLZizN85PRnJXDnHy1VG3QoaAnZuCmtMdB5V5/i6wRDc32Tql9Q9P/zkbRt/I6A12QaT/F5ovFR1u7Kh9D7KkkXGODGtfcwsI2ZPibL6Kv+lz4DidgUorw9b/6C9UnNNlpaOJfXdGgqA/obcZNxmmmzEAfHoDrl6RFtuwtkdRM/CiC80zgfAcKNQmeHMCw3KnZ49m3rBHE+QJc2xjUWSD2MmNHc9vqcaFynpAYkJD4qgQAAAHJBm5NJ4Q8mUwP/KntJAPhT+jaPPtkrZSt/6HeTMOkZpCGzKYqRHtfAJjuX+3+cnX2JJak56FoIrC9rtWFct5yxQkEqj77G9TvsBoEQonoHbV0lQVxNYePGSo6RafJ3dx8mcjgIdhtX4dAxLRnfiZiNV4EAAADDQZu0SeEPJlMD/y6+eaSAxVtCHdr4bCqa05wYpf2CJsyp+lOzi4qwDyqys+k+vzMGpiXD36KZFeI3uOOhUpbS+HYxIXzzBTzgLRWVRp8tczOtlQTb9IVgggfqnO8XWbJ1TuKYp5gC2cYNqwbYCzE4pennoOukOxfb2PbofhRCEhEz6sBTRbpCqSU+d+azv9NFWWjO5NHJEvY0jIbnlgBZ7NQZ2y5ZoE550qnHt/1NKWCSaFdi1rOrKLoLdPAu/wvDP1awAAAA0UGb1UnhDyZTA/8nGrAKg6ztTlSLPxv0gra1yeMpBedblE2IMxhSyNnbh3FhIp85Ov9B9EEwr/rlZAlpPZU+9YWOek3cfDHMXPWLz0fApT41CY6bVXgw7fi+0/mjG48RsuNYa2+DrBqTVyKLEs1Hf2ME1qZxUyi/djarYLP9sXKZO0cMV3bMyniWUwxuuh+j3WmpDiX6LXtg9sIXQ0h8g6FxqdWZ/IyQp0HC5S41NQMdEj5LQTvSFEaTbLXXfFnvy5e8UNCI/XLdiZtzZ+lApifAAAABIUGb+UnhDyZTA/9ClOzAYzn9l7h/TKs4Q4Ul2izDYv1o0w1lUqNf6I1kIxs8WTAAmh8adkQU8PYpVfd5ymR+o9vLkm62jnO0DycG0XfxIL7mm3DldEzoKLYK+B4finR/+6VHcgwYag2NrOqhcancauFn+ML8avqhi87MTypglmpEkgcKV9PboF1GU/leuyvY5ZL6v1KjxDn7FZ6ysUYPuXFvzYjepaSwKiqEuOvspeCPymVVRv9tR57aoaWLDrQg/46hx6ktq2BXW7bf+/VpmVAU1Bmmr1yHaXK9XX+UZYl2ZMa+Iu0FRGON85J0L1ZC/kwEoCaq0uxQYM8hlLWXi4KcEtixn5Bd790yuFyaWoBCw05LiOoPu07wPKQ3u4bw9eEAAABtQZ4XRRE8If/NhOged0WDW+9WUKUtQbAhfyrhKlSRjKP6wNN1yMQSmO+JvFMakd7oLyLRQ1idV0BnNX2OToHmlx4/5WOYW0rQA8HgMMJglHI7Eq9ljnntw7dCXe0/JCchQDdZ4n8c8y4ACgHFzAAAADIBnjZ0Qp/LqH5NKjIhaYllF0o7u1OZIvftWtARVr17Hmo0M4puhr6I67i0EMYG4aiDLgAAADEBnjhqQp/OSQcfC3ducPur5z9sybW4fsiOXnsRI07uRD/wRuSm8HVdzoEKLhO/5FndAAAA4kGaOkmoQWiZTA//Lr8cdgB3LL2myYdD1teX/iQlfxTwgFtnddX+UHXT/WyGbtYBcVNVyjsV6IHH4+YfxVXThBtFIYpmB4xr/z39z51RQT4k9puXZCe/pz986fnLFgTViw4NPtz+eb6/aYCf6vs9eFOXdVY/AH0duUzPFdShSr28IdA4gy0dyymyetghtsdzYx70lls5DN9lw5pqeq1VQTUcceJ3JZqXfR3mqzU4RSjyo7SL63a/f7Na0a0mtStH3XK7jh8h6yhxyoNAE0ET5IWgWn34ud9sFNu9V2u2p5xE5GkAAAFaQZpbSeEKUmUwPyp7SQGKgT1kI04j8MJgZCjd+kFapg9NEAjZLU6bu34BsoTuMdnOwbJsQOflSeh6a+wKgFFYkZrys4k7CKqg3+p+WbcNtgQ+F4T8Dznsm8HkIFhfd/ewuI3wZIXuxzXtScPscUR1cwc6juzRFQHpactk/v9Hox6lTI8tkpsNOcPTlW5/0L148hbhUDtr6CdqFZwDUr4kBnMfj40ryjPGWgvhUr5AEPy+At7OdiWXvM6qdea2kD6oAF4SuVkk2mrU7y0+0GcBaJEaTMT6RMl0Gn8Tj79hH3wGvwE+2jqnmCfwVaGIWGjSzEtDUZqQiTjYXSG9c2k+T7u6IGSV+n/6xrrp65psGY5HoiLXPQIyIcwJE/ejmsq8GXTMo0rYjDbieeLhuotGgK2Zj1XPP8owXA7juMInC0AJgTDpMlBNJnQGLkZcAtxrcfhXX6J1lvCxIQAAAQlBmnxJ4Q6JlMD/L2O52AHwii5sATq9OtR3qZe7+nyJBdN4BI8NQbjANO1dPRIvRKQtOi/AZ7OjtH1/NQwxi4YHxDcrxG9z0ll5sXmi+GJC+Z4zZ/sTROXdjp5rGwelXnKhCF8H1vECrpBJg0p0aYO9FYo08yZ5QkXX/r/9FKS1QtXo1MccgkTWIN2EyeMMQbJPOGOTaRquZol/pP7/HqoVyMuv+1ekhpBobnj8d4f/NLCxVek/9E0Jt55CUFuccony0/z57kxkaEzUVfPn/DjOGpiyXBzvm4lto5XTkEO97aunmCJRKzsnPxCSeu8tIQuhMQM0tRMVDxL60/tkpwl+OJCIGxJg2QWMAAAA00GanUnhDyZTA/8qe0kA+FOmtFWt2pYismZf9CbpBq6zTx0BmKkSBXikG5QyZ697ezPIP37gXpbo373eZPmH1uRBLRUzobiwubj4mEmnqC+6NX9RQOzJEiOLZkE1MN6giuI8hxXEaKUB/q0PrkHKcCfPNJI/xEYYGxlGBsK91DH//ENZbIViMnKYBWed0p6B8a77EfHXC04Z8ITZ1NQ8eOv521n0/7+wUEamrnmFrXQKPGw3yvCE4hj0gij2gNPHfJYV6FBqG5D1B9qjQ4CIN3SDcpoAAABlQZq/SeEPJlMFET//KvNiwGYgQjm0ZjFdb9SLMOkxw1eL6b2IVEI2goMN53sTxIUHCfr/UZtDYfiJth6ygUi6I/sruSqDbHV/Rn1Ud70/iAI3cdruuQN0cviUWl9bnlHalyHaaNEAAABBAZ7eakKfy32HFmRIps0SRe1UdYtKpDgQbP3VfQ681l8kaBevB0M+BaGBxBz8zJrberf8WNYc2TpN4kgOtdbIYJ0AAAB6QZrASeEPJlMD/y6zWfWAHwgxANfZZ8e0XmKDAABJYaLbuZk1724Wy1iBgED/oIld7NyVTl2wI5FIXWcsSl4D6/m5dZC2d/G8Q/Z2yVfFnabQAJdJIUnsGrcGjERIi4Lay05pmgEYGkHv2VCGi5nuPepLQVz2RGxvNIAAAAH5QZrkSeEPJlMD/0KUk8r1mZXH01s7cPQ6bMtzIEAWCdRKaptvwDROWJYfxScj5naTEqv4f5LPw6vmK4g4hlhYgaO4FD33AnIWz4PZ3sgMGSZIpACR1q/ZSYqePHuUKoFgxbNzde7LYoRAP9RnHcQr8zBqYlw9+imRXiN7jjoVKW0vh2MSF88wU8/cXhovZQ8muAro5zGWbhmbEHAuaumLIDd6EV73Z4VdqFUfUdprXYRWpNuGIPryknQimHD9R5nXZXswJc24/6AgBfxUoGnfD8T5TS2s1sCvcQKWJ5dQ8KwRZ3xbr+4x0gq68K5H1omHkZyRVZruZ9pZyUtiNC10HP2waHSsso/svydIpusRUwuKJmoMC8mp+GFtdZZTZL2ztBhCXUn4FFEPAssO48zP71jq8mNfbRc32VH/nkd7OvOyjlJzY4NJ3urXWXPlytvN53wuecjIe3hetwknIasVnSzHy9MiwNJiLbLsjSuBgJkG/m2Bhfwe31SD6OuYMuwc3iHsQXDMEl61GPIq+ioPI2a1mLoy8NBQ9FGnSYyz5SAqKP7iD05lmZBwR+1qtcQ0lWQgdLiXrIin8mJYHcJ+FL8U6dkaK0XYwjRD+lvShF4khLzzyeJYXDIic5Fm0gxV58Fo3DwDewxI+Nx/o0wZtm2hQAHUqutZ4wAAAF5BnwJFETwh/8Wzc+sJ84eoW+hknOu23eeZwY4mgchxW+QK1XsHXUr+LyPVYufC10f/Wsr9tQSvsojNfgYjFPPTNwmG71TUa1SU54OHKaVdUm8boy+ViHjgXYaChQFOAAAAVQGfIXRCn9WR4W05Ek+0tIXXqjrE2paR5v5I8Zkve3AmbRRAiCNKbli2EVMnf2MR3ujP5GTmKhdNLsEEckP2G80QjKMFExEpNAZHZq6GkD69i6skaukAAAAgAZ8jakKfxyhbOKXr9ZufNUsEhySXerO/CsHE9KKuZF0AAAEnQZsoSahBaJlMD/8qe0kCnTfKvhPXcDeFFtLN76kOjaLSXsfcx/rs47AnDTOjYNiifcxaHfGhQzlHAt5XXxIRrzkT9GuLd4yCVw0mPyvgjKc6s5mDUuDGRAGeemnVsfO3ELhwPDyS3VqjHQvZYtW9I1phdC0Td7kpD0XBv438EGX57zhCwNA2G+pd49svjX9JrixNEKcsbjVX+XrIKD+zMiE5ZMiBW9bDm/HBecUPZVi6lM/9qAJlnNQ/LG0E8IYrxZBDO0jijHGkcMavgnXOmEiMSsfZi5yc5OYzXL7bHgNEPpCKnSnmkZwTMjOt9c6cQmcIsI5eH+1AJd8ArZU9ZamvtPygN9l8sbnqV3z/9g+aowATdKNr6T+CwD6crTXamTL7DO+0YAAAALVBn0ZFESwh/8NPbbX3PldEFMOBhmqXZehWEUuyBREcASY9Qs/4LFPAeuoGItxNKrBXYHkyoJn6Pp1hToL4pwLqmjlCJBpRFWToeV+uX5ydxTwYJf0lu7GTRL9WJgscTMWdIVzk84YYWg0UJ8OAzvvFlhYgDeJwV56nM92LGcp+q7/RWCHOY2/Z5g5pBlJI6iiNgmGskfbJ6G/mrvo3raVnvueTFuHvZTd21jVphBXOfc8v5sBVAAAAMwGfZXRCn8uoh4V+1Aj1XiFP6OPXYJneplfXLaDchL5BGQ9e9Mpu3VjfrfY3aVpAw89i6gAAADcBn2dqQp/MaHBh3eRK7zXgqHt+//n9BsE16pYQMoX776cLHkIXPed3AKfHmkVSj1A6tYVk0jPRAAABNkGbbEmoQWyZTA//T89jtpDOOOScOSI+7+sgeYrt9JqPX1Ua0tcMOmFKavzWs7Xj3341mYYjUae5vZJfZ8LYzeLJ1O9S/jIIIMZPLLBt+sL3EjgU69po8pDP+btfJAcDIRRQMPqDZ7vFfzUMMYuGB8Q3K8Rvc9JZebF5ovhiQvmeM2e900dXWkS4AUIuACoTPa9IOiR+y9JrZ8rvqb8irhXBic8+Usnx4/M6d92Jo6rLyDtsib3Sw8p0jTXeMXj8JliJgHsfNH3vFkSlj7kY28eLp+awInaWRTwcrhKxK/bN1A+mtwgQYEp+vsnHeoWZk+ecxu1Jrs9M0LbKB4oroQle1icS4kyDfrOXgojRG5o78hO02jNsyI3vq0kSbMEWPVdkxHA7eQHOlM4YFHRscV4r9touPX0AAAAwQZ+KRRUsIf/NiowezEtoxCQUoLbs23f5V6LjJCJH0HlMGCOmhJBlRNRHxLm4uHuwAAAAMAGfqXRCn8ejyaN3PXmHl6jjSr9x0pfSX+Ehhldgsr0ZDHcgL/thLDVHj5i96EbOjAAAACIBn6tqQp/VfkTluRJPtRVRIYg1qz5+J8QzDCsXbkfbtmepAAAAOEGbsEmoQWyZTA//I+vvBUo1WyQbJXBO7BUWpyB50wf9RNFbVbdKcBCubzJb0I68Ib4kDjNn+HKzAAAArEGfzkUVLCH/wfcn2g4Ce0kh6m381qP9KSUTgiCZFNg3R9TKADTGIUHtiaX9FcFGzZrI/a9D5+Y9UkQM75gUQcYlNtpiZ5T4NLiPILHL1jirPTE/8LlZ5CxVYGW/eSZdHbhu70hOuAm28FxZL3UDw5cpjOn7hOFut/JmnWYpkuR/0l7iMZlU9H7D+xtlGRz5DOh1ipstMYypaKsBgETQoIBE18rKdvbp1cLkqW0AAAC6AZ/tdEKfx6PJdDoYkyrbNmS4/DCPMJJdGxWCErkN/C6n45DkVclDec2WrHVWkno33oL0R0VoEmviSzfJ+Y4aQAHedIVG6lgGzuMfLrLpeIKQShEK5+7pYgMoL7Us1lXCJdM0RVtQkKgt9qF/hkFzPetkybuOlavq/9SVTCi9CCSQwdjCjJG2s4jIi+IsyuiWIhnK1q+HX0vnrtIacuNonuoe1UK2+Ov/ZjgSPJqU7c9XUW/l8S05YXTgAAAAJAGf72pCn8um/icsUWZREY5WK7chvdq78urCSS2qNS126+/GhQAAAVZBm/RJqEFsmUwP/y92qsVLBI0ZycqhH6KVxGObiKxGwkaAAA8RpDGyMa37ymo7hsdFyNeXGusaAiIbp/y/hPjHEK/MwamJcPfopkV4jlfC2jt3hW2nkhePhY9FqGKyuCqFKe8dN6yKdkm9kfpJXfP24PW2prjS72xvPOg8xlIDJzJObpQOcUb5Jspd310JIdXUCKklt6vXZGWM+4mIvOX04LVfkTro4vm2z3uKUGENHpgeuv692evm0JFkK3FvS2zXHvcnRCRu7AQ/OfP9ew8o6AcKPb0EEL2A1Ltnc/4P68z7+fOIfU4iyeRC9iroe/VfisCnD1fRPTMKXslc77fiTas513FxKJ6NkChjVJU9dSc6uCw1WVVQ8WdE+cRkfepcDloFseA6+yTcvv1dnv1Tpg4/TsjhXazBRmHlnaUuSUztgmMeBqbKcbOckZIFTvL/R2ILYoEAAABZQZ4SRRUsIf/CYHCvvWmUB4O0RHw0TTuz6zZw7VdkpiYIFPLKM81DDWU1wZk60jLqPcMNBbrv8kDVWaPUlwlD75KM7owNkukSe9gAhrnPr4x6q41+XuGNaJ0AAAApAZ4xdEKfyzqqNnRlERjljG3dqsAj3ygFHbhPoGCljmqCgDhlsYjbcoEAAAAqAZ4zakKfx2VZkk3QrjIKGEdCkUhQg8PjbVMSKvO/5mfeVWQF0Eiyhb5QAAAAY0GaOEmoQWyZTA//S/7heYBB4rj6u7PyS/CJpA58EQ4sKp0qnTR+b7r4zatJ7RW5tOIR6t55KKbHm0WE/6nv9/rV9CyB1gZ74FZE4SugHVq3ql1NR3Izebug8WRuWPHmI4ZdwAAAAERBnlZFFSwh/8WziD6TCwU/wYKTVYkAPEQJla7AT2oXXpgrgw/80vucimSX9y7am4vE62FDwnoofQa9wBZl4v6PH6NbaQAAACUBnnV0Qp/VkeFtORJOWW6Gcm6ykH4oHgTlhr43FTRmoAmAI0lAAAAAIgGed2pCn8dkWW5mhZAqafStNTbOOFGLeTdKMidi+ABO8oAAAABpQZp8SahBbJlMD/8qe0kE/b/k3rAjNlq9tei0TV0c8yRNM4TOv+m4XepDNdr4V/NQwxi4YHxDcrxG9zE5a9sP0MFsZC+ZuFCf/4s3gym4jHDxW10ykLq94XV8aojGKYICy/sIClRsWcLhAAAALkGemkUVLCH/w4JvES2qL1v0mMvVR2uJYPnYZtxovZDcOClE4YbBcNPDOQlCzRMAAAAjAZ65dEKfy6Yd/SzKHAHSJRChYbYJnzOdi9S8bWuetTOwwIEAAAArAZ67akKfy6iNFVGxi5EtAK7vzJnDlKDvRXYdAIrULq++mOnHcs4l4PYPSAAAAHFBmqBJqEFsmUwP/0KU3mAQlAJRCDrgwdQh51JOgyh7dZLHv9B3MN6ENe/B/QgtxaUEuQZZ2DpvzN1SMuxeSxwZYqPplrrk7jBY37wrZTtj26OdipT1l//338GlNheFdgskSuRq04khANBKxgdYsgKEgAAAADBBnt5FFSwh/82NNIUJ9b2y9vXMHK8XjSqUghB3bUPVuwdtP1HKXAQ5UhcMEzdgiJsAAAAsAZ79dEKfy6i3j12Ct/arxWy9RTt0nlgHP+T8vuIcGwWFXp9MH/atlGnXF7AAAAAiAZ7/akKf1XVPtyiLD4eaTL3HjQZw6MgrIBOYcVqlA0GkzAAAAbVBmuRJqEFsmUwP/yPr7wVFgDJV/e/hzDfe9kKU5wuMjwUj3xlMAhXqNMvQtY+UTlYD5229TgvJ16kK/MwamJcalH3ouvVPzA/Qkkh0q8xIX0Frk2SPx1oGzy0cBiYUz0Z0O9Nu00Evu8XOInOdSIA2W0e7tJxaJPey7rPc+SXqTZBf4BbqYjLBP4BWnG9sZHQfQayaUgENyLlH2M4Ex3hW5NtYA0ok+XXj61C6j3+Y39ps0nufViYkHT/H15+EnEB8CKPZZXZDfpMVjxL28IghvLkIbAl5T6MBywb4afQnQb0fBOuUJOWe3sVMn+aYOlIoCHyBM8FYiLkH7gSphfTb2bnMbo3IRuWj5z+FXnwtlTYA5OA6rEfxn7GM26oOyBViDvT47TmSLtubkthZg7Q9gGI9pxh55ukhYCW88QIDlKt4sJIMPoon4IAFAHCGJbI7fC69Hn03wjwMIHs9Uk+b5L2c26lfc6KJ6D9cMdDuLrVFt/Hr5QA2aEuFI6/WvVLifw+/YKMp0DC+tRZms+YhvmHZp3fSXJeQ8BYrgWXCNo1XTEIhMLgziQNXPJQdcqLB4jx8oQAAADhBnwJFFSwh/70H0i/+s7DOJw6RacJ949VCc+Y++IRaFypRZVSkcpyswimAxFjnlaj2GvnumAkbiAAAABcBnyF0Qp/HkcXuRyXbOBO3+rFTx4z70QAAAB8BnyNqQp/LpZ8caVmURfWKJY6mXub3a/F0ddWLl/fXAAAAUkGbKEmoQWyZTA//L05iXt4D3W09xjDEZHgad+sdG53QAAHhttaEdzVs1umQekORuRJbWxn/2Z5A1mHgX3Y2LGLXnlwV+2PiTXZ/R/nj8lQUVuAAAACfQZ9GRRUsIf/BCvfbKSsRg7OmM1UMcfdmsV6wuLHO3CAP83z+f8IOue9Pa7T7gO/bOWZXKstpPh/zazOVwZEPDBfoEPHM17Mn6ah3pW1syf/CXAvbSDmDBIrAdNJ/q1l9d8FWRqyJF10R7Q2W5+z3qoelpdh8Y+4H9YB6c/+t6DYudCvo57u63/sZgP+otgzv9W+/EoLxOTfqeQwcyxBRAAAAjgGfZXRCn8s6qjZ0ZREfHiGSPuoNcBvUiP1X3bS0tm5qCLCT5S9AMW4EZeSBs0m67pabrp+7QveT4m7Fc/FxIHlkTl4KmKM7rCk47RpAd35dhiHIullXvaE81+kBHWYJhH9ZL/u0LBraWUnTYEKfUPIrO9ZTdu+epgKhUP6aRFGgp7kXR5MsTT6HELroMfYAAAAoAZ9nakKfy7VUclxqyu10ktRe8VKhgoEJooTwa3f9e9jQuSLkhThHLQAAAKNBm2xJqEFsmUwP/0KU4m8qjNQUkBcDpByd9txgSimcCNxTiEf0dwZCD+n0BQ2e7QG0ybuIc6Y0iq2YAAK6MEoeXnEKpMpQ5nFBez2UG+3DPHh5FolBpQ1sup7DmjUu82uh/NAdqv1fwm9BTDhIrCmLP2IV/NQwxi4m310xdeqfzqTaiuHJuthCzKdh2G6jKvTNSWFgXnrGSHJzntZdu5T4vah5AAAALUGfikUVLCH/xbOzAJLj3tjn5VMA4/CKwslSnHfDg1otHUqpgZv/uPeRNubJgAAAACIBn6l0Qp/VkeFtORJOWXkQPdoxsIAheQvrahuaTMDbEsmAAAAAFAGfq2pCn8dYJeX5zT2zgHiPCwJxAAAALUGbsEmoQWyZTA//KntJAp1smiXqq4BpJfMCOqcksRJvAK88VzDbsfvJdbINwAAAAC1Bn85FFSwh/8ApRLy9hlgyAH8uUMdIAMCQcvXzjylIivxTfZqbCulNw2SEGJEAAAAbAZ/tdEKfyzmnUsySlV6LrPDafKk2itoqojucAAAAKAGf72pCn8vXA4mzPJmYuRLP50ys3y5QpDKXSzlRfGw+/ZCWUQgIqYEAAAB/QZv0SahBbJlMCv9AOAgKUb98aX8JuNWzaEnH7icNQOQAdZ3i897WkJZTBYL059+mJsapu3OeR4HQSQ9huH6hj97v3btlI5CHT5QPwk+DTvJghde/lwPPmLBwNg/AtjhZUxs24gi3/ycmcNDVbYwLtrV2D/q2j70lrQt6F+RCMQAAACpBnhJFFSwh/82KjB7MboAZHVrm/lDbr/mpv1VmmQeUG3CwMO60hYjkR7MAAAAmAZ4xdEKfx5dDHXkBS9iZkE0yLD6ctI1kcygSjV3rSP/2gTGe6dMAAAAdAZ4zakKf1X5E5bkSTllPSL85Nvsn4nv5Je65FsAAAAA0QZo4SahBbJlMCv84gIcAJyPU+4avZrAnzRh4LFA3lRmmVMBHDv9O1MauAmMd5oolpelfmAAAADFBnlZFFSwh/8H3Ssg4Ce0lTudVJ9yvyT73MhSCX/AkUxZregw9Ua5QfmkhtHcyt8z5AAAAFgGedXRCn8t9hxZsnq0Mvl6VO5iut2AAAAAbAZ53akKfzCBZMUZRF9X4UatW1GEsCR6AoTV7AAAAg0GafEmoQWyZTAk/PXAvVXjiESH4bHzo3HZLDQDjO8Ss1Qi+YewAtW4eXvLCrLMCZvtW0lWXe04MPoUqYOf7vLebLPklc7I+1LX/PoJx3WwrJgGv6Em0tux7yREtDM5lez7xgwy5tODMmFoEIXm3tHxdepdJhwJNJuP5n2Xw1ehxgToHAAAAJEGemkUVLCH/wmBwr71plAUO8Jw0TTuz4qhlo5v/xtswEwgX9wAAACkBnrl0Qp/LOqo2dGUROmKG66HbpAnZotgmGDHTcT8IstpQVNRc1RyvQQAAACYBnrtqQp/HZVmSgHeoNN73atrw8WkmDfnjK/Ciqve/67MR4TpP1gAAAIVBmqBJqEFsmUwJP0xpB1Croh5yjfp+BMYe/Max5ck0ryAVI2+wThe0NkBNkJ+PdZAZbusM3EXN7qyftdqLwsRqiXGiDFwdZb+6fXZ41DZRXvM2r1WlIk6TnL0YHC/bun9/HRC+5rYg6olvPiD+B1d5zyyA+Mud8of7KueDlBRbydyFFCSoAAAAs0Ge3kUVLCH/xbOzAJMJQ098a+iuM33Mp/rmeOU4hhHVatjf18Dil0Sw3c9C/oJ3K7NTLvIxQ0ds/aNk6hDqiVfb6p/V3YAuCHSdUtndj4dzbQC5a3uqb36Ac+n/p3+72H+jyIRvJNnGeNV+N69wH64NTlReR9zBaqBwWSRztT+OrDlRpRQ/aJDszri0CM217n/ggVrVIh4AYjafc9vEmPmCblpGCAHvfqH9OXPqou9ItvcdAAAAuAGe/XRCn9WR4W05Ek5ZTwBWfestI838hqwPRDUYdW2KV1EFHumP/TewngkNQr8rV09mW++ZLM1tBVyQIaOkFJlvP5fIx1unHJUoK4iwBI84zLZ+qfJzZfDEL4YPKyniyR980l5yMpyxffEGEsodQODFBOglva5QHbt3NOC3cyb3QY7d6ggi/vXbVyAERLws5dardp52DKxnLEEeQpPFEVb+p6KPkw6kpY9jJ3Xzu1zPl9bR4aPgAWwAAAAZAZ7/akKfx2VZu3wdh3uJ9JL66ktToCl3bwAAAJ5BmuRJqEFsmUwJvzkBY/e27XwLnRSxjkaGyKAVw7jNKGOFyF4oKu6k76nqVGfuhbZTIUlUcfiOPY24RvlxG/NZeeIP+JpJ/EJYD8shoXnH/f8A19hQoV9vf8EvyG9uKmD53W6jrYfU91CRoJJGUfHZCdg4S9+aBX+uhuE+ZTyogcW7z8960kksVUMWQgEb081nOmOQVxGyqkDpBULAMQAAADVBnwJFFSwh/8ApRMJKxgkxMzh/nvVQL/e3fY6DH3UcQkHhVJCner1s8X/N86LGi/36x491wAAAABsBnyF0Qp/LOWLqMoiw+HYWIAlE4NmoG/UMxPcAAAAtAZ8jakKfzA2boiwZIXgT7F059M4AxcuTWAaJ1c5UGx0vocpsUsYQC5PMtJaBAAAATEGbKEmoQWyZTAiPR3n6wgo7H/sR2p4rjN4vTYOEyx/0f1KAAmQwAAKcUnPnR4Gbhi5gcrWcFvWwKBeZ13G3tC0B9KtKgnHi7mdEI4AAAAASQZ9GRRUsIf+17VWjoNQo8mf5AAAA5AGfZXRCn8uoVIsFYoEmtQ21vDpkrBA2/K8MudgSowpM3bD75EZh/5iU3kH3acJUzkp+5Zr2WGvjOEviw4BSq4E4Ohy6JJgjrWgOszsb1XAmVUolxREMAIktG7YNNdY3uRrRD2zHiSbrDKLBX2ORWDOdcJxf+FxYzE2zEytz9KcoZ98LvYk62QugI4yYJ7MIFgCJlWoy9I6f/NsPeC/aJG/Fp9k/+3qMR8rG30gtogDtocHV/gbpjkYv3K/Ign2YbcU+mc60CDUezfUnDNtUhZbCgV8KJQS0/ia3T6KS5zb8luSjgAAAAAwBn2dqQp99Wv6epDkAAAAOQZtsSahBbJlMCM8ADVkAAAAPQZ+KRRUsIf9wi4XHyuKgAAAADAGfqXRCn3sWpJxbMAAAAAwBn6tqQp99Wv6epDkAAAAPQZuvSahBbJlMCFP/AEHAAAAAD0GfzUUVLCX/eFj+ZOQswQAAAAwBn+5qQp99Wv6epDgAAB2obW9vdgAAAGxtdmhkAAAAAAAAAAAAAAAAAAAD6AAAT7AAAQAAAQAAAAAAAAAAAAAAAAEAAAAAAAAAAAAAAAAAAAABAAAAAAAAAAAAAAAAAABAAAAAAAAAAAAAAAAAAAAAAAAAAAAAAAAAAAAAAAAAAgAAHNN0cmFrAAAAXHRraGQAAAADAAAAAAAAAAAAAAABAAAAAAAAT7AAAAAAAAAAAAAAAAAAAAAAAAEAAAAAAAAAAAAAAAAAAAABAAAAAAAAAAAAAAAAAABAAAAAAKAAAADgAAAAAAAkZWR0cwAAABxlbHN0AAAAAAAAAAEAAE+wAAAEAAABAAAAABxLbWRpYQAAACBtZGhkAAAAAAAAAAAAAAAAAAA8AAAEyABVxAAAAAAALWhkbHIAAAAAAAAAAHZpZGUAAAAAAAAAAAAAAABWaWRlb0hhbmRsZXIAAAAb9m1pbmYAAAAUdm1oZAAAAAEAAAAAAAAAAAAAACRkaW5mAAAAHGRyZWYAAAAAAAAAAQAAAAx1cmwgAAAAAQAAG7ZzdGJsAAAArnN0c2QAAAAAAAAAAQAAAJ5hdmMxAAAAAAAAAAEAAAAAAAAAAAAAAAAAAAAAAKAA4ABIAAAASAAAAAAAAAABFExhdmM2MS4zLjEwMCBsaWJ4MjY0AAAAAAAAAAAAAAAAGP//AAAANGF2Y0MBZAAM/+EAF2dkAAys2UKHaEAAAAMAQAAADwPFCmWAAQAGaOvjyyLA/fj4AAAAABRidHJ0AAAAAAAAa7wAAGu8AAAAGHN0dHMAAAAAAAAAAQAAAmQAAAIAAAAAHHN0c3MAAAAAAAAAAwAAAAEAAAD7AAAB9QAAEPhjdHRzAAAAAAAAAh0AAAABAAAEAAAAAAEAAAoAAAAAAQAABAAAAAABAAAAAAAAAAEAAAIAAAAAAQAACgAAAAABAAAEAAAAAAEAAAAAAAAAAQAAAgAAAAABAAAKAAAAAAEAAAQAAAAAAQAAAAAAAAABAAACAAAAAAEAAAoAAAAAAQAABAAAAAABAAAAAAAAAAEAAAIAAAAAAQAACgAAAAABAAAEAAAAAAEAAAAAAAAAAQAAAgAAAAABAAAKAAAAAAEAAAQAAAAAAQAAAAAAAAABAAACAAAAAAEAAAoAAAAAAQAABAAAAAABAAAAAAAAAAEAAAIAAAAAAQAACgAAAAABAAAEAAAAAAEAAAAAAAAAAQAAAgAAAAABAAAKAAAAAAEAAAQAAAAAAQAAAAAAAAABAAACAAAAAAEAAAoAAAAAAQAABAAAAAABAAAAAAAAAAEAAAIAAAAAAQAACgAAAAABAAAEAAAAAAEAAAAAAAAAAQAAAgAAAAABAAAKAAAAAAEAAAQAAAAAAQAAAAAAAAABAAACAAAAAAEAAAoAAAAAAQAABAAAAAABAAAAAAAAAAEAAAIAAAAAAQAACgAAAAABAAAEAAAAAAEAAAAAAAAAAQAAAgAAAAABAAAKAAAAAAEAAAQAAAAAAQAAAAAAAAABAAACAAAAAAEAAAoAAAAAAQAABAAAAAABAAAAAAAAAAEAAAIAAAAAAQAACgAAAAABAAAEAAAAAAEAAAAAAAAAAQAAAgAAAAABAAAKAAAAAAEAAAQAAAAAAQAAAAAAAAABAAACAAAAAAEAAAYAAAAAAQAAAgAAAAABAAAGAAAAAAEAAAIAAAAAAQAABAAAAAABAAAGAAAAAAEAAAIAAAAAAgAABAAAAAABAAAGAAAAAAEAAAIAAAAAAgAABAAAAAABAAAGAAAAAAEAAAIAAAAAAgAABAAAAAABAAAIAAAAAAIAAAIAAAAABQAABAAAAAABAAAKAAAAAAEAAAQAAAAAAQAAAAAAAAABAAACAAAAAAEAAAoAAAAAAQAABAAAAAABAAAAAAAAAAEAAAIAAAAAAQAACgAAAAABAAAEAAAAAAEAAAAAAAAAAQAAAgAAAAABAAAKAAAAAAEAAAQAAAAAAQAAAAAAAAABAAACAAAAAAEAAAoAAAAAAQAABAAAAAABAAAAAAAAAAEAAAIAAAAAAQAACgAAAAABAAAEAAAAAAEAAAAAAAAAAQAAAgAAAAACAAAEAAAAAAEAAAYAAAAAAQAAAgAAAAACAAAEAAAAAAEAAAoAAAAAAQAABAAAAAABAAAAAAAAAAEAAAIAAAAAAQAACgAAAAABAAAEAAAAAAEAAAAAAAAAAQAAAgAAAAABAAAKAAAAAAEAAAQAAAAAAQAAAAAAAAABAAACAAAAAAEAAAoAAAAAAQAABAAAAAABAAAAAAAAAAEAAAIAAAAAAgAABAAAAAABAAAKAAAAAAEAAAQAAAAAAQAAAAAAAAABAAACAAAAAAgAAAQAAAAAAQAACgAAAAABAAAEAAAAAAEAAAAAAAAAAQAAAgAAAAABAAAKAAAAAAEAAAQAAAAAAQAAAAAAAAABAAACAAAAAAEAAAoAAAAAAQAABAAAAAABAAAAAAAAAAEAAAIAAAAAAQAACgAAAAABAAAEAAAAAAEAAAAAAAAAAQAAAgAAAAABAAAKAAAAAAEAAAQAAAAAAQAAAAAAAAABAAACAAAAAAEAAAoAAAAAAQAABAAAAAABAAAAAAAAAAEAAAIAAAAAAQAABgAAAAABAAACAAAAAAEAAAoAAAAAAQAABAAAAAABAAAAAAAAAAEAAAIAAAAAAQAACgAAAAABAAAEAAAAAAEAAAAAAAAAAQAAAgAAAAABAAAKAAAAAAEAAAQAAAAAAQAAAAAAAAABAAACAAAAAAEAAAQAAAAAAQAABgAAAAABAAACAAAAAAIAAAQAAAAAAQAABgAAAAABAAACAAAAAAIAAAQAAAAAAQAABgAAAAABAAACAAAAAAIAAAQAAAAAAQAABgAAAAABAAACAAAAAAEAAAoAAAAAAQAABAAAAAABAAAAAAAAAAEAAAIAAAAAAgAABAAAAAABAAAGAAAAAAEAAAIAAAAABgAABAAAAAABAAAGAAAAAAEAAAIAAAAAAQAACAAAAAACAAACAAAAAAEAAAoAAAAAAQAABAAAAAABAAAAAAAAAAEAAAIAAAAAAQAACgAAAAABAAAEAAAAAAEAAAAAAAAAAQAAAgAAAAABAAAGAAAAAAEAAAIAAAAAAQAACgAAAAABAAAEAAAAAAEAAAAAAAAAAQAAAgAAAAABAAAKAAAAAAEAAAQAAAAAAQAAAAAAAAABAAACAAAAAAEAAAYAAAAAAQAAAgAAAAABAAAEAAAAAAEAAAoAAAAAAQAABAAAAAABAAAAAAAAAAEAAAIAAAAAAQAABgAAAAABAAACAAAAAAEAAAgAAAAAAgAAAgAAAAABAAAIAAAAAAIAAAIAAAAAAQAABgAAAAABAAACAAAAAAIAAAQAAAAAAQAABgAAAAABAAACAAAAAAEAAAQAAAAAAQAABgAAAAABAAACAAAAAAMAAAQAAAAAAQAABgAAAAABAAACAAAAAAEAAAgAAAAAAgAAAgAAAAABAAAKAAAAAAEAAAQAAAAAAQAAAAAAAAABAAACAAAAAAEAAAoAAAAAAQAABAAAAAABAAAAAAAAAAEAAAIAAAAAAQAACgAAAAABAAAEAAAAAAEAAAAAAAAAAQAAAgAAAAABAAAGAAAAAAEAAAIAAAAAAQAACgAAAAABAAAEAAAAAAEAAAAAAAAAAQAAAgAAAAABAAAKAAAAAAEAAAQAAAAAAQAAAAAAAAABAAACAAAAAAEAAAYAAAAAAQAAAgAAAAAHAAAEAAAAAAEAAAYAAAAAAQAAAgAAAAAFAAAEAAAAAAEAAAoAAAAAAQAABAAAAAABAAAAAAAAAAEAAAIAAAAAAQAACgAAAAABAAAEAAAAAAEAAAAAAAAAAQAAAgAAAAABAAAKAAAAAAEAAAQAAAAAAQAAAAAAAAABAAACAAAAAAEAAAoAAAAAAQAABAAAAAABAAAAAAAAAAEAAAIAAAAAAQAACgAAAAABAAAEAAAAAAEAAAAAAAAAAQAAAgAAAAABAAAGAAAAAAEAAAIAAAAAAQAACAAAAAACAAACAAAAAAEAAAoAAAAAAQAABAAAAAABAAAAAAAAAAEAAAIAAAAAAQAACAAAAAACAAACAAAAAAEAAAoAAAAAAQAABAAAAAABAAAAAAAAAAEAAAIAAAAAAQAACgAAAAABAAAEAAAAAAEAAAAAAAAAAQAAAgAAAAABAAAKAAAAAAEAAAQAAAAAAQAAAAAAAAABAAACAAAAAAEAAAoAAAAAAQAABAAAAAABAAAAAAAAAAEAAAIAAAAAAgAABAAAAAABAAAGAAAAAAEAAAIAAAAAAQAABgAAAAABAAACAAAAAAEAAAYAAAAAAQAAAgAAAAABAAAGAAAAAAEAAAIAAAAAAQAABgAAAAABAAACAAAAAAEAAAYAAAAAAQAAAgAAAAABAAAGAAAAAAEAAAIAAAAABAAABAAAAAABAAAKAAAAAAEAAAQAAAAAAQAAAAAAAAABAAACAAAAAAcAAAQAAAAAAQAACAAAAAACAAACAAAAAAEAAAoAAAAAAQAABAAAAAABAAAAAAAAAAEAAAIAAAAAAQAABgAAAAABAAACAAAAAAEAAAoAAAAAAQAABAAAAAABAAAAAAAAAAEAAAIAAAAAAQAACgAAAAABAAAEAAAAAAEAAAAAAAAAAQAAAgAAAAABAAAGAAAAAAEAAAIAAAAAAQAACgAAAAABAAAEAAAAAAEAAAAAAAAAAQAAAgAAAAABAAAKAAAAAAEAAAQAAAAAAQAAAAAAAAABAAACAAAAAAEAAAgAAAAAAgAAAgAAAAABAAAKAAAAAAEAAAQAAAAAAQAAAAAAAAABAAACAAAAAAEAAAoAAAAAAQAABAAAAAABAAAAAAAAAAEAAAIAAAAAAQAACgAAAAABAAAEAAAAAAEAAAAAAAAAAQAAAgAAAAABAAAKAAAAAAEAAAQAAAAAAQAAAAAAAAABAAACAAAAAAEAAAoAAAAAAQAABAAAAAABAAAAAAAAAAEAAAIAAAAAAQAACgAAAAABAAAEAAAAAAEAAAAAAAAAAQAAAgAAAAABAAAEAAAAAAEAAAoAAAAAAQAABAAAAAABAAAAAAAAAAEAAAIAAAAAAQAACgAAAAABAAAEAAAAAAEAAAAAAAAAAQAAAgAAAAABAAAGAAAAAAEAAAIAAAAAAQAABgAAAAABAAACAAAAAAEAAAYAAAAAAQAAAgAAAAABAAAKAAAAAAEAAAQAAAAAAQAAAAAAAAABAAACAAAAAAEAAAoAAAAAAQAABAAAAAABAAAAAAAAAAEAAAIAAAAAAQAABgAAAAABAAACAAAAAAEAAAYAAAAAAQAAAgAAAAABAAAEAAAAAAEAAAYAAAAAAQAAAgAAAAABAAAKAAAAAAEAAAQAAAAAAQAAAAAAAAABAAACAAAAAAEAAAoAAAAAAQAABAAAAAABAAAAAAAAAAEAAAIAAAAAAQAACgAAAAABAAAEAAAAAAEAAAAAAAAAAQAAAgAAAAABAAAKAAAAAAEAAAQAAAAAAQAAAAAAAAABAAACAAAAAAUAAAQAAAAAAQAABgAAAAABAAACAAAAAAEAAAYAAAAAAQAAAgAAAAABAAAGAAAAAAEAAAIAAAAAAQAABgAAAAABAAACAAAAAAEAAAYAAAAAAQAAAgAAAAABAAAIAAAAAAIAAAIAAAAAAQAABgAAAAABAAACAAAAAAUAAAQAAAAAAQAACgAAAAABAAAEAAAAAAEAAAAAAAAAAQAAAgAAAAAEAAAEAAAAAAEAAAYAAAAAAQAAAgAAAAABAAAEAAAAAAEAAAoAAAAAAQAABAAAAAABAAAAAAAAAAEAAAIAAAAAAQAACgAAAAABAAAEAAAAAAEAAAAAAAAAAQAAAgAAAAABAAAKAAAAAAEAAAQAAAAAAQAAAAAAAAABAAACAAAAAAEAAAoAAAAAAQAABAAAAAABAAAAAAAAAAEAAAIAAAAAAQAACgAAAAABAAAEAAAAAAEAAAAAAAAAAQAAAgAAAAABAAAKAAAAAAEAAAQAAAAAAQAAAAAAAAABAAACAAAAAAEAAAoAAAAAAQAABAAAAAABAAAAAAAAAAEAAAIAAAAAAQAACgAAAAABAAAEAAAAAAEAAAAAAAAAAQAAAgAAAAABAAAKAAAAAAEAAAQAAAAAAQAAAAAAAAABAAACAAAAAAEAAAoAAAAAAQAABAAAAAABAAAAAAAAAAEAAAIAAAAAAQAACgAAAAABAAAEAAAAAAEAAAAAAAAAAQAAAgAAAAABAAAKAAAAAAEAAAQAAAAAAQAAAAAAAAABAAACAAAAAAEAAAoAAAAAAQAABAAAAAABAAAAAAAAAAEAAAIAAAAAAQAACgAAAAABAAAEAAAAAAEAAAAAAAAAAQAAAgAAAAABAAAKAAAAAAEAAAQAAAAAAQAAAAAAAAABAAACAAAAAAEAAAoAAAAAAQAABAAAAAABAAAAAAAAAAEAAAIAAAAAAQAACgAAAAABAAAEAAAAAAEAAAAAAAAAAQAAAgAAAAABAAAKAAAAAAEAAAQAAAAAAQAAAAAAAAABAAACAAAAAAEAAAoAAAAAAQAABAAAAAABAAAAAAAAAAEAAAIAAAAAAQAACAAAAAACAAACAAAAABxzdHNjAAAAAAAAAAEAAAABAAACZAAAAAEAAAmkc3RzegAAAAAAAAAAAAACZAAADW4AAAAlAAAAEAAAAAwAAAAMAAAAEwAAAA4AAAAMAAAADAAAABMAAAAOAAAADAAAAAwAAAATAAAADgAAAAwAAAAMAAAAEwAAAA4AAAAMAAAADAAAABMAAAAOAAAADAAAAAwAAAATAAAADgAAAAwAAAAMAAAAEwAAAA4AAAAMAAAADAAAABMAAAAOAAAADAAAAAwAAAATAAAADgAAAAwAAAAMAAAAEwAAAA4AAAAMAAAADAAAABMAAAAOAAAADAAAAAwAAAATAAAADgAAAAwAAAAMAAAAEwAAAA4AAAAMAAAADAAAABMAAAAOAAAADAAAAAwAAAATAAAADgAAAAwAAAAMAAAAHAAAABAAAAAMAAAADAAAAIQAAAARAAAADAAAADcAAADlAAAAVQAAAIYAAAATAAAAMQAAACQAAAATAAAAGgAAABsAAAAjAAAAEwAAAB4AAAAlAAAAIAAAABQAAAArAAAAMgAAAiEAAAAaAAAAVwAAAS0AAADqAAAAcgAAAO4AAACAAAAAgwAAAC8AAAArAAAAIwAAARkAAACuAAAAJwAAAC8AAABXAAAAMgAAADoAAAA5AAABUAAAAHgAAAA2AAAAIAAAAC0AAAAxAAAAJwAAAC8AAAEaAAAANAAAADUAAAA1AAAAhQAAAPcAAADkAAAASwAAAOsAAACLAAABaQAAADgAAABHAAAAJQAAAPwAAAA9AAAAHwAAAGcAAAC8AAAAewAAAC4AAAAwAAABdgAAAJgAAAB+AAAAJwAAATIAAACYAAAA/wAAAMgAAABEAAAATgAAANMAAAGMAAAAxgAAAIwAAACCAAAAbQAAARwAAAB9AAAB9AAAADEAAABOAAAAKAAAADkAAAAyAAAAJQAAACcAAACSAAAAJAAAADcAAAAxAAAAkQAAADYAAAAyAAAAKAAAARsAAAA1AAAAKgAAAM8AAACFAAAARwAAAD0AAAAxAAAAbQAAACsAAAASAAAAEQAAAAwAAAAMAAAAGwAAABIAAAAOAAAADgAAAkYAAABXAAAAGgAAABIAAAB/AAAAKAAAABYAAAAZAAAAGgAAACEAAAAWAAAAGwAAAB4AAAAfAAAAFgAAABsAAAAYAAAAJgAAABUAAAIPAAAAhwAAABcAAABkAAAAqAAAALgAAACVAAAAZQAAAG4AAADhAAABfQAAAKYAAABxAAAA0wAAAJMAAABLAAABKAAAADkAAAA2AAAAqwAAADgAAAAwAAAAJAAAAGsAAAA9AAAAIgAAACcAAABHAAAALQAAAXUAAAA9AAAAOAAAANQAAAE9AAAAgAAAACMAAAAoAAAA/QAAADYAAA9aAAAA5QAAACwAAAAtAAAAIwAAAF4AAAA3AAAAOwAAACwAAAA4AAABDwAAAMQAAAA1AAAA4AAAADIAAABNAAAAtgAAAVoAAABQAAAAeAAAAHEAAAA4AAAAywAAASkAAAEVAAAB3wAAAFAAAAB7AAAAKwAAADYAAADDAAAAOQAAAC4AAAAsAAAAWAAAAFoAAAArAAAAMwAAAXYAAABHAAAAOQAAADsAAAEGAAAAPgAAAGoAAACRAAAAuAAAACYAAAA9AAAAHwAAACkAAAApAAAAxgAAADQAAADRAAAAaQAAAKoAAACIAAAAgQAAAEIAAAChAAABYwAAAQwAAABsAAAAYgAAAFYAAADCAAAATAAAAQ4AAAAsAAAATAAAACcAAABrAAAANAAAADIAAAApAAABdgAAALYAAADTAAAARAAAAZoAAAA1AAAA7wAAACcAAACBAAAARwAAABoAAAAnAAAAVwAAADMAAAE5AAAARwAAAC4AAAEKAAAA3QAAADYAAABhAAABNAAAAC0AAAB1AAAA8gAAADUAAAAyAAAAEwAAAB8AAAATAAAADwAAAA4AAAATAAAAEAAAAA4AAAAOAAACEQAAANUAAAAbAAAAFAAAAI0AAAAbAAAALAAAABMAAAAfAAAAEgAAACIAAAATAAAAHQAAABIAAAAeAAAAEgAAAEcAAAASAAABgwAAABoAAADkAAAAgAAAAOsAAAA1AAABFgAAANMAAABrAAAANwAAAOcAAABsAAAA8AAAAD4AAACTAAAAkwAAAMEAAADyAAAAPAAAACIAAAC+AAAAqAAAADAAAAAbAAAAZQAAADYAAADAAAAAQAAAACMAAACMAAABewAAAFsAAAAwAAAAogAAAHQAAAA6AAAAhAAAAEMAAAArAAAAJwAAAFQAAAApAAAALQAAABgAAAGQAAAAwAAAAB8AAADkAAAAJwAAADQAAAAtAAAAsQAAADsAAAAoAAAAGwAAASYAAAA2AAAAIQAAADEAAACPAAAAowAAADIAAAAnAAAAQgAAADMAAAAbAAAAJQAAAVkAAAAyAAAAJwAAADEAAACoAAAAdwAAAH0AAABKAAAAXwAAAXsAAABEAAAAZAAAACMAAAArAAAAJwAAAHkAAAAUAAAAdQAAADAAAABqAAAAPgAAACMAAAAfAAABQgAAACcAAAAtAAAAGgAAAToAAAA/AAAAngAAAC8AAABVAAAAfgAAADIAAADYAAAAMAAAACgAAAAgAAAAEwAAAA4AAAAMAAAADAAAABMAAAAOAAAADAAAAAwAAAI5AAAATgAAABYAAABfAAAAKQAAAFsAAAAgAAANNgAAABQAAACBAAAAEgAAABsAAAAUAAAAHwAAABIAAAAcAAAAEgAAADgAAAATAAACAwAAABwAAACYAAABNwAAAGwAAACaAAAA6wAAAHYAAADHAAAA1QAAASUAAABxAAAANgAAADUAAADmAAABXgAAAQ0AAADXAAAAaQAAAEUAAAB+AAAB/QAAAGIAAABZAAAAJAAAASsAAAC5AAAANwAAADsAAAE6AAAANAAAADQAAAAmAAAAPAAAALAAAAC+AAAAKAAAAVoAAABdAAAALQAAAC4AAABnAAAASAAAACkAAAAmAAAAbQAAADIAAAAnAAAALwAAAHUAAAA0AAAAMAAAACYAAAG5AAAAPAAAABsAAAAjAAAAVgAAAKMAAACSAAAALAAAAKcAAAAxAAAAJgAAABgAAAAxAAAAMQAAAB8AAAAsAAAAgwAAAC4AAAAqAAAAIQAAADgAAAA1AAAAGgAAAB8AAACHAAAAKAAAAC0AAAAqAAAAiQAAALcAAAC8AAAAHQAAAKIAAAA5AAAAHwAAADEAAABQAAAAFgAAAOgAAAAQAAAAEgAAABMAAAAQAAAAEAAAABMAAAATAAAAEAAAABRzdGNvAAAAAAAAAAEAAAAwAAAAYXVkdGEAAABZbWV0YQAAAAAAAAAhaGRscgAAAAAAAAAAbWRpcmFwcGwAAAAAAAAAAAAAAAAsaWxzdAAAACSpdG9vAAAAHGRhdGEAAAABAAAAAExhdmY2MS4xLjEwMA==\" type=\"video/mp4\" />\n",
              "             </video>"
            ]
          },
          "metadata": {}
        }
      ]
    }
  ],
  "metadata": {
    "colab": {
      "provenance": [],
      "gpuType": "T4",
      "include_colab_link": true
    },
    "kernelspec": {
      "display_name": "Python 3",
      "name": "python3"
    },
    "language_info": {
      "name": "python"
    },
    "accelerator": "GPU"
  },
  "nbformat": 4,
  "nbformat_minor": 0
}