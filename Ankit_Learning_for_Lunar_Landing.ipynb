{
  "cells": [
    {
      "cell_type": "markdown",
      "metadata": {
        "id": "view-in-github",
        "colab_type": "text"
      },
      "source": [
        "<a href=\"https://colab.research.google.com/github/AnkitGupta1204/Artificial-Intelligence-Projects/blob/main/Ankit_Learning_for_Lunar_Landing.ipynb\" target=\"_parent\"><img src=\"https://colab.research.google.com/assets/colab-badge.svg\" alt=\"Open In Colab\"/></a>"
      ]
    },
    {
      "cell_type": "markdown",
      "metadata": {
        "id": "LbZcI9ZXHl3a"
      },
      "source": [
        "# Deep Q-Learning for Lunar Landing"
      ]
    },
    {
      "cell_type": "markdown",
      "metadata": {
        "id": "E8yPRjteXgPb"
      },
      "source": [
        "## Part 0 - Installing the required packages and importing the libraries"
      ]
    },
    {
      "cell_type": "markdown",
      "metadata": {
        "id": "slEm5teGWjWU"
      },
      "source": [
        "### Installing Gymnasium"
      ]
    },
    {
      "cell_type": "code",
      "execution_count": null,
      "metadata": {
        "id": "dbnq3XpoKa_7",
        "colab": {
          "base_uri": "https://localhost:8080/"
        },
        "outputId": "108a07c6-5bb7-4da7-8523-4d522ec574ca"
      },
      "outputs": [
        {
          "output_type": "stream",
          "name": "stdout",
          "text": [
            "Requirement already satisfied: gymnasium in /usr/local/lib/python3.11/dist-packages (1.0.0)\n",
            "Requirement already satisfied: numpy>=1.21.0 in /usr/local/lib/python3.11/dist-packages (from gymnasium) (1.26.4)\n",
            "Requirement already satisfied: cloudpickle>=1.2.0 in /usr/local/lib/python3.11/dist-packages (from gymnasium) (3.1.1)\n",
            "Requirement already satisfied: typing-extensions>=4.3.0 in /usr/local/lib/python3.11/dist-packages (from gymnasium) (4.12.2)\n",
            "Requirement already satisfied: farama-notifications>=0.0.1 in /usr/local/lib/python3.11/dist-packages (from gymnasium) (0.0.4)\n",
            "Requirement already satisfied: gymnasium[accept-rom-license,atari] in /usr/local/lib/python3.11/dist-packages (1.0.0)\n",
            "\u001b[33mWARNING: gymnasium 1.0.0 does not provide the extra 'accept-rom-license'\u001b[0m\u001b[33m\n",
            "\u001b[0mRequirement already satisfied: numpy>=1.21.0 in /usr/local/lib/python3.11/dist-packages (from gymnasium[accept-rom-license,atari]) (1.26.4)\n",
            "Requirement already satisfied: cloudpickle>=1.2.0 in /usr/local/lib/python3.11/dist-packages (from gymnasium[accept-rom-license,atari]) (3.1.1)\n",
            "Requirement already satisfied: typing-extensions>=4.3.0 in /usr/local/lib/python3.11/dist-packages (from gymnasium[accept-rom-license,atari]) (4.12.2)\n",
            "Requirement already satisfied: farama-notifications>=0.0.1 in /usr/local/lib/python3.11/dist-packages (from gymnasium[accept-rom-license,atari]) (0.0.4)\n",
            "Requirement already satisfied: ale-py>=0.9 in /usr/local/lib/python3.11/dist-packages (from gymnasium[accept-rom-license,atari]) (0.10.2)\n",
            "Reading package lists... Done\n",
            "Building dependency tree... Done\n",
            "Reading state information... Done\n",
            "swig is already the newest version (4.0.2-1ubuntu1).\n",
            "0 upgraded, 0 newly installed, 0 to remove and 22 not upgraded.\n",
            "Requirement already satisfied: gymnasium[box2d] in /usr/local/lib/python3.11/dist-packages (1.0.0)\n",
            "Requirement already satisfied: numpy>=1.21.0 in /usr/local/lib/python3.11/dist-packages (from gymnasium[box2d]) (1.26.4)\n",
            "Requirement already satisfied: cloudpickle>=1.2.0 in /usr/local/lib/python3.11/dist-packages (from gymnasium[box2d]) (3.1.1)\n",
            "Requirement already satisfied: typing-extensions>=4.3.0 in /usr/local/lib/python3.11/dist-packages (from gymnasium[box2d]) (4.12.2)\n",
            "Requirement already satisfied: farama-notifications>=0.0.1 in /usr/local/lib/python3.11/dist-packages (from gymnasium[box2d]) (0.0.4)\n",
            "Requirement already satisfied: box2d-py==2.3.5 in /usr/local/lib/python3.11/dist-packages (from gymnasium[box2d]) (2.3.5)\n",
            "Requirement already satisfied: pygame>=2.1.3 in /usr/local/lib/python3.11/dist-packages (from gymnasium[box2d]) (2.6.1)\n",
            "Requirement already satisfied: swig==4.* in /usr/local/lib/python3.11/dist-packages (from gymnasium[box2d]) (4.3.0)\n"
          ]
        }
      ],
      "source": [
        "!pip install gymnasium\n",
        "!pip install \"gymnasium[atari, accept-rom-license]\"\n",
        "!apt-get install -y swig\n",
        "!pip install gymnasium[box2d]"
      ]
    },
    {
      "cell_type": "markdown",
      "metadata": {
        "id": "brqiMN3UW9T9"
      },
      "source": [
        "### Importing the libraries"
      ]
    },
    {
      "cell_type": "code",
      "execution_count": null,
      "metadata": {
        "id": "mZaKXP_aMl9O"
      },
      "outputs": [],
      "source": [
        "import os\n",
        "import random\n",
        "import numpy as np\n",
        "import torch\n",
        "import torch.nn as nn\n",
        "import torch.optim as optim\n",
        "import torch.nn.functional as F\n",
        "import torch.autograd as autograd\n",
        "from torch.autograd import Variable\n",
        "from collections import deque, namedtuple"
      ]
    },
    {
      "cell_type": "markdown",
      "metadata": {
        "id": "EzlDKXvkXzGI"
      },
      "source": [
        "## Part 1 - Building the AI"
      ]
    },
    {
      "cell_type": "code",
      "source": [
        "class Network(nn.Module):\n",
        "\n",
        "  def __init__(self, state_size, action_size, seed = 42):\n",
        "    super(Network, self).__init__()\n",
        "    self.seed = torch.manual_seed(seed)\n",
        "    self.fc1 = nn.Linear(state_size, 64)\n",
        "    self.fc2 = nn.Linear(64, 64)\n",
        "    self.fc3 = nn.Linear(64, action_size)\n",
        "\n",
        "  def forward(self, state):\n",
        "    x = self.fc1(state)\n",
        "    x = F.relu(x)\n",
        "    x = self.fc2(x)\n",
        "    x = F.relu(x)\n",
        "    return self.fc3(x)\n",
        "\n"
      ],
      "metadata": {
        "id": "KR7M5yN42QoE"
      },
      "execution_count": null,
      "outputs": []
    },
    {
      "cell_type": "markdown",
      "metadata": {
        "id": "UtG6Zc83YYy3"
      },
      "source": [
        "Creating the architecture of the Neural **Network**"
      ]
    },
    {
      "cell_type": "markdown",
      "metadata": {
        "id": "UxVrBnFWZKb1"
      },
      "source": [
        "## Part 2 - Training the AI"
      ]
    },
    {
      "cell_type": "markdown",
      "source": [],
      "metadata": {
        "id": "oFjHIql6k2EA"
      }
    },
    {
      "cell_type": "markdown",
      "metadata": {
        "id": "T364fz9qZb2j"
      },
      "source": [
        "### Setting up the environment"
      ]
    },
    {
      "cell_type": "code",
      "source": [
        "import gymnasium as gym\n",
        "env = gym.make('LunarLander-v3') # The Lunar Lander environment was upgraded to v3\n",
        "state_shape = env.observation_space.shape\n",
        "state_size = env.observation_space.shape[0]\n",
        "number_actions = env.action_space.n\n",
        "print('State shape: ', state_shape)\n",
        "print('State size: ', state_size)\n",
        "print('Number of actions: ', number_actions)"
      ],
      "metadata": {
        "id": "41sgnpCwtd5f",
        "colab": {
          "base_uri": "https://localhost:8080/"
        },
        "outputId": "b172d3d4-27d0-44ce-b6d5-daaaa0e15d56"
      },
      "execution_count": null,
      "outputs": [
        {
          "output_type": "stream",
          "name": "stdout",
          "text": [
            "State shape:  (8,)\n",
            "State size:  8\n",
            "Number of actions:  4\n"
          ]
        }
      ]
    },
    {
      "cell_type": "markdown",
      "metadata": {
        "id": "c_dZmOIvZgj-"
      },
      "source": [
        " Initializing the hyperparameters"
      ]
    },
    {
      "cell_type": "code",
      "source": [
        "learning_rate = 5e-4\n",
        "minibatch_size = 100\n",
        "discount_factor = 0.99\n",
        "replay_buffer_size = int(1e5)\n",
        "interpolation_parameter = 1e-3\n",
        "\n"
      ],
      "metadata": {
        "id": "L_Rg-2sGlHci"
      },
      "execution_count": null,
      "outputs": []
    },
    {
      "cell_type": "markdown",
      "metadata": {
        "id": "8hD_Vs-bYnip"
      },
      "source": [
        "### Implementing Experience Replay"
      ]
    },
    {
      "cell_type": "code",
      "source": [
        "class ReplayMemory(object):\n",
        "  def __init__(self, capacity):\n",
        "    self.device = torch.device(\"cuda:0\" if torch.cuda.is_available() else \"cpu\" )\n",
        "    self.capacity = capacity\n",
        "    self.memory = []\n",
        "\n",
        "  def push(self, event):\n",
        "    self.memory.append(event)\n",
        "    if len(self.memory) > self.capacity:\n",
        "      del self.memory[0]\n",
        "\n",
        "  def sample(self, batch_size):\n",
        "    experiences= random.sample(self.memory, k= batch_size)\n",
        "    states=torch.from_numpy(np.vstack([e[0] for e in experiences if e is not None])).float().to(self.device)\n",
        "    actions=torch.from_numpy(np.vstack([e[1] for e in experiences if e is not None])).long().to(self.device)\n",
        "    rewards=torch.from_numpy(np.vstack([e[2] for e in experiences if e is not None])).float().to(self.device)\n",
        "    next_states=torch.from_numpy(np.vstack([e[3] for e in experiences if e is not None])).float().to(self.device)\n",
        "    dones=torch.from_numpy(np.vstack([e[4] for e in experiences if e is not None])).astype(np.uint8).float().to(self.device)\n",
        "    return states,next_states,actions,rewards,dones\n"
      ],
      "metadata": {
        "id": "99SNR4tkk6Oq"
      },
      "execution_count": null,
      "outputs": []
    },
    {
      "cell_type": "markdown",
      "metadata": {
        "id": "JmEkbFbUY6Jt"
      },
      "source": [
        "### Implementing the DQN class"
      ]
    },
    {
      "cell_type": "code",
      "source": [],
      "metadata": {
        "id": "Q66HOdoJPzMX"
      },
      "execution_count": null,
      "outputs": []
    },
    {
      "cell_type": "code",
      "source": [
        "class Agent():\n",
        "\n",
        "  def __init__(self, state_size, action_size):\n",
        "    self.device = torch.device(\"cuda:0\" if torch.cuda.is_available() else \"cpu\")\n",
        "    self.state_size = state_size\n",
        "    self.action_size = action_size\n",
        "    self.local_qnetwork = Network(state_size, action_size).to(self.device)\n",
        "    self.target_qnetwork = Network(state_size, action_size).to(self.device)\n",
        "    self.optimizer = optim.Adam(self.local_qnetwork.parameters(), lr = learning_rate)\n",
        "    self.memory = ReplayMemory(replay_buffer_size)\n",
        "    self.t_step = 0\n",
        "\n",
        "  def step(self, state, action, reward, next_state, done):\n",
        "    self.memory.push((state, action, reward, next_state, done))\n",
        "    self.t_step = (self.t_step + 1) % 4\n",
        "    if self.t_step == 0:\n",
        "      if len(self.memory.memory) > minibatch_size:\n",
        "        experiences = self.memory.sample(100)\n",
        "        self.learn(experiences, discount_factor)\n",
        "\n",
        "  def act(self, state, epsilon = 0.):\n",
        "    state = torch.from_numpy(state).float().unsqueeze(0).to(self.device)\n",
        "    self.local_qnetwork.eval()\n",
        "    with torch.no_grad():\n",
        "      action_values = self.local_qnetwork(state)\n",
        "    self.local_qnetwork.train()\n",
        "    if random.random() > epsilon:\n",
        "      return np.argmax(action_values.cpu().data.numpy())\n",
        "    else:\n",
        "      return random.choice(np.arange(self.action_size))\n",
        "\n",
        "  def learn(self, experiences, discount_factor):\n",
        "    states, next_states, actions, rewards, dones = experiences\n",
        "    next_q_targets = self.target_qnetwork(next_states).detach().max(1)[0].unsqueeze(1)\n",
        "    q_targets = rewards + discount_factor * next_q_targets * (1 - dones)\n",
        "    q_expected = self.local_qnetwork(states).gather(1, actions)\n",
        "    loss = F.mse_loss(q_expected, q_targets)\n",
        "    self.optimizer.zero_grad()\n",
        "    loss.backward()\n",
        "    self.optimizer.step()\n",
        "    self.soft_update(self.local_qnetwork, self.target_qnetwork, interpolation_parameter)\n",
        "\n",
        "  def soft_update(self, local_model, target_model, interpolation_parameter):\n",
        "    for target_param, local_param in zip(target_model.parameters(), local_model.parameters()):\n",
        "      target_param.data.copy_(interpolation_parameter * local_param.data + (1.0 - interpolation_parameter) * target_param.data)"
      ],
      "metadata": {
        "id": "tFLYHCxnLqJA"
      },
      "execution_count": null,
      "outputs": []
    },
    {
      "cell_type": "markdown",
      "metadata": {
        "id": "o1tZElccZmf6"
      },
      "source": [
        "### Initializing the DQN agent"
      ]
    },
    {
      "cell_type": "code",
      "source": [
        "agent = Agent(state_size, number_actions)"
      ],
      "metadata": {
        "id": "XETqn4-9PuJg"
      },
      "execution_count": null,
      "outputs": []
    },
    {
      "cell_type": "markdown",
      "metadata": {
        "id": "E8v0PtUfaVQp"
      },
      "source": [
        "### Training the DQN agent"
      ]
    },
    {
      "cell_type": "code",
      "source": [
        "number_episodes = 2000\n",
        "maximum_number_timesteps_per_episode = 1000\n",
        "epsilon_starting_value  = 1.0\n",
        "epsilon_ending_value  = 0.01\n",
        "epsilon_decay_value  = 0.995\n",
        "epsilon = epsilon_starting_value\n",
        "scores_on_100_episodes = deque(maxlen = 100)\n",
        "\n",
        "for episode in range(1, number_episodes + 1):\n",
        "  state, _ = env.reset()\n",
        "  score = 0\n",
        "  for t in range(maximum_number_timesteps_per_episode):\n",
        "    action = agent.act(state, epsilon)\n",
        "    next_state, reward, done, _, _ = env.step(action)\n",
        "    agent.step(state, action,reward,next_state,done)\n",
        "    state = next_state\n",
        "    score += reward\n",
        "    if done:\n",
        "      break\n",
        "  scores_on_100_episodes.append(score)\n",
        "  epsilon = max(epsilon_ending_value, epsilon_decay_value * epsilon)\n",
        "  print('\\rEpisode {}\\tAverage Score: {:.2f}'.format(episode, np.mean(scores_on_100_episodes)), end = \"\")\n",
        "  if episode % 100 == 0:\n",
        "    print('\\rEpisode {}\\tAverage Score: {:.2f}'.format(episode, np.mean(scores_on_100_episodes)))\n",
        "  if np.mean(scores_on_100_episodes) >= 200.0:\n",
        "    print('\\nEnvironment solved in {:d} episodes!\\tAverage Score: {:.2f}'.format(episode - 100, np.mean(scores_on_100_episodes)))\n",
        "    torch.save(agent.local_qnetwork.state_dict(), 'checkpoint.pth')\n",
        "    break\n",
        "\n"
      ],
      "metadata": {
        "colab": {
          "base_uri": "https://localhost:8080/",
          "height": 356
        },
        "id": "HOQKc3tZQ9ka",
        "outputId": "4f692a60-6818-4e37-f50a-40a12e0d4979"
      },
      "execution_count": null,
      "outputs": [
        {
          "output_type": "stream",
          "name": "stdout",
          "text": [
            "\rEpisode 1\tAverage Score: -2.92"
          ]
        },
        {
          "output_type": "error",
          "ename": "AttributeError",
          "evalue": "'Tensor' object has no attribute 'astype'",
          "traceback": [
            "\u001b[0;31m---------------------------------------------------------------------------\u001b[0m",
            "\u001b[0;31mAttributeError\u001b[0m                            Traceback (most recent call last)",
            "\u001b[0;32m<ipython-input-9-02ebf0d9dce4>\u001b[0m in \u001b[0;36m<cell line: 0>\u001b[0;34m()\u001b[0m\n\u001b[1;32m     13\u001b[0m     \u001b[0maction\u001b[0m \u001b[0;34m=\u001b[0m \u001b[0magent\u001b[0m\u001b[0;34m.\u001b[0m\u001b[0mact\u001b[0m\u001b[0;34m(\u001b[0m\u001b[0mstate\u001b[0m\u001b[0;34m,\u001b[0m \u001b[0mepsilon\u001b[0m\u001b[0;34m)\u001b[0m\u001b[0;34m\u001b[0m\u001b[0;34m\u001b[0m\u001b[0m\n\u001b[1;32m     14\u001b[0m     \u001b[0mnext_state\u001b[0m\u001b[0;34m,\u001b[0m \u001b[0mreward\u001b[0m\u001b[0;34m,\u001b[0m \u001b[0mdone\u001b[0m\u001b[0;34m,\u001b[0m \u001b[0m_\u001b[0m\u001b[0;34m,\u001b[0m \u001b[0m_\u001b[0m \u001b[0;34m=\u001b[0m \u001b[0menv\u001b[0m\u001b[0;34m.\u001b[0m\u001b[0mstep\u001b[0m\u001b[0;34m(\u001b[0m\u001b[0maction\u001b[0m\u001b[0;34m)\u001b[0m\u001b[0;34m\u001b[0m\u001b[0;34m\u001b[0m\u001b[0m\n\u001b[0;32m---> 15\u001b[0;31m     \u001b[0magent\u001b[0m\u001b[0;34m.\u001b[0m\u001b[0mstep\u001b[0m\u001b[0;34m(\u001b[0m\u001b[0mstate\u001b[0m\u001b[0;34m,\u001b[0m \u001b[0maction\u001b[0m\u001b[0;34m,\u001b[0m\u001b[0mreward\u001b[0m\u001b[0;34m,\u001b[0m\u001b[0mnext_state\u001b[0m\u001b[0;34m,\u001b[0m\u001b[0mdone\u001b[0m\u001b[0;34m)\u001b[0m\u001b[0;34m\u001b[0m\u001b[0;34m\u001b[0m\u001b[0m\n\u001b[0m\u001b[1;32m     16\u001b[0m     \u001b[0mstate\u001b[0m \u001b[0;34m=\u001b[0m \u001b[0mnext_state\u001b[0m\u001b[0;34m\u001b[0m\u001b[0;34m\u001b[0m\u001b[0m\n\u001b[1;32m     17\u001b[0m     \u001b[0mscore\u001b[0m \u001b[0;34m+=\u001b[0m \u001b[0mreward\u001b[0m\u001b[0;34m\u001b[0m\u001b[0;34m\u001b[0m\u001b[0m\n",
            "\u001b[0;32m<ipython-input-7-5fc70fabdbf0>\u001b[0m in \u001b[0;36mstep\u001b[0;34m(self, state, action, reward, next_state, done)\u001b[0m\n\u001b[1;32m     16\u001b[0m     \u001b[0;32mif\u001b[0m \u001b[0mself\u001b[0m\u001b[0;34m.\u001b[0m\u001b[0mt_step\u001b[0m \u001b[0;34m==\u001b[0m \u001b[0;36m0\u001b[0m\u001b[0;34m:\u001b[0m\u001b[0;34m\u001b[0m\u001b[0;34m\u001b[0m\u001b[0m\n\u001b[1;32m     17\u001b[0m       \u001b[0;32mif\u001b[0m \u001b[0mlen\u001b[0m\u001b[0;34m(\u001b[0m\u001b[0mself\u001b[0m\u001b[0;34m.\u001b[0m\u001b[0mmemory\u001b[0m\u001b[0;34m.\u001b[0m\u001b[0mmemory\u001b[0m\u001b[0;34m)\u001b[0m \u001b[0;34m>\u001b[0m \u001b[0mminibatch_size\u001b[0m\u001b[0;34m:\u001b[0m\u001b[0;34m\u001b[0m\u001b[0;34m\u001b[0m\u001b[0m\n\u001b[0;32m---> 18\u001b[0;31m         \u001b[0mexperiences\u001b[0m \u001b[0;34m=\u001b[0m \u001b[0mself\u001b[0m\u001b[0;34m.\u001b[0m\u001b[0mmemory\u001b[0m\u001b[0;34m.\u001b[0m\u001b[0msample\u001b[0m\u001b[0;34m(\u001b[0m\u001b[0;36m100\u001b[0m\u001b[0;34m)\u001b[0m\u001b[0;34m\u001b[0m\u001b[0;34m\u001b[0m\u001b[0m\n\u001b[0m\u001b[1;32m     19\u001b[0m         \u001b[0mself\u001b[0m\u001b[0;34m.\u001b[0m\u001b[0mlearn\u001b[0m\u001b[0;34m(\u001b[0m\u001b[0mexperiences\u001b[0m\u001b[0;34m,\u001b[0m \u001b[0mdiscount_factor\u001b[0m\u001b[0;34m)\u001b[0m\u001b[0;34m\u001b[0m\u001b[0;34m\u001b[0m\u001b[0m\n\u001b[1;32m     20\u001b[0m \u001b[0;34m\u001b[0m\u001b[0m\n",
            "\u001b[0;32m<ipython-input-6-91dc905b6cd7>\u001b[0m in \u001b[0;36msample\u001b[0;34m(self, batch_size)\u001b[0m\n\u001b[1;32m     16\u001b[0m     \u001b[0mrewards\u001b[0m\u001b[0;34m=\u001b[0m\u001b[0mtorch\u001b[0m\u001b[0;34m.\u001b[0m\u001b[0mfrom_numpy\u001b[0m\u001b[0;34m(\u001b[0m\u001b[0mnp\u001b[0m\u001b[0;34m.\u001b[0m\u001b[0mvstack\u001b[0m\u001b[0;34m(\u001b[0m\u001b[0;34m[\u001b[0m\u001b[0me\u001b[0m\u001b[0;34m[\u001b[0m\u001b[0;36m2\u001b[0m\u001b[0;34m]\u001b[0m \u001b[0;32mfor\u001b[0m \u001b[0me\u001b[0m \u001b[0;32min\u001b[0m \u001b[0mexperiences\u001b[0m \u001b[0;32mif\u001b[0m \u001b[0me\u001b[0m \u001b[0;32mis\u001b[0m \u001b[0;32mnot\u001b[0m \u001b[0;32mNone\u001b[0m\u001b[0;34m]\u001b[0m\u001b[0;34m)\u001b[0m\u001b[0;34m)\u001b[0m\u001b[0;34m.\u001b[0m\u001b[0mfloat\u001b[0m\u001b[0;34m(\u001b[0m\u001b[0;34m)\u001b[0m\u001b[0;34m.\u001b[0m\u001b[0mto\u001b[0m\u001b[0;34m(\u001b[0m\u001b[0mself\u001b[0m\u001b[0;34m.\u001b[0m\u001b[0mdevice\u001b[0m\u001b[0;34m)\u001b[0m\u001b[0;34m\u001b[0m\u001b[0;34m\u001b[0m\u001b[0m\n\u001b[1;32m     17\u001b[0m     \u001b[0mnext_states\u001b[0m\u001b[0;34m=\u001b[0m\u001b[0mtorch\u001b[0m\u001b[0;34m.\u001b[0m\u001b[0mfrom_numpy\u001b[0m\u001b[0;34m(\u001b[0m\u001b[0mnp\u001b[0m\u001b[0;34m.\u001b[0m\u001b[0mvstack\u001b[0m\u001b[0;34m(\u001b[0m\u001b[0;34m[\u001b[0m\u001b[0me\u001b[0m\u001b[0;34m[\u001b[0m\u001b[0;36m3\u001b[0m\u001b[0;34m]\u001b[0m \u001b[0;32mfor\u001b[0m \u001b[0me\u001b[0m \u001b[0;32min\u001b[0m \u001b[0mexperiences\u001b[0m \u001b[0;32mif\u001b[0m \u001b[0me\u001b[0m \u001b[0;32mis\u001b[0m \u001b[0;32mnot\u001b[0m \u001b[0;32mNone\u001b[0m\u001b[0;34m]\u001b[0m\u001b[0;34m)\u001b[0m\u001b[0;34m)\u001b[0m\u001b[0;34m.\u001b[0m\u001b[0mfloat\u001b[0m\u001b[0;34m(\u001b[0m\u001b[0;34m)\u001b[0m\u001b[0;34m.\u001b[0m\u001b[0mto\u001b[0m\u001b[0;34m(\u001b[0m\u001b[0mself\u001b[0m\u001b[0;34m.\u001b[0m\u001b[0mdevice\u001b[0m\u001b[0;34m)\u001b[0m\u001b[0;34m\u001b[0m\u001b[0;34m\u001b[0m\u001b[0m\n\u001b[0;32m---> 18\u001b[0;31m     \u001b[0mdones\u001b[0m\u001b[0;34m=\u001b[0m\u001b[0mtorch\u001b[0m\u001b[0;34m.\u001b[0m\u001b[0mfrom_numpy\u001b[0m\u001b[0;34m(\u001b[0m\u001b[0mnp\u001b[0m\u001b[0;34m.\u001b[0m\u001b[0mvstack\u001b[0m\u001b[0;34m(\u001b[0m\u001b[0;34m[\u001b[0m\u001b[0me\u001b[0m\u001b[0;34m[\u001b[0m\u001b[0;36m4\u001b[0m\u001b[0;34m]\u001b[0m \u001b[0;32mfor\u001b[0m \u001b[0me\u001b[0m \u001b[0;32min\u001b[0m \u001b[0mexperiences\u001b[0m \u001b[0;32mif\u001b[0m \u001b[0me\u001b[0m \u001b[0;32mis\u001b[0m \u001b[0;32mnot\u001b[0m \u001b[0;32mNone\u001b[0m\u001b[0;34m]\u001b[0m\u001b[0;34m)\u001b[0m\u001b[0;34m)\u001b[0m\u001b[0;34m.\u001b[0m\u001b[0mastype\u001b[0m\u001b[0;34m(\u001b[0m\u001b[0mnp\u001b[0m\u001b[0;34m.\u001b[0m\u001b[0muint8\u001b[0m\u001b[0;34m)\u001b[0m\u001b[0;34m.\u001b[0m\u001b[0mfloat\u001b[0m\u001b[0;34m(\u001b[0m\u001b[0;34m)\u001b[0m\u001b[0;34m.\u001b[0m\u001b[0mto\u001b[0m\u001b[0;34m(\u001b[0m\u001b[0mself\u001b[0m\u001b[0;34m.\u001b[0m\u001b[0mdevice\u001b[0m\u001b[0;34m)\u001b[0m\u001b[0;34m\u001b[0m\u001b[0;34m\u001b[0m\u001b[0m\n\u001b[0m\u001b[1;32m     19\u001b[0m     \u001b[0;32mreturn\u001b[0m \u001b[0mstates\u001b[0m\u001b[0;34m,\u001b[0m\u001b[0mnext_states\u001b[0m\u001b[0;34m,\u001b[0m\u001b[0mactions\u001b[0m\u001b[0;34m,\u001b[0m\u001b[0mrewards\u001b[0m\u001b[0;34m,\u001b[0m\u001b[0mdones\u001b[0m\u001b[0;34m\u001b[0m\u001b[0;34m\u001b[0m\u001b[0m\n",
            "\u001b[0;31mAttributeError\u001b[0m: 'Tensor' object has no attribute 'astype'"
          ]
        }
      ]
    },
    {
      "cell_type": "markdown",
      "metadata": {
        "id": "O8CNwdOTcCoP"
      },
      "source": [
        "## Part 3 - Visualizing the results"
      ]
    },
    {
      "cell_type": "code",
      "execution_count": null,
      "metadata": {
        "id": "cb9nVvU2Okhk",
        "colab": {
          "base_uri": "https://localhost:8080/",
          "height": 459
        },
        "outputId": "53fbaae8-5cd8-4e77-c9be-36c1bd422948"
      },
      "outputs": [
        {
          "output_type": "stream",
          "name": "stderr",
          "text": [
            "WARNING:imageio_ffmpeg:IMAGEIO FFMPEG_WRITER WARNING: input image is not divisible by macro_block_size=16, resizing from (600, 400) to (608, 400) to ensure video compatibility with most codecs and players. To prevent resizing, make your input image divisible by the macro_block_size or set the macro_block_size to 1 (risking incompatibility).\n"
          ]
        },
        {
          "output_type": "display_data",
          "data": {
            "text/plain": [
              "<IPython.core.display.HTML object>"
            ],
            "text/html": [
              "<video alt=\"test\" autoplay\n",
              "                loop controls style=\"height: 400px;\">\n",
              "                <source src=\"data:video/mp4;base64,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\" type=\"video/mp4\" />\n",
              "             </video>"
            ]
          },
          "metadata": {}
        }
      ],
      "source": [
        "import glob\n",
        "import io\n",
        "import base64\n",
        "import imageio\n",
        "from IPython.display import HTML, display\n",
        "\n",
        "def show_video_of_model(agent, env_name):\n",
        "    env = gym.make(env_name, render_mode='rgb_array')\n",
        "    state, _ = env.reset()\n",
        "    done = False\n",
        "    frames = []\n",
        "    while not done:\n",
        "        frame = env.render()\n",
        "        frames.append(frame)\n",
        "        action = agent.act(state)\n",
        "        state, reward, done, _, _ = env.step(action.item())\n",
        "    env.close()\n",
        "    imageio.mimsave('video.mp4', frames, fps=30)\n",
        "\n",
        "show_video_of_model(agent, 'LunarLander-v3')\n",
        "\n",
        "def show_video():\n",
        "    mp4list = glob.glob('*.mp4')\n",
        "    if len(mp4list) > 0:\n",
        "        mp4 = mp4list[0]\n",
        "        video = io.open(mp4, 'r+b').read()\n",
        "        encoded = base64.b64encode(video)\n",
        "        display(HTML(data='''<video alt=\"test\" autoplay\n",
        "                loop controls style=\"height: 400px;\">\n",
        "                <source src=\"data:video/mp4;base64,{0}\" type=\"video/mp4\" />\n",
        "             </video>'''.format(encoded.decode('ascii'))))\n",
        "    else:\n",
        "        print(\"Could not find video\")\n",
        "\n",
        "show_video()"
      ]
    }
  ],
  "metadata": {
    "colab": {
      "provenance": [],
      "include_colab_link": true
    },
    "kernelspec": {
      "display_name": "Python 3",
      "name": "python3"
    },
    "language_info": {
      "name": "python"
    }
  },
  "nbformat": 4,
  "nbformat_minor": 0
}